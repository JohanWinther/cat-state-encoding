{
 "cells": [
  {
   "cell_type": "markdown",
   "metadata": {},
   "source": [
    "$ \\newcommand{\\ket}[1]{\\left|{#1}\\right\\rangle}\n",
    "\\newcommand{\\bra}[1]{\\left\\langle{#1}\\right|} $\n",
    "$\\newcommand{\\au}{\\hat{a}^\\dagger}$\n",
    "$\\newcommand{\\ad}{\\hat{a}}$\n",
    "$\\newcommand{\\bu}{\\hat{b}^\\dagger}$\n",
    "$\\newcommand{\\bd}{\\hat{b}}$\n",
    "# Cat state encoding\n",
    "The main goal is to find control pulses which will realise the state transfer:\n",
    "$$ \\underbrace{(c_0\\ket{0} + c_1\\ket{1})}_{\\text{Qubit}}\\underbrace{\\ket{0}}_{\\text{Cavity}} \\rightarrow \\ket{0}(c_0\\ket{C_0} + c_1 \\ket{C_1}) $$\n",
    "where $ \\ket{C_0} \\propto \\ket{-\\alpha} + \\ket{\\alpha} $ is the logical zero and $ \\ket{C_1} \\propto \\ket{-i\\alpha} + \\ket{i\\alpha} $ is the logical one. The method is to optimise such that the six cardinal points on the Bloch sphere realise these cavity cat states and puts the qubit to the ground state."
   ]
  },
  {
   "cell_type": "code",
   "execution_count": 57,
   "metadata": {},
   "outputs": [],
   "source": [
    "%matplotlib inline\n",
    "import numpy as np\n",
    "import matplotlib.pyplot as plt\n",
    "import datetime\n",
    "from matplotlib import animation, rc\n",
    "from IPython.display import HTML"
   ]
  },
  {
   "cell_type": "code",
   "execution_count": 58,
   "metadata": {},
   "outputs": [],
   "source": [
    "from qutip import *\n",
    "#from qutip import identity, sigmax, sigmay, sigmaz, sigmam, sigmap, tensor, projection, create, destroy, displace\n",
    "#from qutip import Qobj, basis, coherent, mesolve, fock\n",
    "#from qutip import expect\n",
    "from qutip.superoperator import liouvillian, sprepost\n",
    "from qutip.qip import hadamard_transform\n",
    "from qutip.visualization import plot_wigner, plot_wigner_fock_distribution\n",
    "from qutip.ipynbtools import plot_animation\n",
    "import qutip.logging_utils as logging\n",
    "#from qutip import Bloch\n",
    "logger = logging.get_logger()\n",
    "#Set this to None or logging.WARN for 'quiet' execution\n",
    "log_level = logging.WARN\n",
    "#log_level = logging.WARN\n",
    "#QuTiP control modules\n",
    "import qutip.control.pulseoptim as cpo\n",
    "from numpy import pi, sqrt\n",
    "file_name = 'Test1'"
   ]
  },
  {
   "cell_type": "code",
   "execution_count": 59,
   "metadata": {},
   "outputs": [],
   "source": [
    "from time import time\n",
    "\n",
    "def printTime(start):\n",
    "    end = time()\n",
    "    duration = end - start\n",
    "    if duration < 60:\n",
    "        return \"used: \" + str(round(duration, 2)) + \"s.\"\n",
    "    else:\n",
    "        mins = int(duration / 60)\n",
    "        secs = round(duration % 60, 2)\n",
    "        if mins < 60:\n",
    "            return \"used: \" + str(mins) + \"m \" + str(secs) + \"s.\"\n",
    "        else:\n",
    "            hours = int(duration / 3600)\n",
    "            mins = mins % 60\n",
    "            return \"used: \" + str(hours) + \"h \" + str(mins) + \"m \" + str(secs) + \"s.\"\n"
   ]
  },
  {
   "cell_type": "markdown",
   "metadata": {},
   "source": [
    "# Physics\n",
    "## Hamiltonian\n",
    "$$ \\hat{H} =  \\underbrace{(\\omega_a - \\chi_{sa}\\au\\ad)\\bu\\bd}_{\\text{Storage-ancilla coupling}} +\\, \\omega_s\\au\\ad  \\,-\\, \\frac{K_s}{2}\\au{}^2\\ad{}^2 \\,-\\, \\frac{K_a}{2}\\bu{}^2\\bd{}^2 \\,+\\, \\underbrace{\\epsilon_a(t)\\bu + \\epsilon_a^*(t)\\bd}_{\\text{Qubit drive}} \\,+\\, \\underbrace{\\epsilon_s(t)\\au + \\epsilon_s^*(t)\\ad}_{\\text{Res drive}} $$\n",
    "\n",
    "$$ \\bu\\bd = \\ket{1}\\bra{1} = \\sigma_-\\sigma_+ $$"
   ]
  },
  {
   "cell_type": "code",
   "execution_count": 336,
   "metadata": {
    "scrolled": false
   },
   "outputs": [],
   "source": [
    "N = 3\n",
    "b = destroy(N)\n",
    "Sx = identity(N).full()\n",
    "Sx[0:N-1,0:N-1] = sigmax().full()\n",
    "Sx = Qobj(Sx)\n",
    "\n",
    "def hamiltonian(w_ge, alpha):\n",
    "    H0 = w_ge/2.0 * b.dag()*b + alpha/2.0 * b.dag()**2 * b**2\n",
    "    return H0\n",
    "\n",
    "w_ge = 2*pi\n",
    "alpha = -0.03226\n",
    "H = hamiltonian(w_ge, alpha)"
   ]
  },
  {
   "cell_type": "markdown",
   "metadata": {},
   "source": [
    "# System check\n",
    "Some tests to see if the system is setup correctly"
   ]
  },
  {
   "cell_type": "code",
   "execution_count": 337,
   "metadata": {},
   "outputs": [],
   "source": [
    "check_systems = True"
   ]
  },
  {
   "cell_type": "code",
   "execution_count": 377,
   "metadata": {},
   "outputs": [
    {
     "data": {
      "text/latex": [
       "Quantum object: dims = [[3], [1]], shape = (3, 1), type = ket\\begin{equation*}\\left(\\begin{array}{*{11}c}0.0\\\\1.0\\\\0.0\\\\\\end{array}\\right)\\end{equation*}"
      ],
      "text/plain": [
       "Quantum object: dims = [[3], [1]], shape = (3, 1), type = ket\n",
       "Qobj data =\n",
       "[[0.]\n",
       " [1.]\n",
       " [0.]]"
      ]
     },
     "execution_count": 377,
     "metadata": {},
     "output_type": "execute_result"
    }
   ],
   "source": [
    "1/9*(b + b.dag())**5*basis(N,0)"
   ]
  },
  {
   "cell_type": "markdown",
   "metadata": {},
   "source": [
    "# Energy spectrum"
   ]
  },
  {
   "cell_type": "code",
   "execution_count": 338,
   "metadata": {},
   "outputs": [
    {
     "name": "stdout",
     "output_type": "stream",
     "text": [
      "E2 is -0.03225999999999907 than the harmonic level\n"
     ]
    },
    {
     "data": {
      "image/png": "[encoded data removed]",
      "text/plain": [
       "<Figure size 432x288 with 1 Axes>"
      ]
     },
     "metadata": {
      "needs_background": "light"
     },
     "output_type": "display_data"
    }
   ],
   "source": [
    "x = [0, 1]\n",
    "E = H.eigenenergies()\n",
    "for e in E:\n",
    "    plt.plot(x,[e, e])\n",
    "    plt.ylabel('Energy')\n",
    "print(\"E2 is {} than the harmonic level\".format(E[2]-2*E[1]+E[0]))"
   ]
  },
  {
   "cell_type": "markdown",
   "metadata": {},
   "source": [
    "## Time evolution of pulse"
   ]
  },
  {
   "cell_type": "code",
   "execution_count": 402,
   "metadata": {},
   "outputs": [
    {
     "name": "stdout",
     "output_type": "stream",
     "text": [
      "10.0%. Run time:   0.10s. Est. time left: 00:00:00:00\n",
      "20.0%. Run time:   0.19s. Est. time left: 00:00:00:00\n",
      "30.0%. Run time:   0.28s. Est. time left: 00:00:00:00\n",
      "40.0%. Run time:   0.36s. Est. time left: 00:00:00:00\n",
      "50.0%. Run time:   0.45s. Est. time left: 00:00:00:00\n",
      "60.0%. Run time:   0.54s. Est. time left: 00:00:00:00\n",
      "70.0%. Run time:   0.63s. Est. time left: 00:00:00:00\n",
      "80.0%. Run time:   0.72s. Est. time left: 00:00:00:00\n",
      "90.0%. Run time:   0.80s. Est. time left: 00:00:00:00\n",
      "Total run time:   0.88s\n"
     ]
    }
   ],
   "source": [
    "def pulse_verification(H0, ctrls, psi0, uks, gate_time):\n",
    "    Hops = ctrls\n",
    "    gate_steps = len(uks)\n",
    "\n",
    "    # H0 and Hops\n",
    "    H0_qobj = H0\n",
    "    Hops_qobj = ctrls\n",
    "\n",
    "    # define time    \n",
    "    tlist = np.linspace(0,gate_time,gate_steps+1)\n",
    "    dt = gate_time/gate_steps\n",
    "    \n",
    "    # append zero control pulse at the end of uks (final timestep)\n",
    "    uks_t0 = np.zeros((uks.shape[0],1))\n",
    "    uks = np.hstack([uks,uks_t0])\n",
    "\n",
    "    # looping over each initial vector\n",
    "    for init_vector_id in range(len(initial_vectors_c)):\n",
    "\n",
    "        # initial vector\n",
    "        psi0 = qt.Qobj(initial_vectors_c[init_vector_id])\n",
    "\n",
    "        # make functions to return uks field\n",
    "        def make_get_uks_func(id):\n",
    "            def _function(t,args=None):\n",
    "                time_id = int(t/dt)\n",
    "                return uks[id][time_id]\n",
    "            return _function\n",
    "\n",
    "        # create the time-dependent Hamiltonian list\n",
    "        Ht_list = []\n",
    "        Ht_list.append(H0_qobj)\n",
    "        for ii in range(len(Hops)):\n",
    "            Ht_list.append([Hops_qobj[ii],make_get_uks_func(ii)])\n",
    "\n",
    "        # solving the Schrodinger evolution in QuTiP's sesolve\n",
    "        output = qt.sesolve(Ht_list, psi0, tlist, [])\n",
    "\n",
    "        # obtaining the simulation result\n",
    "        state_tlist = []\n",
    "        for state in output.states:\n",
    "            state_tlist.append(state.full())\n",
    "        state_tlist = np.array(state_tlist)[:,:,0]\n",
    "        state_tlist = np.transpose(state_tlist)\n",
    "\n",
    "\n",
    "        # absolute difference of simulation result from Tensorflow and QuTiP\n",
    "        abs_diff = np.abs(state_tlist) - np.abs(inter_vecs_raw[init_vector_id])        \n",
    "        max_abs_diff_list.append(np.max(abs_diff))\n",
    "\n",
    "        # if all close between simulation result from Tensorflow and QuTiP\n",
    "        all_close = np.allclose(state_tlist,inter_vecs_raw[init_vector_id],atol=atol)        \n",
    "        all_close_list.append(all_close)\n",
    "\n",
    "    print(\"QuTiP simulation verification result for each initial state\")\n",
    "    print(\"================================================\")\n",
    "    print(\"max abs diff: \" + str(max_abs_diff_list))\n",
    "    print(\"all close: \" + str(all_close_list))\n",
    "    print(\"================================================\")"
   ]
  },
  {
   "cell_type": "markdown",
   "metadata": {},
   "source": [
    "### Expectation values"
   ]
  },
  {
   "cell_type": "code",
   "execution_count": 403,
   "metadata": {},
   "outputs": [
    {
     "data": {
      "image/png": "[encoded data removed]",
      "text/plain": [
       "<Figure size 576x360 with 1 Axes>"
      ]
     },
     "metadata": {
      "needs_background": "light"
     },
     "output_type": "display_data"
    }
   ],
   "source": [
    "if check_systems:\n",
    "    nq_list = expect(b.dag()*b, res.states)\n",
    "    fig, ax = plt.subplots(sharex=True,figsize=(8,5))\n",
    "    ax.plot(tlist, nq_list, label=\"Atom excited state\")\n",
    "    ax.legend()\n",
    "    ax.set_xlabel('Time (1/$\\\\omega_{ge}$)')\n",
    "    ax.set_ylabel('Occupation probability');\n",
    "    fig.tight_layout()"
   ]
  },
  {
   "cell_type": "code",
   "execution_count": 401,
   "metadata": {},
   "outputs": [],
   "source": [
    "def plot_states(states, is_qubit = False):\n",
    "    f = plt.figure(figsize=(6*len(states), 6));\n",
    "    for i, state in enumerate(states):\n",
    "        if is_qubit:\n",
    "            ax = f.add_subplot(1,len(states),i+1, projection='3d')\n",
    "            bl = Bloch(fig=f, axes=ax)\n",
    "            bl.add_states(state)\n",
    "            bl.render(fig=f, axes=ax);\n",
    "            #bl.show()\n",
    "        else:\n",
    "            plot_wigner_fock_distribution(state);\n",
    "    f.show();"
   ]
  },
  {
   "cell_type": "code",
   "execution_count": 435,
   "metadata": {},
   "outputs": [],
   "source": [
    "# Time allowed for the evolution\n",
    "evo_time = 4\n",
    "# Number of time slots\n",
    "n_ts = 50"
   ]
  },
  {
   "cell_type": "code",
   "execution_count": 436,
   "metadata": {},
   "outputs": [],
   "source": [
    "# Fidelity error target\n",
    "fid_err_targ = 1e-8\n",
    "# Maximum iterations for the optisation algorithm\n",
    "max_iter = 1000\n",
    "# Maximum (elapsed) time allowed in seconds\n",
    "max_wall_time = 60*1\n",
    "# Minimum gradient (sum of gradients squared)\n",
    "# as this tends to 0 -> local minima has been found\n",
    "min_grad = 1e-20\n",
    "# pulse type alternatives: RND|ZERO|LIN|SINE|SQUARE|SAW|TRIANGLE|\n",
    "p_type = 'RND'\n",
    "#Set to None to suppress output files\n",
    "#f_ext = \"{}_n_ts{}_ptype{}.txt\".format(example_name, n_ts, p_type)\n",
    "f_ext = None"
   ]
  },
  {
   "cell_type": "code",
   "execution_count": 437,
   "metadata": {
    "scrolled": false
   },
   "outputs": [
    {
     "name": "stdout",
     "output_type": "stream",
     "text": [
      "Initial fidelity: 0.0\n",
      "\n",
      "------------------------------------\n",
      "---- Control optimisation stats ----\n",
      "**** Timings (HH:MM:SS.US) ****\n",
      "Total wall time elapsed during optimisation: 0:00:24.121677\n",
      "Wall time computing Hamiltonians: 0:00:00.400375 (1.66%)\n",
      "Wall time computing propagators: 0:00:21.451418 (88.93%)\n",
      "Wall time computing forward propagation: 0:00:00.133883 (0.56%)\n",
      "Wall time computing onward propagation: 0:00:00.160595 (0.67%)\n",
      "Wall time computing gradient: 0:00:01.431517 (5.93%)\n",
      "\n",
      "**** Iterations and function calls ****\n",
      "Number of iterations: 1000\n",
      "Number of fidelity function calls: 1340\n",
      "Number of times fidelity is computed: 1340\n",
      "Number of gradient function calls: 1340\n",
      "Number of times gradients are computed: 1340\n",
      "Number of times timeslot evolution is recomputed: 1340\n",
      "\n",
      "**** Control amplitudes ****\n",
      "Number of control amplitude updates: 1339\n",
      "Mean number of updates per iteration: 1.339\n",
      "Number of timeslot values changed: 66533\n",
      "Mean number of timeslot changes per update: 49.68857356235997\n",
      "Number of amplitude values changed: 66533\n",
      "Mean number of amplitude changes per update: 49.68857356235997\n",
      "------------------------------------\n",
      "Final evolution\n",
      "Quantum object: dims = [[3], [1]], shape = (3, 1), type = ket\n",
      "Qobj data =\n",
      "[[  1.        ]\n",
      " [-48.96092077]\n",
      " [ -0.81924286]]\n",
      "\n",
      "********* Summary *****************\n",
      "Initial fidelity error 92095504628440.89\n",
      "Final fidelity error 416.2941272105443\n",
      "Final gradient normal 67253.52294669686\n",
      "Terminated due to Iteration or fidelity function call limit reached\n",
      "Number of iterations 1000\n",
      "Completed in 0:00:24.121677 HH:MM:SS.US\n"
     ]
    }
   ],
   "source": [
    "phi = basis(N,0)\n",
    "phi_targ = basis(N,1)\n",
    "print(\"Initial fidelity: {}\".format(fidelity((phi),(phi_targ))))\n",
    "\n",
    "ctrls = [b.dag()]\n",
    "\n",
    "result = cpo.optimize_pulse(H, ctrls, phi, phi_targ, n_ts, evo_time, \n",
    "                fid_err_targ=fid_err_targ, min_grad=min_grad, \n",
    "                max_iter=max_iter, max_wall_time=max_wall_time, \n",
    "                out_file_ext=f_ext, init_pulse_type=p_type, \n",
    "                log_level=log_level, gen_stats=True,\n",
    "                            amp_ubound = 1,amp_lbound = -1,\n",
    "                fid_params={'phase_option':'SU'},\n",
    "                fid_type='TRACEDIFF',)\n",
    "result.stats.report()\n",
    "print(\"Final evolution\\n{}\\n\".format(result.evo_full_final))\n",
    "print(\"********* Summary *****************\")\n",
    "print(\"Initial fidelity error {}\".format(result.initial_fid_err))\n",
    "print(\"Final fidelity error {}\".format(result.fid_err))\n",
    "print(\"Final gradient normal {}\".format(result.grad_norm_final))\n",
    "print(\"Terminated due to {}\".format(result.termination_reason))\n",
    "print(\"Number of iterations {}\".format(result.num_iter))\n",
    "print(\"Completed in {} HH:MM:SS.US\".format(datetime.timedelta(seconds=result.wall_time)))"
   ]
  },
  {
   "cell_type": "code",
   "execution_count": 438,
   "metadata": {
    "scrolled": false
   },
   "outputs": [
    {
     "data": {
      "text/plain": [
       "<Figure size 1296x432 with 0 Axes>"
      ]
     },
     "metadata": {},
     "output_type": "display_data"
    },
    {
     "data": {
      "image/png": "[encoded data removed]",
      "text/plain": [
       "<Figure size 576x288 with 2 Axes>"
      ]
     },
     "metadata": {
      "needs_background": "light"
     },
     "output_type": "display_data"
    },
    {
     "data": {
      "image/png": "[encoded data removed]",
      "text/plain": [
       "<Figure size 576x288 with 2 Axes>"
      ]
     },
     "metadata": {
      "needs_background": "light"
     },
     "output_type": "display_data"
    },
    {
     "data": {
      "image/png": "[encoded data removed]",
      "text/plain": [
       "<Figure size 576x288 with 2 Axes>"
      ]
     },
     "metadata": {
      "needs_background": "light"
     },
     "output_type": "display_data"
    }
   ],
   "source": [
    "states = [phi, phi_targ, result.evo_full_final]\n",
    "#qubit_states = [s.ptrace(0) for s in states]\n",
    "#res_states = [s.ptrace(1) for s in states]\n",
    "#plot_states(states, True)\n",
    "plot_states(states)"
   ]
  },
  {
   "cell_type": "code",
   "execution_count": 439,
   "metadata": {},
   "outputs": [
    {
     "data": {
      "image/png": "[encoded data removed]",
      "text/plain": [
       "<Figure size 432x288 with 2 Axes>"
      ]
     },
     "metadata": {
      "needs_background": "light"
     },
     "output_type": "display_data"
    }
   ],
   "source": [
    "def plot_control_pulses(result):\n",
    "    fig1 = plt.figure()\n",
    "    ax1 = fig1.add_subplot(2, 1, 1)\n",
    "    ax1.set_title(\"Initial control amps\")\n",
    "    ax1.set_xlabel(\"Time\")\n",
    "    ax1.set_ylabel(\"Control amplitude\")\n",
    "    ax2 = fig1.add_subplot(2, 1, 2)\n",
    "    ax2.set_title(\"Optimised Control Sequences\")\n",
    "    ax2.set_xlabel(\"Time\")\n",
    "    ax2.set_ylabel(\"Control amplitude\")\n",
    "    for i in range(len(ctrls)):\n",
    "        ax1.step(result.time, \n",
    "                 np.hstack((result.initial_amps[:, i], result.initial_amps[-1, i])), \n",
    "                 where='post')\n",
    "        ax2.step(result.time, \n",
    "         np.hstack((result.final_amps[:, i], result.final_amps[-1, i])), \n",
    "         where='post')\n",
    "    fig1.tight_layout()\n",
    "    \n",
    "plot_control_pulses(result)"
   ]
  },
  {
   "cell_type": "code",
   "execution_count": null,
   "metadata": {},
   "outputs": [],
   "source": []
  }
 ],
 "metadata": {
  "kernelspec": {
   "display_name": "Python 3",
   "language": "python",
   "name": "python3"
  },
  "language_info": {
   "codemirror_mode": {
    "name": "ipython",
    "version": 3
   },
   "file_extension": ".py",
   "mimetype": "text/x-python",
   "name": "python",
   "nbconvert_exporter": "python",
   "pygments_lexer": "ipython3",
   "version": "3.7.2"
  }
 },
 "nbformat": 4,
 "nbformat_minor": 2
}
