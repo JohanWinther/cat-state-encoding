{
 "cells": [
  {
   "cell_type": "code",
   "execution_count": null,
   "metadata": {},
   "outputs": [],
   "source": [
    "def plot_setup(result):\n",
    "    fig, axes = plt.subplots(1,1,figsize=(8,8))\n",
    "    return fig, axes\n",
    "\n",
    "def plot_result(result, n, fig=None, axes=None):\n",
    "    if fig is None or axes is None:\n",
    "        fig, axes = plot_setup(result)\n",
    "    axes.clear()\n",
    "    axes.plot(result[0][n],result[1][n], 'k.', linewidth=2)\n",
    "    axes.set_xlim(-6,6)\n",
    "    axes.set_ylim(-6,6)\n",
    "    return fig, axes\n",
    "\n",
    "import base64\n",
    "def plot_animation(plot_setup_func, plot_func, result, name=\"movie\",fps=10,\n",
    "                   writer=\"avconv\", codec=\"libx264\", verbose=False):\n",
    "    \"\"\"\n",
    "    Create an animated plot of a Result object, as returned by one of\n",
    "    the qutip evolution solvers.\n",
    "    .. note :: experimental\n",
    "    \"\"\"\n",
    "\n",
    "    fig, axes = plot_setup_func(result)\n",
    "\n",
    "    def update(n):\n",
    "        return plot_func(result, n, fig=fig, axes=axes)\n",
    "    ims = []\n",
    "    for i in range(len(result[0])):\n",
    "        fig, axes = plot_func(result, i, fig, axes)\n",
    "        ims.append([axes])\n",
    "    #anim = animation.FuncAnimation(\n",
    "    #    fig, update, frames=len(result[0]), blit=True)\n",
    "    anim = animation.ArtistAnimation(fig, ims, interval=500, blit=True)\n",
    "    anim.save(name, fps=fps, writer=writer, codec=codec)\n",
    "\n",
    "    plt.close(fig)\n",
    "\n",
    "    #if verbose:\n",
    "    #    print(\"Created %s\" % name)\n",
    "\n",
    "    video = open(name, \"rb\").read()\n",
    "    video_encoded = base64.b64encode(video).decode(\"ascii\")\n",
    "    video_tag = '<video controls src=\"data:video/webm;base64,{0}\">'.format(\n",
    "       video_encoded, 'webm')\n",
    "    #video_tag = '<img src=\"data:image/gif;base64,{0}\" />'.format(video_encoded)\n",
    "    return HTML(video_tag)\n",
    "    \n",
    "xc_list = expect((a + a.dag()), res.states)\n",
    "yc_list = expect(-1j*(a - a.dag()), res.states)\n",
    "result = (xc_list, yc_list)\n",
    "#f, ax = plot_setup(result)\n",
    "#plot_result(result, 2, f, ax)\n",
    "plot_animation(plot_setup, plot_result, result, name='test.webm', fps=10, writer='ffmpeg',codec='libvpx-vp9')\n",
    "#anim = animation.ArtistAnimation(fig, ims, interval=500, blit=True)\n",
    "#anim.save('hej.webm', fps=10, writer='ffmpeg', codec='libvpx-vp9')"
   ]
  }
 ],
 "metadata": {
  "kernelspec": {
   "display_name": "Python 3",
   "language": "python",
   "name": "python3"
  },
  "language_info": {
   "codemirror_mode": {
    "name": "ipython",
    "version": 3
   },
   "file_extension": ".py",
   "mimetype": "text/x-python",
   "name": "python",
   "nbconvert_exporter": "python",
   "pygments_lexer": "ipython3",
   "version": "3.7.1"
  }
 },
 "nbformat": 4,
 "nbformat_minor": 2
}
