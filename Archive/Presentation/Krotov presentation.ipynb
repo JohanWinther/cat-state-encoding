{
 "cells": [
  {
   "cell_type": "markdown",
   "metadata": {
    "slideshow": {
     "slide_type": "slide"
    }
   },
   "source": [
    "## Krotov’s method\n",
    "D. M. Reich, M. Ndong, and C. P. Koch, J. Chem. Phys. 136, 104103 (2012) (arXiv:1008.5126)\n",
    "\n",
    " - Krotov’s method is one of the two leading gradient-based optimization algorithms used in numerical quantum optimal control. (other one is GRAPE)\n",
    " - The goal is to optimise the shape of control pulses to realise a state transfer or a quantum gate.\n",
    " - Krotov simulates the dynamics of a quantum system under a set of initial controls, and evaluates the result with respect to an optimization functional to be minimized. It then iteratively modifies the controls to guarantee a monotonically decreasing value in the optimization functional."
   ]
  },
  {
   "cell_type": "markdown",
   "metadata": {
    "slideshow": {
     "slide_type": "slide"
    }
   },
   "source": [
    "## Features of the Python package: [Krotov](https://krotov.readthedocs.io/)\n",
    "- Built on top of [QuTiP](http://qutip.org) (which already implements GRAPE and CRAB)\n",
    "- Simultaneously optimize over an arbitrary list of objectives (e.g. multiple state-to-state transfers)\n",
    "- Optimize over multiple control fields at the same time\n",
    "- Arbitrary equations of motion (through a propagator callback function)\n",
    "- Arbitrary optimization functionals (through chi_constructor callback function)\n",
    "- Allows injection of arbitrary code (through modify_params_after_iter function)\n",
    "- Customizable parallelization of the propagation of different objectives\n",
    "- Customizable analysis and convergence check\n",
    "- Support for dissipative dynamics (Liouville space)\n",
    "- Convenience constructors for “ensemble optimization” to obtain robust controls"
   ]
  },
  {
   "cell_type": "markdown",
   "metadata": {
    "slideshow": {
     "slide_type": "slide"
    }
   },
   "source": [
    "## Advantages over GRAPE in QuTiP\n",
    "- Can start from an arbitrary set of guess controls. In the GRAPE implementation, guess pulses can only be chosen from a specific set of options (including “random”). This makes sense for a control field that is piecewise constant with relatively few switching points, but is very disadvantageous for time-continuous controls.\n",
    "- Krotov’s method has complete flexibility in which propagation method is used, while QuTiP’s GRAPE only allows to choose between fixed number of methods for time-propagation. Supplying a problem-specific propagator is not possible.\n",
    "- Save optimization into a dump file to continue later or restore after crashes.\n",
    "- Multiple convergence criteria.\n",
    "- Possible to change (some) parameters between iterations."
   ]
  },
  {
   "cell_type": "markdown",
   "metadata": {
    "slideshow": {
     "slide_type": "slide"
    }
   },
   "source": [
    "## How to use Krotov"
   ]
  },
  {
   "cell_type": "markdown",
   "metadata": {
    "slideshow": {
     "slide_type": "fragment"
    }
   },
   "source": [
    "```bash\n",
    "pip install krotov\n",
    "```"
   ]
  },
  {
   "cell_type": "code",
   "execution_count": 2,
   "metadata": {
    "slideshow": {
     "slide_type": "fragment"
    }
   },
   "outputs": [],
   "source": [
    "import krotov"
   ]
  },
  {
   "cell_type": "markdown",
   "metadata": {
    "slideshow": {
     "slide_type": "fragment"
    }
   },
   "source": [
    "- Define the necessary quantum operators and states using QuTiP.\n",
    "- Create a list of objectives, as instances of `krotov.Objective`\n",
    "- Call `krotov.optimize_pulses` to perform an optimization of an arbitrary number of control fields over all the objectives."
   ]
  },
  {
   "cell_type": "markdown",
   "metadata": {
    "slideshow": {
     "slide_type": "slide"
    }
   },
   "source": [
    "# Example of $|0\\rangle \\rightarrow |1\\rangle$ opt.\n",
    "https://krotov.readthedocs.io/en/latest/notebooks/01_example_simple_state_to_state.html"
   ]
  },
  {
   "cell_type": "code",
   "execution_count": 3,
   "metadata": {
    "slideshow": {
     "slide_type": "slide"
    }
   },
   "outputs": [
    {
     "name": "stdout",
     "output_type": "stream",
     "text": [
      "M. H. Goerz et al., Krotov: A Python implementation of Krotov's method for quantum optimal control, arXiv:1902.11284 (2019)\n"
     ]
    }
   ],
   "source": [
    "print(krotov.__citation__)"
   ]
  }
 ],
 "metadata": {
  "celltoolbar": "Slideshow",
  "kernelspec": {
   "display_name": "Python 3",
   "language": "python",
   "name": "python3"
  },
  "language_info": {
   "codemirror_mode": {
    "name": "ipython",
    "version": 3
   },
   "file_extension": ".py",
   "mimetype": "text/x-python",
   "name": "python",
   "nbconvert_exporter": "python",
   "pygments_lexer": "ipython3",
   "version": "3.7.2"
  }
 },
 "nbformat": 4,
 "nbformat_minor": 2
}
