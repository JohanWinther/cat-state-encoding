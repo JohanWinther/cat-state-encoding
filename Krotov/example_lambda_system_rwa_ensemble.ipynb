{
 "cells": [
  {
   "cell_type": "markdown",
   "metadata": {},
   "source": [
    "# Optimization of an ensemble state-to-state transfer in a Lambda system"
   ]
  },
  {
   "cell_type": "code",
   "execution_count": 1,
   "metadata": {
    "ExecuteTime": {
     "end_time": "2019-02-25T17:36:59.401589Z",
     "start_time": "2019-02-25T17:36:58.067052Z"
    },
    "attributes": {
     "classes": [],
     "id": "",
     "n": "1"
    }
   },
   "outputs": [
    {
     "name": "stdout",
     "output_type": "stream",
     "text": [
      "numpy            1.15.4\n",
      "scipy            1.2.0\n",
      "matplotlib.pylab 1.15.4\n",
      "krotov           0.3.0+dev\n",
      "matplotlib       3.0.2\n",
      "qutip            4.3.1\n",
      "CPython 3.6.8\n",
      "IPython 7.2.0\n"
     ]
    }
   ],
   "source": [
    "# NBVAL_IGNORE_OUTPUT\n",
    "%load_ext watermark\n",
    "import os\n",
    "import qutip\n",
    "import numpy as np\n",
    "import scipy\n",
    "import matplotlib\n",
    "import matplotlib.pylab as plt\n",
    "import krotov\n",
    "import qutip\n",
    "from qutip import Qobj\n",
    "import pickle\n",
    "%watermark -v --iversions"
   ]
  },
  {
   "cell_type": "markdown",
   "metadata": {},
   "source": [
    "$\\newcommand{tr}[0]{\\operatorname{tr}}\n",
    "\\newcommand{diag}[0]{\\operatorname{diag}}\n",
    "\\newcommand{abs}[0]{\\operatorname{abs}}\n",
    "\\newcommand{pop}[0]{\\operatorname{pop}}\n",
    "\\newcommand{aux}[0]{\\text{aux}}\n",
    "\\newcommand{opt}[0]{\\text{opt}}\n",
    "\\newcommand{tgt}[0]{\\text{tgt}}\n",
    "\\newcommand{init}[0]{\\text{init}}\n",
    "\\newcommand{lab}[0]{\\text{lab}}\n",
    "\\newcommand{rwa}[0]{\\text{rwa}}\n",
    "\\newcommand{bra}[1]{\\langle#1\\vert}\n",
    "\\newcommand{ket}[1]{\\vert#1\\rangle}\n",
    "\\newcommand{Bra}[1]{\\left\\langle#1\\right\\vert}\n",
    "\\newcommand{Ket}[1]{\\left\\vert#1\\right\\rangle}\n",
    "\\newcommand{Braket}[2]{\\left\\langle #1\\vphantom{#2} \\mid\n",
    "#2\\vphantom{#1}\\right\\rangle}\n",
    "\\newcommand{Ketbra}[2]{\\left\\vert#1\\vphantom{#2}\n",
    "\\right\\rangle \\hspace{-0.2em} \\left\\langle #2\\vphantom{#1} \\right\\vert}\n",
    "\\newcommand{op}[1]{\\hat{#1}}\n",
    "\\newcommand{Op}[1]{\\hat{#1}}\n",
    "\\newcommand{dd}[0]{\\,\\text{d}}\n",
    "\\newcommand{Liouville}[0]{\\mathcal{L}}\n",
    "\\newcommand{DynMap}[0]{\\mathcal{E}}\n",
    "\\newcommand{identity}[0]{\\mathbf{1}}\n",
    "\\newcommand{Norm}[1]{\\lVert#1\\rVert}\n",
    "\\newcommand{Abs}[1]{\\left\\vert#1\\right\\vert}\n",
    "\\newcommand{avg}[1]{\\langle#1\\rangle}\n",
    "\\newcommand{Avg}[1]{\\left\\langle#1\\right\\rangle}\n",
    "\\newcommand{AbsSq}[1]{\\left\\vert#1\\right\\vert^2}\n",
    "\\newcommand{Re}[0]{\\operatorname{Re}}\n",
    "\\newcommand{Im}[0]{\\operatorname{Im}}\n",
    "\\newcommand{toP}[0]{\\omega_{12}}\n",
    "\\newcommand{toS}[0]{\\omega_{23}}$"
   ]
  },
  {
   "cell_type": "markdown",
   "metadata": {},
   "source": [
    "$\\newcommand{tr}[0]{\\operatorname{tr}}\n",
    "\\newcommand{diag}[0]{\\operatorname{diag}}\n",
    "\\newcommand{abs}[0]{\\operatorname{abs}}\n",
    "\\newcommand{pop}[0]{\\operatorname{pop}}\n",
    "\\newcommand{aux}[0]{\\text{aux}}\n",
    "\\newcommand{opt}[0]{\\text{opt}}\n",
    "\\newcommand{tgt}[0]{\\text{tgt}}\n",
    "\\newcommand{init}[0]{\\text{init}}\n",
    "\\newcommand{lab}[0]{\\text{lab}}\n",
    "\\newcommand{rwa}[0]{\\text{rwa}}\n",
    "\\newcommand{bra}[1]{\\langle#1\\vert}\n",
    "\\newcommand{ket}[1]{\\vert#1\\rangle}\n",
    "\\newcommand{Bra}[1]{\\left\\langle#1\\right\\vert}\n",
    "\\newcommand{Ket}[1]{\\left\\vert#1\\right\\rangle}\n",
    "\\newcommand{Braket}[2]{\\left\\langle #1\\vphantom{#2} \\mid\n",
    "#2\\vphantom{#1}\\right\\rangle}\n",
    "\\newcommand{Ketbra}[2]{\\left\\vert#1\\vphantom{#2}\n",
    "\\right\\rangle \\hspace{-0.2em} \\left\\langle #2\\vphantom{#1}\\right\\vert}\n",
    "\\newcommand{e}[1]{\\mathrm{e}^{#1}}\n",
    "\\newcommand{op}[1]{\\hat{#1}}\n",
    "\\newcommand{Op}[1]{\\hat{#1}}\n",
    "\\newcommand{dd}[0]{\\,\\text{d}}\n",
    "\\newcommand{Liouville}[0]{\\mathcal{L}}\n",
    "\\newcommand{DynMap}[0]{\\mathcal{E}}\n",
    "\\newcommand{identity}[0]{\\mathbf{1}}\n",
    "\\newcommand{Norm}[1]{\\lVert#1\\rVert}\n",
    "\\newcommand{Abs}[1]{\\left\\vert#1\\right\\vert}\n",
    "\\newcommand{avg}[1]{\\langle#1\\rangle}\n",
    "\\newcommand{Avg}[1]{\\left\\langle#1\\right\\rangle}\n",
    "\\newcommand{AbsSq}[1]{\\left\\vert#1\\right\\vert^2}\n",
    "\\newcommand{Re}[0]{\\operatorname{Re}}\n",
    "\\newcommand{Im}[0]{\\operatorname{Im}}\n",
    "\\newcommand{toP}[0]{\\omega_{12}}\n",
    "\\newcommand{toS}[0]{\\omega_{23}}\n",
    "\\newcommand{oft}[0]{\\left(t\\right)}$\n",
    "This notebook should illustrate how to use krotov's `krotov.objectives.ensemble_objectives` function, which can be used to create an ensemble of objectives with different Hamiltonians. Using this, it is possible to achieve more robust optimization results.  \n",
    "The system under consideration is the Lambda system as defined in the [second example notebook](02_example_lambda_system_rwa_complex_pulse.ipynb)."
   ]
  },
  {
   "cell_type": "markdown",
   "metadata": {},
   "source": [
    "## Define the Hamiltonian"
   ]
  },
  {
   "cell_type": "markdown",
   "metadata": {},
   "source": [
    "The energylevels of our system are illustrated below (picture inspired by [\"Introduction to Quantum Mechanics: A Time-Dependent Perspective\" by David Tannor](http://www.weizmann.ac.il/chemphys/tannor/Book/))\n",
    "<img src=\"energylevels.png\" alt=\"Lambda system considered in this notebook\" width=\"500\">"
   ]
  },
  {
   "cell_type": "markdown",
   "metadata": {},
   "source": [
    "As mentioned in the second example, these levels interact with two pulses with the base frequency $\\omega_{\\mathrm{P}}$ (\"Pump\"-pulse) and $\\omega_{\\mathrm{S}}$ (\"Stokes\"-pulse), respectively. The pulses have time-dependent envelopes \n",
    "\\begin{align*}\n",
    "\\epsilon_{\\mathrm{P}}(t) &= \\frac{\\Omega_{\\mathrm{P}}^{(1)}(t)}{\\mu_{12}}\\cos({\\omega_{\\mathrm{P}}}t)\n",
    "                           +\\frac{\\Omega_{\\mathrm{P}}^{(2)}(t)}{\\mu_{12}}\\sin({\\omega_{\\mathrm{P}}}t) \\\\\n",
    "\\epsilon_{\\mathrm{S}}(t) &= \\frac{\\Omega_{\\mathrm{S}}^{(1)}(t)}{\\mu_{23}}\\cos({\\omega_{\\mathrm{S}}}t)\n",
    "                           +\\frac{\\Omega_{\\mathrm{S}}^{(2)}(t)}{\\mu_{23}}\\sin({\\omega_{\\mathrm{S}}}t),\n",
    "\\end{align*}\n",
    "With the coupling strength $\\mu_{ij}$ between the levels $i$ and $j$.\n",
    "The frequencies are chosen, such that they are close to the transition frequencies $\\ket{1}\\rightarrow\\ket{2}$ ($\\omega_{12}$) and $\\ket{3} \\rightarrow\\ket{2}$ ($\\omega_{32}$).\n",
    "By using the RWA, we obtain the Hamiltonian \n",
    "\n",
    "\\begin{equation*}\n",
    "\\hat{H} =  \\hbar \\begin{pmatrix}\n",
    "-\\Delta_{\\mathrm{P}} & \\Omega^{\\ast}_{\\mathrm{P}}(t) & 0 \\\\\n",
    "\\Omega_{\\mathrm{P}}(t) & 0 & \\Omega^{\\ast}_{\\mathrm{S}}(t) \\\\\n",
    "0 & \\Omega_{\\mathrm{S}}(t) & -\\Delta_{\\mathrm{S}}\n",
    "\\end{pmatrix},\n",
    "\\end{equation*}\n",
    "with $\\Delta_{\\mathrm{P}} = E_1 + \\omega_{\\mathrm{P}} - E_2$ and $\\Delta_{\\mathrm{S}} = E_3 + \\omega_{\\mathrm{S}} - E_2$.\n",
    "The envelopes become complex with $\\Omega_{\\mathrm{P}} = \\Omega^{(1)}_{\\mathrm{P}} + i\\Omega^{(2)}_{\\mathrm{P}}$ and $\\Omega_{\\mathrm{S}} = \\Omega^{(1)}_{\\mathrm{S}} + i\\Omega^{(2)}_{\\mathrm{S}}$.\n",
    "\n",
    "In the following, we will optimize the real and imaginary part of $\\Omega_{\\mathrm{S}}$ and $\\Omega_{\\mathrm{P}}$ independently. "
   ]
  },
  {
   "cell_type": "markdown",
   "metadata": {},
   "source": [
    "In some experiments, the amplitude of the laser might fluctuate and vary around the desired one. Therefore, we would like to make the optimization more robust against the fluctuation of the pulse amplitude. To create a set of Hamiltonians with varying coupling strengths, we add an additional factor to the function, returning the Hamiltonian:\n"
   ]
  },
  {
   "cell_type": "code",
   "execution_count": 2,
   "metadata": {
    "ExecuteTime": {
     "end_time": "2019-02-25T17:36:59.428292Z",
     "start_time": "2019-02-25T17:36:59.406753Z"
    },
    "attributes": {
     "classes": [],
     "id": "",
     "n": "2"
    }
   },
   "outputs": [],
   "source": [
    "T = 5.\n",
    "\n",
    "def ham_and_states(coupling_strength_fac=1.):\n",
    "    \"\"\"Lambda-system Hamiltonian\"\"\"\n",
    "    E1 = 0.\n",
    "    E2 = 10.\n",
    "    E3 = 5.\n",
    "    ω_P = 9.5\n",
    "    ω_S = 4.5\n",
    "    Ω_init = 5.\n",
    "    H0 =  Qobj([[E1+ω_P-E2, 0., 0.], \\\n",
    "                [0., 0., 0.],        \\\n",
    "                [0., 0., E3+ω_S-E2]])\n",
    "    \n",
    "        \n",
    "    H1P_re = -coupling_strength_fac*0.5*Qobj([[0.,1.,0.], [1.,0.,0.],[0.,0.,0.]])    \n",
    "    H1P_im = -coupling_strength_fac*0.5*Qobj([[0.,1.j,0.],[-1.j,0.,0.],[0.,0.,0.]])\n",
    "    ΩP_re = lambda t, args: Ω_init\n",
    "    ΩP_im = lambda t, args: Ω_init\n",
    "    \n",
    "    H1S_re = -coupling_strength_fac*0.5*Qobj([[0.,0.,0.],[0.,0.,1.],[0.,1.,0.]])\n",
    "    H1S_im = -coupling_strength_fac*0.5*Qobj([[0.,0.,0.],[0.,0.,1.j],[0.,-1.j,0.]])\n",
    "    ΩS_re = lambda t, args: Ω_init    \n",
    "    ΩS_im = lambda t, args: Ω_init\n",
    "    \n",
    "    \"\"\"Initial and target states\"\"\"\n",
    "    psi0 = qutip.Qobj(np.array([1.,0.,0.]))\n",
    "    psi1 = qutip.Qobj(np.array([0.,0.,1.]))    \n",
    "    \n",
    "    #State transformation to the rotating frame\n",
    "    psi1 *= np.exp(1j * (E2 - ω_S) * T)\n",
    "    \n",
    "    return ([H0, \\\n",
    "            [H1P_re, ΩP_re], [H1P_im, ΩP_im], \\\n",
    "            [H1S_re, ΩS_re], [H1S_im, ΩS_im]], \\\n",
    "            psi0, psi1)\n",
    "\n",
    "H, psi0, psi1 = ham_and_states()"
   ]
  },
  {
   "cell_type": "markdown",
   "metadata": {},
   "source": [
    "The following steps are in general the same as in the second example\n",
    "\n",
    "---"
   ]
  },
  {
   "cell_type": "markdown",
   "metadata": {},
   "source": [
    "We introduce projectors for each of the three energy levels\n",
    "$\\op{P}_{i} =\n",
    "\\Ketbra{i}{i}$"
   ]
  },
  {
   "cell_type": "code",
   "execution_count": 3,
   "metadata": {
    "ExecuteTime": {
     "end_time": "2019-02-25T17:36:59.462535Z",
     "start_time": "2019-02-25T17:36:59.451693Z"
    },
    "attributes": {
     "classes": [],
     "id": "",
     "n": "4"
    }
   },
   "outputs": [],
   "source": [
    "proj1 = Qobj([[1.,0.,0.],[0.,0.,0.],[0.,0.,0.]])\n",
    "proj2 = Qobj([[0.,0.,0.],[0.,1.,0.],[0.,0.,0.]])\n",
    "proj3 = Qobj([[0.,0.,0.],[0.,0.,0.],[0.,0.,1.]])"
   ]
  },
  {
   "cell_type": "markdown",
   "metadata": {},
   "source": [
    "## Define the optimization target\n",
    "\n",
    "In the following we consider dynamics acting\n",
    "over a duration of $\\Delta_{t} = 5$, beginning at\n",
    "$t_{0} = 0$ and ending at $T =\n",
    "\\Delta_{t}$. \n",
    "The time grid is divided into $n_{t} = 500$ equidistant time\n",
    "steps."
   ]
  },
  {
   "cell_type": "code",
   "execution_count": 4,
   "metadata": {
    "ExecuteTime": {
     "end_time": "2019-02-25T17:36:59.479057Z",
     "start_time": "2019-02-25T17:36:59.467852Z"
    },
    "attributes": {
     "classes": [],
     "id": "",
     "n": "5"
    }
   },
   "outputs": [],
   "source": [
    "t0 = 0.\n",
    "nt = 500\n",
    "tlist = np.linspace(t0, T, nt)"
   ]
  },
  {
   "cell_type": "markdown",
   "metadata": {},
   "source": [
    "We define the objective to be a state to state transfer from the initial state\n",
    "$\\Ket{\\Psi_{\\init}} = \\Ket{1}$ into the final state $\\Ket{\\Psi_{\\tgt}} =\n",
    "\\Ket{3}$ at the\n",
    "final time $t_{f}$."
   ]
  },
  {
   "cell_type": "code",
   "execution_count": 5,
   "metadata": {
    "ExecuteTime": {
     "end_time": "2019-02-25T17:36:59.489573Z",
     "start_time": "2019-02-25T17:36:59.483475Z"
    },
    "attributes": {
     "classes": [],
     "id": "",
     "n": "6"
    }
   },
   "outputs": [],
   "source": [
    "objectives = [ krotov.Objective(initial_state=psi0, target=psi1, H=H) ]"
   ]
  },
  {
   "cell_type": "markdown",
   "metadata": {},
   "source": [
    "## Initial guess shapes"
   ]
  },
  {
   "cell_type": "markdown",
   "metadata": {},
   "source": [
    "\"stimulated Raman adiabatic passage\" (STIRAP) is a\n",
    "process in which population in $\\Ket{1}$ is transferred into\n",
    "$\\Ket{3}$ without\n",
    "having to pass through $\\Ket{2}$ (which could for instance be a rapidly decaying\n",
    "level).\n",
    "In order for this process to occur, a temporally finite Stokes pulse of\n",
    "sufficient amplitude driving the $\\Ket{2} \\leftrightarrow \\Ket{3}$ transition is\n",
    "applied first, whilst second pump pulse of similar intensity follows some time\n",
    "later such that the pulses still have a partial temporal overlap.\n",
    "\n",
    "In order to\n",
    "demonstrate the Krotov's optimization method however, we choose an initial guess\n",
    "consisting of two low intensity and real Blackman pulses which are temporally\n",
    "disjoint.\n",
    "\n",
    "For the real components of the matrix elements, we supply our guess\n",
    "pulses shaped as Blackman window functions `S(t,offset)`, with an offset\n",
    "ensuring that the two pulses don't overlap.\n",
    "The imaginary components are coupled\n",
    "to pulses that are zero at all times."
   ]
  },
  {
   "cell_type": "code",
   "execution_count": 6,
   "metadata": {
    "ExecuteTime": {
     "end_time": "2019-02-25T17:36:59.504225Z",
     "start_time": "2019-02-25T17:36:59.493376Z"
    },
    "attributes": {
     "classes": [],
     "id": "",
     "n": "7"
    }
   },
   "outputs": [],
   "source": [
    "def S(t,offset):\n",
    "    \"\"\"Shape envelope function for the field update\"\"\"\n",
    "    return krotov.shapes.blackman(t,1.+offset,4.+offset)\n",
    "\n",
    "def shape_field_real(eps,offset):\n",
    "    \"\"\"Applies the total pulse shape to the real part of a guess pulse\"\"\"\n",
    "    field_shaped = lambda t, args: eps(t, args)*S(t,offset)\n",
    "    return field_shaped\n",
    "\n",
    "def shape_field_imag(eps,offset):\n",
    "    \"\"\"Initializes the imaginary parts of the guess pulses to zero\"\"\"\n",
    "    field_shaped = lambda t, args: eps(t, args)*0.\n",
    "    return field_shaped\n",
    "\n",
    "H[1][1] = shape_field_real(H[1][1],1.)\n",
    "H[2][1] = shape_field_imag(H[2][1],1.)\n",
    "H[3][1] = shape_field_real(H[3][1],-1.)\n",
    "H[4][1] = shape_field_imag(H[4][1],-1.)"
   ]
  },
  {
   "cell_type": "markdown",
   "metadata": {},
   "source": [
    "We choose an appropriate update factor $\\lambda_{a}$ for the problem at hand and\n",
    "make sure Krotov considers pulses which start and end with zero amplitude."
   ]
  },
  {
   "cell_type": "code",
   "execution_count": 7,
   "metadata": {
    "ExecuteTime": {
     "end_time": "2019-02-25T17:36:59.516313Z",
     "start_time": "2019-02-25T17:36:59.507855Z"
    },
    "attributes": {
     "classes": [],
     "id": "",
     "n": "8"
    }
   },
   "outputs": [],
   "source": [
    "def update_shape(t):\n",
    "    \"\"\"Scales the Krotov methods update of the pulse value at the time t\"\"\"\n",
    "    return krotov.shapes.flattop(t,0.,T,0.3,func='sinsq')"
   ]
  },
  {
   "cell_type": "code",
   "execution_count": 8,
   "metadata": {
    "ExecuteTime": {
     "end_time": "2019-02-25T17:36:59.527001Z",
     "start_time": "2019-02-25T17:36:59.519354Z"
    }
   },
   "outputs": [],
   "source": [
    "opt_lambda = .0020\n",
    "pulse_options = {\n",
    "    H[1][1]: dict(lambda_a=opt_lambda, shape=update_shape),\n",
    "    H[2][1]: dict(lambda_a=opt_lambda, shape=update_shape),\n",
    "    H[3][1]: dict(lambda_a=opt_lambda, shape=update_shape),\n",
    "    H[4][1]: dict(lambda_a=opt_lambda, shape=update_shape),\n",
    "}"
   ]
  },
  {
   "cell_type": "markdown",
   "metadata": {},
   "source": [
    "## Setting the ensemble objectives"
   ]
  },
  {
   "cell_type": "markdown",
   "metadata": {},
   "source": [
    "Up to this point, everything was very similar to the second example notebook.\n",
    "However, as mentioned above, we would like to obtain more robust pulses with respect to pulse amplitude fluctuations.\n",
    "Therefore, we use the `krotov.objectives.ensemble_objectives` function.\n",
    "This functions takes an ensemble of Hamiltonians, which we create in the following"
   ]
  },
  {
   "cell_type": "code",
   "execution_count": 9,
   "metadata": {},
   "outputs": [],
   "source": [
    "ham_ensemble=[]\n",
    "\n",
    "for coupl in np.arange(.90,1.11,.1): \n",
    "    if coupl == 1.:\n",
    "        continue\n",
    "    # 1. Creating the Hamiltonian, which will be part of the ensemble\n",
    "    singele_ensemble_hamiltonian,_,_ = ham_and_states(coupling_strength_fac=coupl)\n",
    "    \n",
    "    # 2. Linking the pulses of the Hamiltonians to those of the original one\n",
    "    singele_ensemble_hamiltonian[1][1] = H[1][1] #  left atom blue\n",
    "    singele_ensemble_hamiltonian[2][1] = H[2][1] #  left atom red\n",
    "    singele_ensemble_hamiltonian[3][1] = H[3][1] # right atom blue\n",
    "    singele_ensemble_hamiltonian[4][1] = H[4][1] # right atom red\n",
    "            \n",
    "    # 3. Adding the Hamiltonian to the overall ensemble\n",
    "    ham_ensemble.append(singele_ensemble_hamiltonian)\n",
    "        "
   ]
  },
  {
   "cell_type": "markdown",
   "metadata": {},
   "source": [
    "The creation of the hamiltonian ensemble has (in our case) three main parts:\n",
    "1. The creation of the Hamiltonian, where we used our function defined above and pass it the parameter we would like to vary\n",
    "2. Since we want to use the same pulses to optimize all Hamiltonians, we need to make sure, that the pulses of the new Hamiltonians are the same as those of the original one. We do this by assiging the pulses of `H` to the ensemble Hamiltonian in the second step\n",
    "3. Finally we add the Hamiltonian with the original pulses to the ensemble\n",
    "\n",
    "*Note: We ommit the parameter with `coupl==1.`, since this is the case of the original objective defined further above. This will also be added to the ensemble. If we would not do this, we would have this Hamiltonian twice in our ensemble objectives.*"
   ]
  },
  {
   "cell_type": "markdown",
   "metadata": {},
   "source": [
    "After having defined our Hamiltonian ensemble, we can now finally create our ensemble of objectives"
   ]
  },
  {
   "cell_type": "code",
   "execution_count": 10,
   "metadata": {},
   "outputs": [
    {
     "data": {
      "text/plain": [
       "[Objective[|(3)⟩ - {[Herm[3,3], [Herm[3,3], u1(t)], [Herm[3,3], u2(t)], [Herm[3,3], u3(t)], [Herm[3,3], u4(t)]]} - |(3)⟩],\n",
       " Objective[|(3)⟩ - {[Herm[3,3], [Herm[3,3], u1(t)], [Herm[3,3], u2(t)], [Herm[3,3], u3(t)], [Herm[3,3], u4(t)]]} - |(3)⟩],\n",
       " Objective[|(3)⟩ - {[Herm[3,3], [Herm[3,3], u1(t)], [Herm[3,3], u2(t)], [Herm[3,3], u3(t)], [Herm[3,3], u4(t)]]} - |(3)⟩]]"
      ]
     },
     "execution_count": 10,
     "metadata": {},
     "output_type": "execute_result"
    }
   ],
   "source": [
    "ensemble_objectives = krotov.objectives.ensemble_objectives(objectives, ham_ensemble)\n",
    "ensemble_objectives"
   ]
  },
  {
   "cell_type": "markdown",
   "metadata": {},
   "source": [
    "As you can see, we have here a list of different objectives, each containing a Hamiltonian coupling to the same pulse."
   ]
  },
  {
   "cell_type": "markdown",
   "metadata": {},
   "source": [
    "## Optimize"
   ]
  },
  {
   "cell_type": "markdown",
   "metadata": {},
   "source": [
    "We now supply Krotov with all the information it needs to optimize,\n",
    "consisting of the `objectives` (maximize population in $\\Ket{3}$ at $t_{1}$),\n",
    "`pulse_options` (the initial shapes of our pulses and how they may be changed)\n",
    "as well as the `propagator` to use, optimization functional (`chi_constructor`),\n",
    "`info_hook` (processing occuring inbetween iterations of optimization) and the\n",
    "maximum number of iterations to perform, `iter_stop`. We will stop the\n",
    "optimization when the error goes below $10^{-3}$ or the fidelity has converged\n",
    "to within 5 digits.\n",
    "\n",
    "Since we have a list with multiple objectives, we can use the `parallel_map` argument in the recommended version, to parallelize our propagations."
   ]
  },
  {
   "cell_type": "markdown",
   "metadata": {},
   "source": [
    "**Note:** We cheated a little with the $\\lambda_a$ parameter and set it to a very small value. This will result in very large pulse amplitude. However, this is much faster and therefore neat for the purpose of illustration. If you need smaller amplitudes, choose $\\lambda_a$ bigger and set the iter_stop to a higher value."
   ]
  },
  {
   "cell_type": "code",
   "execution_count": 11,
   "metadata": {
    "ExecuteTime": {
     "end_time": "2019-02-25T17:38:48.404127Z",
     "start_time": "2019-02-25T17:37:04.624207Z"
    },
    "attributes": {
     "classes": [],
     "id": "",
     "n": "16"
    }
   },
   "outputs": [
    {
     "name": "stdout",
     "output_type": "stream",
     "text": [
      "  iter.        J_T   ∫gₐ(ϵ1)dt   ∫gₐ(ϵ2)dt   ∫gₐ(ϵ3)dt   ∫gₐ(ϵ4)dt   ∑∫gₐ(t)dt          J       ΔJ_T         ΔJ  secs\n",
      "      0   1.01e+00    0.00e+00    0.00e+00    0.00e+00    0.00e+00    0.00e+00   1.01e+00        n/a        n/a     1\n",
      "      1   1.15e-02    8.44e+01    1.91e+00    1.46e+02    1.06e+01    2.43e+02   2.43e+02  -9.97e-01   2.42e+02     7 *\n",
      "      2   7.68e-03    2.13e-01    6.36e-02    2.53e-01    3.22e-02    5.62e-01   5.70e-01  -3.82e-03   5.59e-01     7 *\n",
      "      3   5.67e-03    1.02e-01    2.92e-02    1.10e-01    2.52e-02    2.67e-01   2.72e-01  -2.01e-03   2.65e-01     7 *\n",
      "      4   4.41e-03    5.41e-02    2.87e-02    5.14e-02    2.39e-02    1.58e-01   1.62e-01  -1.26e-03   1.57e-01     6 *\n",
      "      5   3.52e-03    3.04e-02    2.85e-02    2.33e-02    2.37e-02    1.06e-01   1.09e-01  -8.92e-04   1.05e-01     7 *\n",
      "      6   2.83e-03    1.74e-02    2.71e-02    1.02e-02    2.30e-02    7.77e-02   8.06e-02  -6.84e-04   7.70e-02     7 *\n",
      "      7   2.29e-03    1.01e-02    2.45e-02    5.58e-03    2.12e-02    6.14e-02   6.36e-02  -5.47e-04   6.08e-02     7 *\n",
      "      8   1.85e-03    6.04e-03    2.10e-02    5.16e-03    1.83e-02    5.05e-02   5.23e-02  -4.40e-04   5.00e-02     7 *\n",
      "      9   1.50e-03    3.83e-03    1.71e-02    6.02e-03    1.48e-02    4.17e-02   4.32e-02  -3.47e-04   4.13e-02     7 *\n",
      "     10   1.24e-03    2.59e-03    1.32e-02    6.56e-03    1.12e-02    3.35e-02   3.48e-02  -2.65e-04   3.33e-02     7 *\n",
      "     11   1.04e-03    1.82e-03    9.87e-03    6.31e-03    8.03e-03    2.60e-02   2.71e-02  -1.94e-04   2.58e-02     7 *\n",
      "     12   9.03e-04    1.30e-03    7.21e-03    5.45e-03    5.60e-03    1.95e-02   2.05e-02  -1.39e-04   1.94e-02     7 *\n"
     ]
    }
   ],
   "source": [
    "oct_result = krotov.optimize_pulses(\n",
    "    ensemble_objectives,\n",
    "    pulse_options,\n",
    "    tlist,\n",
    "    propagator=krotov.propagators.expm,\n",
    "    chi_constructor=krotov.functionals.chis_re,\n",
    "    info_hook=krotov.info_hooks.print_table(\n",
    "        J_T=krotov.functionals.J_T_re,\n",
    "        show_g_a_int_per_pulse=True,\n",
    "        unicode=True,\n",
    "    ),\n",
    "    check_convergence=krotov.convergence.Or(\n",
    "        krotov.convergence.value_below(1e-3, name='J_T'),\n",
    "        krotov.convergence.delta_below(1e-5),\n",
    "        krotov.convergence.check_monotonic_error,\n",
    "    ),\n",
    "    parallel_map=(\n",
    "        qutip.parallel_map,\n",
    "        qutip.parallel_map,\n",
    "        krotov.parallelization.parallel_map_fw_prop_step,\n",
    "    ),\n",
    "    iter_stop=15,\n",
    ")"
   ]
  },
  {
   "cell_type": "code",
   "execution_count": 12,
   "metadata": {},
   "outputs": [
    {
     "data": {
      "text/plain": [
       "Krotov Optimization Result\n",
       "--------------------------\n",
       "- Started at 2019-03-18 18:03:28\n",
       "- Number of objectives: 3\n",
       "- Number of iterations: 12\n",
       "- Reason for termination: Reached convergence: J_T < 0.001\n",
       "- Ended at 2019-03-18 18:04:57"
      ]
     },
     "execution_count": 12,
     "metadata": {},
     "output_type": "execute_result"
    }
   ],
   "source": [
    "oct_result"
   ]
  },
  {
   "cell_type": "markdown",
   "metadata": {},
   "source": [
    "We appear to have found pulse-shapes that fulfill our objective, but what do\n",
    "they look like?"
   ]
  },
  {
   "cell_type": "code",
   "execution_count": 13,
   "metadata": {},
   "outputs": [
    {
     "name": "stdout",
     "output_type": "stream",
     "text": [
      "pump pulse amplitude and phase:\n"
     ]
    },
    {
     "data": {
      "image/png": "[encoded data removed]",
      "text/plain": [
       "<Figure size 432x288 with 2 Axes>"
      ]
     },
     "metadata": {
      "needs_background": "light"
     },
     "output_type": "display_data"
    },
    {
     "name": "stdout",
     "output_type": "stream",
     "text": [
      "Stokes pulse amplitude and phase:\n"
     ]
    },
    {
     "data": {
      "image/png": "[encoded data removed]",
      "text/plain": [
       "<Figure size 432x288 with 2 Axes>"
      ]
     },
     "metadata": {
      "needs_background": "light"
     },
     "output_type": "display_data"
    }
   ],
   "source": [
    "def plot_pulse_amplitude_and_phase(pulse_real, pulse_imaginary,tlist):\n",
    "    ax1 = plt.subplot(211)\n",
    "    ax2 = plt.subplot(212)\n",
    "    amplitudes = [np.sqrt(x*x + y*y) for x,y in zip(pulse_real,pulse_imaginary)]\n",
    "    phases = [np.arctan2(y,x)/np.pi for x,y in zip(pulse_real,pulse_imaginary)]\n",
    "    ax1.plot(tlist,amplitudes)\n",
    "    ax1.set_xlabel('time')\n",
    "    ax1.set_ylabel('pulse amplitude')\n",
    "    ax2.plot(tlist,phases)\n",
    "    ax2.set_xlabel('time')\n",
    "    ax2.set_ylabel('pulse phase (π)')    \n",
    "    plt.show()\n",
    "    \n",
    "print(\"pump pulse amplitude and phase:\")\n",
    "plot_pulse_amplitude_and_phase(\n",
    "    oct_result.optimized_controls[0], oct_result.optimized_controls[1], tlist)\n",
    "print(\"Stokes pulse amplitude and phase:\")\n",
    "plot_pulse_amplitude_and_phase(\n",
    "    oct_result.optimized_controls[2], oct_result.optimized_controls[3], tlist)"
   ]
  },
  {
   "cell_type": "markdown",
   "metadata": {},
   "source": [
    "Once we have the optimized real and imaginary parts of the $\\Omega_P (t)$ and $\\Omega_P (t)$ functions we can retrieve the physical pulses $\\varepsilon _P (t)$ and $\\varepsilon _S (t)$ using their very definition. "
   ]
  },
  {
   "cell_type": "code",
   "execution_count": 14,
   "metadata": {},
   "outputs": [
    {
     "name": "stdout",
     "output_type": "stream",
     "text": [
      "Physical electric pump pulse in the lab frame:\n"
     ]
    },
    {
     "data": {
      "image/png": "[encoded data removed]",
      "text/plain": [
       "<Figure size 432x288 with 1 Axes>"
      ]
     },
     "metadata": {
      "needs_background": "light"
     },
     "output_type": "display_data"
    },
    {
     "name": "stdout",
     "output_type": "stream",
     "text": [
      "Physical electric Stokes pulse in the lab frame:\n"
     ]
    },
    {
     "data": {
      "image/png": "[encoded data removed]",
      "text/plain": [
       "<Figure size 432x288 with 1 Axes>"
      ]
     },
     "metadata": {
      "needs_background": "light"
     },
     "output_type": "display_data"
    }
   ],
   "source": [
    "def plot_physical_field(pulse_re, pulse_im, tlist, case=None):\n",
    "\n",
    "    if case == 'pump':\n",
    "        w = 9.5\n",
    "    elif case == 'stokes':\n",
    "        w = 4.5\n",
    "    else: \n",
    "        print('Error: selected case is not a valid option')\n",
    "        return\n",
    "    \n",
    "    ax = plt.subplot(111)    \n",
    "    ax.plot(tlist,pulse_re*np.cos(w*tlist)-pulse_im*np.sin(w*tlist), 'r')\n",
    "    ax.set_xlabel('time', fontsize = 16)\n",
    "    if case == 'pump':\n",
    "        ax.set_ylabel(r'$\\varepsilon_{P} * \\mu_{12}$', fontsize = 16)\n",
    "    elif case == 'stokes':\n",
    "        ax.set_ylabel(r'$\\varepsilon_{S} * \\mu_{23}$', fontsize = 16)\n",
    "    plt.show()\n",
    "    \n",
    "print('Physical electric pump pulse in the lab frame:')\n",
    "plot_physical_field(\n",
    "    oct_result.optimized_controls[0], oct_result.optimized_controls[1], tlist, case = 'pump')\n",
    "\n",
    "\n",
    "print('Physical electric Stokes pulse in the lab frame:')\n",
    "plot_physical_field(\n",
    "    oct_result.optimized_controls[2], oct_result.optimized_controls[3], tlist, case = 'stokes')"
   ]
  },
  {
   "cell_type": "markdown",
   "metadata": {},
   "source": [
    "### Robustness analysis"
   ]
  },
  {
   "cell_type": "markdown",
   "metadata": {},
   "source": [
    "Finally, we take a look on the propagated results for different pulse amplitudes.\n",
    "For this, we define the following function which propagates the Hamiltpnian with a specific coupling under the optimized pulse."
   ]
  },
  {
   "cell_type": "code",
   "execution_count": 15,
   "metadata": {},
   "outputs": [],
   "source": [
    "def solve_under_opt_pulse(coupling):\n",
    "    ensemble_hamiltonian,_,_ =  ham_and_states(coupling_strength_fac=coupling)\n",
    "    \n",
    "    ensemble_hamiltonian[1][1] = oct_result.optimized_controls[0] #  left atom blue\n",
    "    ensemble_hamiltonian[2][1] = oct_result.optimized_controls[1] #  left atom red\n",
    "    ensemble_hamiltonian[3][1] = oct_result.optimized_controls[2] # right atom blue\n",
    "    ensemble_hamiltonian[4][1] = oct_result.optimized_controls[3] # right atom red\n",
    "    \n",
    "    \n",
    "    return qutip.mesolve(ensemble_hamiltonian,psi0,tlist)"
   ]
  },
  {
   "cell_type": "markdown",
   "metadata": {},
   "source": [
    "This function can now be mapped via `qutip.parallel_map`, which applies the functions in parallel."
   ]
  },
  {
   "cell_type": "code",
   "execution_count": 16,
   "metadata": {},
   "outputs": [],
   "source": [
    "import warnings\n",
    "warnings.filterwarnings(action='ignore')\n",
    "###\n",
    "coupl = np.arange(.75,1.251,.0333333)\n",
    "res = qutip.parallel_map(solve_under_opt_pulse, coupl)"
   ]
  },
  {
   "cell_type": "markdown",
   "metadata": {},
   "source": [
    "Finally, we plot the final population of $\\ket{3}$ with respect to the coupling parameter."
   ]
  },
  {
   "cell_type": "code",
   "execution_count": 17,
   "metadata": {},
   "outputs": [
    {
     "data": {
      "text/plain": [
       "<matplotlib.patches.Polygon at 0x7fef22361208>"
      ]
     },
     "execution_count": 17,
     "metadata": {},
     "output_type": "execute_result"
    },
    {
     "data": {
      "image/png": "[encoded data removed]",
      "text/plain": [
       "<Figure size 432x288 with 1 Axes>"
      ]
     },
     "metadata": {
      "needs_background": "light"
     },
     "output_type": "display_data"
    }
   ],
   "source": [
    "pops = []\n",
    "\n",
    "for r in res:\n",
    "    pops.append(qutip.expect(proj3, r.states[-1]))\n",
    "\n",
    "fig,ax = plt.subplots()\n",
    "ax.plot(coupl, pops)\n",
    "ax.set_xlabel(\"relative coupling strength\")\n",
    "ax.set_ylabel(\"population of the 3rd level\")\n",
    "ax.axvspan(.9, 1.1, alpha=0.25, color='red')"
   ]
  },
  {
   "cell_type": "markdown",
   "metadata": {},
   "source": [
    "We find, that the result indeed shows a plateau in the region, where we took the ensemble of Hamiltonians from (red area). "
   ]
  }
 ],
 "metadata": {
  "hide_input": false,
  "jupytext": {
   "text_representation": {
    "extension": ".md",
    "format_name": "markdown",
    "format_version": "1.0",
    "jupytext_version": "0.8.6"
   }
  },
  "kernelspec": {
   "display_name": "Python 3",
   "language": "python",
   "name": "python3"
  },
  "language_info": {
   "codemirror_mode": {
    "name": "ipython",
    "version": 3
   },
   "file_extension": ".py",
   "mimetype": "text/x-python",
   "name": "python",
   "nbconvert_exporter": "python",
   "pygments_lexer": "ipython3",
   "version": "3.7.2"
  },
  "toc": {
   "base_numbering": 1,
   "nav_menu": {},
   "number_sections": true,
   "sideBar": true,
   "skip_h1_title": false,
   "title_cell": "Table of Contents",
   "title_sidebar": "Contents",
   "toc_cell": false,
   "toc_position": {},
   "toc_section_display": true,
   "toc_window_display": false
  },
  "varInspector": {
   "cols": {
    "lenName": 16,
    "lenType": 16,
    "lenVar": 40
   },
   "kernels_config": {
    "python": {
     "delete_cmd_postfix": "",
     "delete_cmd_prefix": "del ",
     "library": "var_list.py",
     "varRefreshCmd": "print(var_dic_list())"
    },
    "r": {
     "delete_cmd_postfix": ") ",
     "delete_cmd_prefix": "rm(",
     "library": "var_list.r",
     "varRefreshCmd": "cat(var_dic_list()) "
    }
   },
   "types_to_exclude": [
    "module",
    "function",
    "builtin_function_or_method",
    "instance",
    "_Feature"
   ],
   "window_display": false
  }
 },
 "nbformat": 4,
 "nbformat_minor": 2
}
