{
 "cells": [
  {
   "cell_type": "markdown",
   "metadata": {},
   "source": [
    "# Optimization of a State-to-State Transfer in a Two-Level-System"
   ]
  },
  {
   "cell_type": "code",
   "execution_count": 1,
   "metadata": {
    "ExecuteTime": {
     "end_time": "2019-02-12T04:19:15.953542Z",
     "start_time": "2019-02-12T04:19:14.691832Z"
    },
    "attributes": {
     "classes": [],
     "id": "",
     "n": "1"
    }
   },
   "outputs": [
    {
     "name": "stdout",
     "output_type": "stream",
     "text": [
      "numpy            1.15.4\n",
      "matplotlib       3.0.2\n",
      "scipy            1.2.0\n",
      "qutip            4.3.1\n",
      "matplotlib.pylab 1.15.4\n",
      "krotov           0.3.0\n",
      "CPython 3.7.2\n",
      "IPython 7.2.0\n"
     ]
    }
   ],
   "source": [
    "# NBVAL_IGNORE_OUTPUT\n",
    "%load_ext watermark\n",
    "import qutip\n",
    "import numpy as np\n",
    "import scipy\n",
    "import matplotlib\n",
    "import matplotlib.pylab as plt\n",
    "import krotov\n",
    "%watermark -v --iversions"
   ]
  },
  {
   "cell_type": "markdown",
   "metadata": {},
   "source": [
    "$\\newcommand{tr}[0]{\\operatorname{tr}}\n",
    "\\newcommand{diag}[0]{\\operatorname{diag}}\n",
    "\\newcommand{abs}[0]{\\operatorname{abs}}\n",
    "\\newcommand{pop}[0]{\\operatorname{pop}}\n",
    "\\newcommand{aux}[0]{\\text{aux}}\n",
    "\\newcommand{opt}[0]{\\text{opt}}\n",
    "\\newcommand{tgt}[0]{\\text{tgt}}\n",
    "\\newcommand{init}[0]{\\text{init}}\n",
    "\\newcommand{lab}[0]{\\text{lab}}\n",
    "\\newcommand{rwa}[0]{\\text{rwa}}\n",
    "\\newcommand{bra}[1]{\\langle#1\\vert}\n",
    "\\newcommand{ket}[1]{\\vert#1\\rangle}\n",
    "\\newcommand{Bra}[1]{\\left\\langle#1\\right\\vert}\n",
    "\\newcommand{Ket}[1]{\\left\\vert#1\\right\\rangle}\n",
    "\\newcommand{Braket}[2]{\\left\\langle #1\\vphantom{#2} \\mid\n",
    "#2\\vphantom{#1}\\right\\rangle}\n",
    "\\newcommand{op}[1]{\\hat{#1}}\n",
    "\\newcommand{Op}[1]{\\hat{#1}}\n",
    "\\newcommand{dd}[0]{\\,\\text{d}}\n",
    "\\newcommand{Liouville}[0]{\\mathcal{L}}\n",
    "\\newcommand{DynMap}[0]{\\mathcal{E}}\n",
    "\\newcommand{identity}[0]{\\mathbf{1}}\n",
    "\\newcommand{Norm}[1]{\\lVert#1\\rVert}\n",
    "\\newcommand{Abs}[1]{\\left\\vert#1\\right\\vert}\n",
    "\\newcommand{avg}[1]{\\langle#1\\rangle}\n",
    "\\newcommand{Avg}[1]{\\left\\langle#1\\right\\rangle}\n",
    "\\newcommand{AbsSq}[1]{\\left\\vert#1\\right\\vert^2}\n",
    "\\newcommand{Re}[0]{\\operatorname{Re}}\n",
    "\\newcommand{Im}[0]{\\operatorname{Im}}$\n",
    "The purpose of this example is not to solve an especially interesting physical\n",
    "problem but to give a rather simple example of how the package can be used in\n",
    "order to solve an optimization problem.\n",
    "\n",
    "## Define the Hamiltonian\n",
    "\n",
    "In the\n",
    "following the Hamiltonian, guess field and\n",
    "states are defined.\n",
    "\n",
    "The Hamiltonian\n",
    "$\\op{H}_{0} = - \\omega \\op{\\sigma}_{z}$\n",
    "represents a\n",
    "simple qubit with energy\n",
    "level splitting $\\omega$ in the basis\n",
    "$\\{\\ket{0},\\ket{1}\\}$. The control\n",
    "field\n",
    "$\\epsilon(t)$ is assumed to couple via\n",
    "the\n",
    "Hamiltonian $\\op{H}_{1}(t) =\n",
    "\\epsilon(t) \\op{\\sigma}_{x}$ to the qubit,\n",
    "i.e., the control\n",
    "field effectively\n",
    "drives\n",
    "transitions between both qubit\n",
    "states. For now, we initialize the control\n",
    "field as constant."
   ]
  },
  {
   "cell_type": "code",
   "execution_count": 2,
   "metadata": {
    "ExecuteTime": {
     "end_time": "2019-02-12T04:19:15.969983Z",
     "start_time": "2019-02-12T04:19:15.957144Z"
    },
    "attributes": {
     "classes": [],
     "id": "",
     "n": "2"
    }
   },
   "outputs": [],
   "source": [
    "def ham_and_states(omega=1.0, ampl0=0.2):\n",
    "    \"\"\"Two-level-system Hamiltonian\n",
    "    \n",
    "    Args:\n",
    "        omega (float): energy separation of the qubit levels\n",
    "        ampl0 (float): constant amplitude of the driving field\n",
    "    \"\"\"\n",
    "    H0 = - 0.5 * omega * qutip.operators.sigmaz()\n",
    "    H1 = qutip.operators.sigmax()\n",
    "    \n",
    "    psi0 = qutip.Qobj(np.array([1,0]))\n",
    "    psi1 = qutip.Qobj(np.array([0,1]))\n",
    "\n",
    "    eps0 = lambda t, args: ampl0\n",
    "    return ([H0, [H1, eps0]], psi0, psi1)\n",
    "\n",
    "H, psi0, psi1 = ham_and_states()"
   ]
  },
  {
   "cell_type": "markdown",
   "metadata": {},
   "source": [
    "The projectors $\\op{P}_0 = \\ket{0}\\bra{0}$ and $\\op{P}_1 = \\ket{1}\\bra{1}$ are\n",
    "introduced since they allow for calculating the\n",
    "population in the respective\n",
    "states later on."
   ]
  },
  {
   "cell_type": "code",
   "execution_count": 3,
   "metadata": {
    "ExecuteTime": {
     "end_time": "2019-02-12T04:19:15.981085Z",
     "start_time": "2019-02-12T04:19:15.973301Z"
    },
    "attributes": {
     "classes": [],
     "id": "",
     "n": "3"
    }
   },
   "outputs": [],
   "source": [
    "proj0 = psi0 * psi0.dag()\n",
    "proj1 = psi1 * psi1.dag()"
   ]
  },
  {
   "cell_type": "markdown",
   "metadata": {},
   "source": [
    "## Define the optimization target"
   ]
  },
  {
   "cell_type": "markdown",
   "metadata": {},
   "source": [
    "First we define the time grid of the\n",
    "dynamics, i.e., by taking the following\n",
    "values as an example, we define the\n",
    "initial state to be at time $t=0$ and\n",
    "consider a total propagation time of\n",
    "$T=5$. The entire time grid is divided into\n",
    "$n_{t}=500$ equidistant time steps."
   ]
  },
  {
   "cell_type": "code",
   "execution_count": 5,
   "metadata": {
    "ExecuteTime": {
     "end_time": "2019-02-12T04:19:15.994257Z",
     "start_time": "2019-02-12T04:19:15.986196Z"
    },
    "attributes": {
     "classes": [],
     "id": "",
     "n": "4"
    }
   },
   "outputs": [],
   "source": [
    "tlist = np.linspace(0, 5, 500)"
   ]
  },
  {
   "cell_type": "markdown",
   "metadata": {},
   "source": [
    "Next, we define the optimization targets, which is technically a list of\n",
    "objectives, but here it has just one entry defining a simple state-to-state\n",
    "transfer\n",
    "from initial state $\\ket{\\Psi_{\\init}} = \\ket{0}$ to the target state\n",
    "$\\ket{\\Psi_{\\tgt}} = \\ket{1}$, which we want to reach at final time $T$. Note\n",
    "that we also have to pass the Hamiltonian $\\op{H}(t)$ that determines the\n",
    "dynamics of\n",
    "the system to the optimization objective."
   ]
  },
  {
   "cell_type": "code",
   "execution_count": 6,
   "metadata": {
    "ExecuteTime": {
     "end_time": "2019-02-12T04:19:16.007054Z",
     "start_time": "2019-02-12T04:19:16.000342Z"
    },
    "attributes": {
     "classes": [],
     "id": "",
     "n": "5"
    }
   },
   "outputs": [],
   "source": [
    "objectives = [\n",
    "    krotov.Objective(initial_state=psi0, target=psi1, H=H)\n",
    "]"
   ]
  },
  {
   "cell_type": "markdown",
   "metadata": {},
   "source": [
    "In addition, we have to define and assign a shape function $S(t)$ for the update\n",
    "in each control iteration to each\n",
    "control field that will be updated. This shape\n",
    "usually takes care of\n",
    "experimental limits such as the necessity of finite ramps\n",
    "at the beginning and\n",
    "end of the control field or other conceivable limitations\n",
    "for field shapes: wherever $S(t)$ is zero, the optimization will not change the\n",
    "value of the control from the original guess."
   ]
  },
  {
   "cell_type": "code",
   "execution_count": 7,
   "metadata": {
    "ExecuteTime": {
     "end_time": "2019-02-12T04:19:16.017678Z",
     "start_time": "2019-02-12T04:19:16.010745Z"
    },
    "attributes": {
     "classes": [],
     "id": "",
     "n": "6"
    }
   },
   "outputs": [],
   "source": [
    "def S(t):\n",
    "    \"\"\"Shape function for the field update\"\"\"\n",
    "    return krotov.shapes.flattop(t, t_start=0, t_stop=5, t_rise=0.3, t_fall=0.3, func='sinsq')"
   ]
  },
  {
   "cell_type": "markdown",
   "metadata": {},
   "source": [
    "At this point, we also change the initial control field $\\epsilon_{0}(t)$ from a\n",
    "constant to a shaped pulse that switches on smoothly from zero and again\n",
    "switches off at the final time $T$. We re-use the shape function $S(t)$ that we\n",
    "defined for the updates for this purpose (although generally, $S(t)$ for the\n",
    "updates has nothing to with the shape of the control field)."
   ]
  },
  {
   "cell_type": "code",
   "execution_count": 8,
   "metadata": {
    "ExecuteTime": {
     "end_time": "2019-02-12T04:19:16.028042Z",
     "start_time": "2019-02-12T04:19:16.020799Z"
    },
    "attributes": {
     "classes": [],
     "id": "",
     "n": "7"
    }
   },
   "outputs": [],
   "source": [
    "def shape_field(eps0):\n",
    "    \"\"\"Applies the shape function S(t) to the guess field\"\"\"\n",
    "    eps0_shaped = lambda t, args: eps0(t, args)*S(t)\n",
    "    return eps0_shaped\n",
    "\n",
    "H[1][1] = shape_field(H[1][1])"
   ]
  },
  {
   "cell_type": "markdown",
   "metadata": {},
   "source": [
    "Having defined the shape function $S(t)$ and having shaped the guess field, we\n",
    "now tell the optimization to also use $S(t)$ as the update-shape for\n",
    "$\\epsilon_0(t)$. In addition, we have to choose `lambda_a` for each control\n",
    "field. It controls the update magnitude of the respective field in each\n",
    "iteration."
   ]
  },
  {
   "cell_type": "code",
   "execution_count": 9,
   "metadata": {
    "ExecuteTime": {
     "end_time": "2019-02-12T04:19:16.035707Z",
     "start_time": "2019-02-12T04:19:16.031001Z"
    }
   },
   "outputs": [],
   "source": [
    "pulse_options = {\n",
    "    H[1][1]: dict(lambda_a=5, shape=S)\n",
    "}"
   ]
  },
  {
   "cell_type": "markdown",
   "metadata": {},
   "source": [
    "It is convenient to introduce the function `print_fidelity`, which can be passed\n",
    "to the optimization procedure and will be called after each iteration and thus\n",
    "provides additional feedback about the optimization progress."
   ]
  },
  {
   "cell_type": "code",
   "execution_count": 10,
   "metadata": {
    "ExecuteTime": {
     "end_time": "2019-02-12T04:19:16.047028Z",
     "start_time": "2019-02-12T04:19:16.039700Z"
    },
    "attributes": {
     "classes": [],
     "id": "",
     "n": "9"
    }
   },
   "outputs": [],
   "source": [
    "def print_fidelity(**args):\n",
    "    F_re = np.average(np.array(args['tau_vals']).real)\n",
    "    print(\"    F = %f\" % F_re)\n",
    "    return F_re"
   ]
  },
  {
   "cell_type": "markdown",
   "metadata": {},
   "source": [
    "## Simulate dynamics of the guess field\n",
    "\n",
    "Before heading towards the optimization\n",
    "procedure, we first simulate the\n",
    "dynamics under the guess field\n",
    "$\\epsilon_{0}(t)$."
   ]
  },
  {
   "cell_type": "code",
   "execution_count": 11,
   "metadata": {
    "ExecuteTime": {
     "end_time": "2019-02-12T04:19:16.056260Z",
     "start_time": "2019-02-12T04:19:16.049761Z"
    },
    "attributes": {
     "classes": [],
     "id": "",
     "n": "10"
    }
   },
   "outputs": [],
   "source": [
    "def plot_pulse(pulse, tlist):\n",
    "    fig, ax = plt.subplots()\n",
    "    if callable(pulse):\n",
    "        pulse = np.array([pulse(t, args=None) for t in tlist])\n",
    "    ax.plot(tlist, pulse)\n",
    "    ax.set_xlabel('time')\n",
    "    ax.set_ylabel('pulse amplitude')\n",
    "    plt.show(fig)"
   ]
  },
  {
   "cell_type": "markdown",
   "metadata": {},
   "source": [
    "The following plot shows the guess field $\\epsilon_{0}(t)$, which is, as chosen\n",
    "above, just a constant field (with a smooth switch-on and switch-off)"
   ]
  },
  {
   "cell_type": "code",
   "execution_count": 12,
   "metadata": {
    "ExecuteTime": {
     "end_time": "2019-02-12T04:19:16.263614Z",
     "start_time": "2019-02-12T04:19:16.059709Z"
    },
    "attributes": {
     "classes": [],
     "id": "",
     "n": "11"
    }
   },
   "outputs": [
    {
     "data": {
      "image/png": "[encoded data removed]",
      "text/plain": [
       "<Figure size 432x288 with 1 Axes>"
      ]
     },
     "metadata": {
      "needs_background": "light"
     },
     "output_type": "display_data"
    }
   ],
   "source": [
    "plot_pulse(H[1][1], tlist)"
   ]
  },
  {
   "cell_type": "markdown",
   "metadata": {},
   "source": [
    "The next line solves the equation of motion for the defined objective, which\n",
    "contains the initial state $\\ket{\\Psi_{\\init}}$ and the Hamiltonian $\\op{H}(t)$\n",
    "defining its evolution."
   ]
  },
  {
   "cell_type": "code",
   "execution_count": 15,
   "metadata": {
    "ExecuteTime": {
     "end_time": "2019-02-12T04:19:16.422181Z",
     "start_time": "2019-02-12T04:19:16.265626Z"
    },
    "attributes": {
     "classes": [],
     "id": "",
     "n": "12"
    }
   },
   "outputs": [
    {
     "name": "stdout",
     "output_type": "stream",
     "text": [
      "10.0%. Run time:   0.03s. Est. time left: 00:00:00:00\n",
      "20.0%. Run time:   0.06s. Est. time left: 00:00:00:00\n",
      "30.0%. Run time:   0.09s. Est. time left: 00:00:00:00\n",
      "40.0%. Run time:   0.12s. Est. time left: 00:00:00:00\n",
      "50.0%. Run time:   0.16s. Est. time left: 00:00:00:00\n",
      "60.0%. Run time:   0.19s. Est. time left: 00:00:00:00\n",
      "70.0%. Run time:   0.22s. Est. time left: 00:00:00:00\n",
      "80.0%. Run time:   0.24s. Est. time left: 00:00:00:00\n",
      "90.0%. Run time:   0.27s. Est. time left: 00:00:00:00\n",
      "Total run time:   0.31s\n"
     ]
    }
   ],
   "source": [
    "guess_dynamics = objectives[0].mesolve(tlist, e_ops=[proj0, proj1], progress_bar=True)"
   ]
  },
  {
   "cell_type": "markdown",
   "metadata": {},
   "source": [
    "The plot of the population dynamics shows that the guess field does not transfer\n",
    "the initial state $\\ket{\\Psi_{\\init}} = \\ket{0}$ to the desired target state\n",
    "$\\ket{\\Psi_{\\tgt}} = \\ket{1}$."
   ]
  },
  {
   "cell_type": "code",
   "execution_count": 16,
   "metadata": {
    "ExecuteTime": {
     "end_time": "2019-02-12T04:19:16.429662Z",
     "start_time": "2019-02-12T04:19:16.424216Z"
    },
    "attributes": {
     "classes": [],
     "id": "",
     "n": "13"
    }
   },
   "outputs": [],
   "source": [
    "def plot_population(result):\n",
    "    fig, ax = plt.subplots()\n",
    "    ax.plot(result.times, result.expect[0], label='0')\n",
    "    ax.plot(result.times, result.expect[1], label='1')\n",
    "    ax.legend()\n",
    "    ax.set_xlabel('time')\n",
    "    ax.set_ylabel('population')\n",
    "    plt.show(fig)"
   ]
  },
  {
   "cell_type": "code",
   "execution_count": 17,
   "metadata": {
    "ExecuteTime": {
     "end_time": "2019-02-12T04:19:16.606020Z",
     "start_time": "2019-02-12T04:19:16.433034Z"
    },
    "attributes": {
     "classes": [],
     "id": "",
     "n": "14"
    }
   },
   "outputs": [
    {
     "data": {
      "image/png": "[encoded data removed]",
      "text/plain": [
       "<Figure size 432x288 with 1 Axes>"
      ]
     },
     "metadata": {
      "needs_background": "light"
     },
     "output_type": "display_data"
    }
   ],
   "source": [
    "plot_population(guess_dynamics)"
   ]
  },
  {
   "cell_type": "markdown",
   "metadata": {},
   "source": [
    "## Optimize\n",
    "\n",
    "In the following we optimize the guess field $\\epsilon_{0}(t)$ such\n",
    "that the intended state-to-state transfer $\\ket{\\Psi_{\\init}} \\rightarrow\n",
    "\\ket{\\Psi_{\\tgt}}$ is solved.\n",
    "\n",
    "The cell below carries out the optimization. It\n",
    "requires, besides the\n",
    "previously\n",
    "defined optimization `objectives`, information\n",
    "about the\n",
    "optimization functional\n",
    "$F$ (via `chi_constructor`) and the\n",
    "propagation method that should be used. In\n",
    "addition, the number of total\n",
    "iterations is required and, as an option, we pass\n",
    "an info-hook that after each\n",
    "iteration combines a complete printout of the state\n",
    "of the optimization with the\n",
    "`print_fidelity` function defined above.\n",
    "\n",
    "Here, we\n",
    "choose $F = F_{re}$ with\n",
    "\\begin{equation}\n",
    "F_{re}\n",
    "=\n",
    "\\Re\\Braket{\\Psi(T)}{\\Psi_{\\tgt}}\n",
    "\\end{equation}\n",
    "\n",
    "with\n",
    "$\\ket{\\Psi(T)}$ the\n",
    "forward propagated state of $\\ket{\\Psi_{\\init}}$."
   ]
  },
  {
   "cell_type": "code",
   "execution_count": 18,
   "metadata": {
    "ExecuteTime": {
     "end_time": "2019-02-12T04:19:31.206467Z",
     "start_time": "2019-02-12T04:19:16.608784Z"
    },
    "attributes": {
     "classes": [],
     "id": "",
     "n": "15"
    },
    "scrolled": false
   },
   "outputs": [
    {
     "name": "stdout",
     "output_type": "stream",
     "text": [
      "  iter.        J_T    ∫gₐ(t)dt          J       ΔJ_T         ΔJ  secs\n",
      "      0   1.00e+00    0.00e+00   1.00e+00        n/a        n/a     1\n",
      "      1   7.65e-01    2.33e-02   7.88e-01  -2.35e-01  -2.12e-01     2\n",
      "      2   5.56e-01    2.07e-02   5.77e-01  -2.09e-01  -1.88e-01     2\n",
      "      3   3.89e-01    1.66e-02   4.05e-01  -1.67e-01  -1.51e-01     2\n",
      "      4   2.65e-01    1.23e-02   2.77e-01  -1.24e-01  -1.11e-01     2\n",
      "      5   1.78e-01    8.61e-03   1.87e-01  -8.67e-02  -7.81e-02     2\n",
      "      6   1.20e-01    5.84e-03   1.25e-01  -5.87e-02  -5.29e-02     2\n",
      "      7   8.05e-02    3.89e-03   8.44e-02  -3.91e-02  -3.52e-02     2\n",
      "      8   5.46e-02    2.58e-03   5.72e-02  -2.58e-02  -2.33e-02     2\n",
      "      9   3.76e-02    1.70e-03   3.93e-02  -1.71e-02  -1.54e-02     2\n",
      "     10   2.63e-02    1.13e-03   2.74e-02  -1.13e-02  -1.02e-02     2\n"
     ]
    }
   ],
   "source": [
    "oct_result = krotov.optimize_pulses(\n",
    "    objectives,\n",
    "    pulse_options=pulse_options,\n",
    "    tlist=tlist,\n",
    "    propagator=krotov.propagators.expm,\n",
    "    chi_constructor=krotov.functionals.chis_re,\n",
    "    info_hook=krotov.info_hooks.print_table(J_T=krotov.functionals.J_T_re),\n",
    "    check_convergence=krotov.convergence.check_monotonic_error,\n",
    "    iter_stop=10,\n",
    ")"
   ]
  },
  {
   "cell_type": "code",
   "execution_count": 19,
   "metadata": {
    "ExecuteTime": {
     "end_time": "2019-02-12T04:19:31.215151Z",
     "start_time": "2019-02-12T04:19:31.209159Z"
    },
    "attributes": {
     "classes": [],
     "id": "",
     "n": "16"
    }
   },
   "outputs": [
    {
     "data": {
      "text/plain": [
       "Krotov Optimization Result\n",
       "--------------------------\n",
       "- Started at 2019-03-19 14:05:21\n",
       "- Number of objectives: 1\n",
       "- Number of iterations: 10\n",
       "- Reason for termination: Reached 10 iterations\n",
       "- Ended at 2019-03-19 14:05:46"
      ]
     },
     "execution_count": 19,
     "metadata": {},
     "output_type": "execute_result"
    }
   ],
   "source": [
    "oct_result"
   ]
  },
  {
   "cell_type": "markdown",
   "metadata": {},
   "source": [
    "## Simulate dynamics of the optimized field\n",
    "\n",
    "Having obtained the optimized\n",
    "control field, we can now\n",
    "plot it and calculate the\n",
    "population dynamics under\n",
    "this field."
   ]
  },
  {
   "cell_type": "code",
   "execution_count": 20,
   "metadata": {
    "ExecuteTime": {
     "end_time": "2019-02-12T04:19:31.394806Z",
     "start_time": "2019-02-12T04:19:31.218146Z"
    },
    "attributes": {
     "classes": [],
     "id": "",
     "n": "17"
    }
   },
   "outputs": [
    {
     "data": {
      "image/png": "[encoded data removed]",
      "text/plain": [
       "<Figure size 432x288 with 1 Axes>"
      ]
     },
     "metadata": {
      "needs_background": "light"
     },
     "output_type": "display_data"
    }
   ],
   "source": [
    "plot_pulse(oct_result.optimized_controls[0], tlist)"
   ]
  },
  {
   "cell_type": "markdown",
   "metadata": {},
   "source": [
    "In contrast to the dynamics under the guess field, the optimized field indeed\n",
    "drives the initial state $\\ket{\\Psi_{\\init}} = \\ket{0}$ to the desired target\n",
    "state $\\ket{\\Psi_{\\tgt}} = \\ket{1}$."
   ]
  },
  {
   "cell_type": "code",
   "execution_count": 21,
   "metadata": {
    "ExecuteTime": {
     "end_time": "2019-02-12T04:19:31.645019Z",
     "start_time": "2019-02-12T04:19:31.402428Z"
    },
    "attributes": {
     "classes": [],
     "id": "",
     "n": "18"
    }
   },
   "outputs": [
    {
     "name": "stderr",
     "output_type": "stream",
     "text": [
      "/home/wello/miniconda3/envs/qutip-env/lib/python3.7/site-packages/Cython/Compiler/Main.py:367: FutureWarning: Cython directive 'language_level' not set, using 2 for now (Py2). This will change in a later release! File: /mnt/c/Users/johan/Development/cat-state-encoding/Krotov/rhs480.pyx\n",
      "  tree = Parsing.p_module(s, pxd, full_module_name)\n"
     ]
    }
   ],
   "source": [
    "opt_dynamics = oct_result.optimized_objectives[0].mesolve(\n",
    "    tlist, e_ops=[proj0, proj1])"
   ]
  },
  {
   "cell_type": "code",
   "execution_count": 22,
   "metadata": {
    "ExecuteTime": {
     "end_time": "2019-02-12T04:19:31.873656Z",
     "start_time": "2019-02-12T04:19:31.652076Z"
    },
    "attributes": {
     "classes": [],
     "id": "",
     "n": "19"
    }
   },
   "outputs": [
    {
     "data": {
      "image/png": "[encoded data removed]",
      "text/plain": [
       "<Figure size 432x288 with 1 Axes>"
      ]
     },
     "metadata": {
      "needs_background": "light"
     },
     "output_type": "display_data"
    }
   ],
   "source": [
    "plot_population(opt_dynamics)"
   ]
  },
  {
   "cell_type": "code",
   "execution_count": null,
   "metadata": {},
   "outputs": [],
   "source": []
  }
 ],
 "metadata": {
  "hide_input": false,
  "kernelspec": {
   "display_name": "Python 3",
   "language": "python",
   "name": "python3"
  },
  "language_info": {
   "codemirror_mode": {
    "name": "ipython",
    "version": 3
   },
   "file_extension": ".py",
   "mimetype": "text/x-python",
   "name": "python",
   "nbconvert_exporter": "python",
   "pygments_lexer": "ipython3",
   "version": "3.7.2"
  },
  "toc": {
   "base_numbering": 1,
   "nav_menu": {},
   "number_sections": true,
   "sideBar": true,
   "skip_h1_title": false,
   "title_cell": "Table of Contents",
   "title_sidebar": "Contents",
   "toc_cell": false,
   "toc_position": {},
   "toc_section_display": true,
   "toc_window_display": false
  },
  "varInspector": {
   "cols": {
    "lenName": 16,
    "lenType": 16,
    "lenVar": 40
   },
   "kernels_config": {
    "python": {
     "delete_cmd_postfix": "",
     "delete_cmd_prefix": "del ",
     "library": "var_list.py",
     "varRefreshCmd": "print(var_dic_list())"
    },
    "r": {
     "delete_cmd_postfix": ") ",
     "delete_cmd_prefix": "rm(",
     "library": "var_list.r",
     "varRefreshCmd": "cat(var_dic_list()) "
    }
   },
   "types_to_exclude": [
    "module",
    "function",
    "builtin_function_or_method",
    "instance",
    "_Feature"
   ],
   "window_display": false
  }
 },
 "nbformat": 4,
 "nbformat_minor": 2
}
