{
 "cells": [
  {
   "cell_type": "markdown",
   "metadata": {},
   "source": [
    "# Optimization of qubit evolution"
   ]
  },
  {
   "cell_type": "code",
   "execution_count": null,
   "metadata": {
    "ExecuteTime": {
     "end_time": "2019-02-12T04:19:15.953542Z",
     "start_time": "2019-02-12T04:19:14.691832Z"
    },
    "attributes": {
     "classes": [],
     "id": "",
     "n": "1"
    }
   },
   "outputs": [],
   "source": [
    "# NBVAL_IGNORE_OUTPUT\n",
    "%load_ext watermark\n",
    "#%load_ext autoreload\n",
    "#%autoreload 2\n",
    "import qutip\n",
    "import numpy as np\n",
    "import scipy\n",
    "from ipywidgets import interact\n",
    "import ipywidgets as widgets\n",
    "import matplotlib\n",
    "import matplotlib.pylab as plt\n",
    "import krotov\n",
    "import os\n",
    "import copy\n",
    "import subprocess\n",
    "from bisect import bisect_left\n",
    "import matplotlib2tikz\n",
    "from scipy.signal import savgol_filter\n",
    "%matplotlib notebook\n",
    "%watermark -v --iversions\n",
    "π = np.pi\n",
    "sqrt = np.sqrt\n",
    "basis = qutip.basis\n",
    "tensor = qutip.tensor\n",
    "coherent = qutip.coherent\n",
    "from datetime import datetime\n",
    "def current_time():\n",
    "    return datetime.now().isoformat()[:16].replace('T',' ')"
   ]
  },
  {
   "cell_type": "code",
   "execution_count": null,
   "metadata": {},
   "outputs": [],
   "source": [
    "L = 3 # Truncated Hilbert space size"
   ]
  },
  {
   "cell_type": "markdown",
   "metadata": {},
   "source": [
    "# Plotting and helper functions"
   ]
  },
  {
   "cell_type": "code",
   "execution_count": null,
   "metadata": {
    "scrolled": false
   },
   "outputs": [],
   "source": [
    "def to_two_level(state):\n",
    "    if state.type is 'oper':\n",
    "        return qutip.Qobj(state[0:2,0:2])\n",
    "    else:\n",
    "        return qutip.Qobj(state[0:2])\n",
    "\n",
    "def plot_population(n, tlist):\n",
    "    fig, ax = plt.subplots(figsize=(7.5,4))\n",
    "    leg = []\n",
    "    for i in range(len(n)):\n",
    "        ax.plot(tlist, n[i], label=str(i))\n",
    "        leg.append('$|'+str(i)+'\\rangle$')\n",
    "    ax.legend()\n",
    "    ax.set_xlabel('Time (ns)')\n",
    "    ax.set_ylabel('Occupation')\n",
    "    ax.legend([r'$|0\\rangle$',r'$|1\\rangle$',r'$|2\\rangle$'])\n",
    "    #plt.show(fig)\n",
    "    return fig\n",
    "\n",
    "def plot_pulse(pulse, tlist, T=None, fig=None):\n",
    "    if fig is None:\n",
    "        fig, ax = plt.subplots(figsize=(7.5,4))\n",
    "    else:\n",
    "        ax = fig.axes[0]\n",
    "    if callable(pulse):\n",
    "        pulse = np.array([pulse(t, args=None) for t in tlist])\n",
    "    if np.any(np.iscomplex(pulse)):\n",
    "        ax.plot(tlist, np.real(pulse))\n",
    "        ax.plot(tlist, np.imag(pulse))\n",
    "        ax.legend(['Re', 'Im'])\n",
    "    else:\n",
    "        ax.plot(tlist, pulse)\n",
    "    if T is not None:\n",
    "        ax.plot(tlist, [S(t, T) for t in tlist], color='k', linestyle='--', linewidth=1)\n",
    "        ax.plot(tlist, [-S(t, T) for t in tlist], color='k', linestyle='--', linewidth=1)\n",
    "    ax.set_xlabel('Time (ns)')\n",
    "    ax.set_ylabel('Pulse amplitude')\n",
    "    ax.set_ylim([-pulse_max(0)*1.05,pulse_max(0)*1.05])\n",
    "    #plt.show()\n",
    "    return fig\n",
    "\n",
    "def plot_system(ψ):\n",
    "    bl = qutip.Bloch()\n",
    "    bl.add_states(to_two_level(ψ.ptrace(0)))\n",
    "    bl.show()\n",
    "    qutip.visualization.plot_wigner_fock_distribution(to_two_level(ψ.ptrace(1)))\n",
    "def plot_resonator(ψ):\n",
    "    fig, ax = plt.subplots(1,len(ψ), figsize=(3*len(ψ),3))\n",
    "    if len(ψ)<=1:\n",
    "        ψ = ψ[0]\n",
    "        axis = ax\n",
    "        qutip.visualization.plot_wigner(ψ.ptrace(1), fig=fig, ax=axis, alpha_max = 2*α)\n",
    "        axis.axis_equal = True\n",
    "    else:\n",
    "        for (ϕ, axis) in zip(ψ, ax):\n",
    "            qutip.visualization.plot_wigner(ϕ.ptrace(1), fig=fig, ax=axis, alpha_max = 2*α)\n",
    "            axis.axis_equal = True\n",
    "        \n",
    "def plot_cardinal(ψ):\n",
    "    bl = qutip.Bloch()\n",
    "    bl.vector_color = ['r','g','b','g','b','r']\n",
    "    [bl.add_states(to_two_level(ϕ.ptrace(0)), 'vector') for ϕ in ψ]\n",
    "    bl.show()\n",
    "    return bl\n",
    "\n",
    "def plot_all(dyn, ψ):\n",
    "    ψ_i = [g.states[0] for g in dyn]\n",
    "    ψ_f = [g.states[-1] for g in dyn]\n",
    "    ψ_t = [ϕ[1] for ϕ in ψ]\n",
    "    plot_cardinal(ψ_i)\n",
    "    plot_resonator(ψ_i)\n",
    "    plot_cardinal(ψ_t)\n",
    "    plot_resonator(ψ_t)\n",
    "    plot_cardinal(ψ_f)\n",
    "    plot_resonator(ψ_f)\n",
    "def plot_evolution(dyn, steps=1):\n",
    "    for d in dyn:\n",
    "        points = [to_two_level(s) for s in d.states[0:-1:steps]]\n",
    "        bl = qutip.Bloch()\n",
    "        bl.vector_color = 'r'\n",
    "        bl.point_color = 'r'\n",
    "        bl.point_marker = 'o'\n",
    "        bl.add_states(points, 'point')\n",
    "        bl.show()\n",
    "        #bl = qutip.Bloch()\n",
    "        #bl.vector_color = 'r'\n",
    "        #bl.point_color = 'r'\n",
    "        #bl.point_marker = 'o'\n",
    "        #bl.view = [bl.view[0], 80]\n",
    "        #bl.add_states(points, 'point')\n",
    "        #bl.show()\n",
    "    return bl\n",
    "def get_objectives(T=None):\n",
    "    if use_rotating:\n",
    "        objectives = [krotov.Objective(initial_state=ψ[0], target=ψ[1], H=H) for ψ in state_rot(ϕ, T)]\n",
    "    else:\n",
    "        objectives = [krotov.Objective(initial_state=ψ[0], target=ψ[1], H=H) for ψ in ϕ]\n",
    "    return objectives\n",
    "def plot_matrix_final_target(target_state, final_state, xlabels, ylabels, el=30, az=135):\n",
    "    fig, ax = qutip.visualization.matrix_histogram(final_state * target_state.dag(), xlabels, ylabels, colorbar=False, limits=[-1,1])\n",
    "    qutip.visualization.matrix_histogram(proj(target_state), xlabels, ylabels, colorbar=False, limits=[-1,1], fig=fig, ax=ax)\n",
    "    facecolors = np.zeros((6*L**2,4))*0.1\n",
    "    edgecolors = np.tile([0,0,0,0.9], (6*L**2,1))\n",
    "    ax.get_children()[2].set_facecolors(facecolors)\n",
    "    ax.get_children()[2].set_edgecolors(edgecolors)\n",
    "    ax.set_zticks(np.arange(-1,1,0.25))\n",
    "    ax.view_init(elev=el, azim=az)\n",
    "    return (fig, ax)"
   ]
  },
  {
   "cell_type": "code",
   "execution_count": null,
   "metadata": {},
   "outputs": [],
   "source": [
    "def F_oc(fw_states_T, objectives, tau_vals=None, **kwargs):\n",
    "    return np.abs(krotov.functionals.f_tau(fw_states_T, objectives, tau_vals, **kwargs))**2\n",
    "\n",
    "def calc_fidelity(tau_vals):\n",
    "    return np.abs(np.sum(tau_vals)/len(tau_vals))**2\n",
    "\n",
    "def print_fidelity(**args):\n",
    "    fid = calc_fidelity(np.array(args['tau_vals']))\n",
    "    print(\"          F_t = {} | F = {} | F_t - F = {}\".format(F_oc_tar, fid, F_oc_tar-fid))\n",
    "def plot_fid_convergence(info_vals):\n",
    "    fig, ax = plt.subplots(1,1)\n",
    "    ax.plot(info_vals)\n",
    "    ax.set_xticks(np.arange(0, len(info_vals), step=1))\n",
    "    ax.set_xlabel('Iteration')\n",
    "    ax.set_ylabel('Fidelity')\n",
    "    #ax.set_ylim((-0.2,.2))\n",
    "    plt.show()\n",
    "def plot_fid_convergence(ax, info_vals, T):\n",
    "    ax.plot3D(range(0,len(info_vals)), [T]*len(info_vals), info_vals)"
   ]
  },
  {
   "cell_type": "code",
   "execution_count": null,
   "metadata": {
    "scrolled": true
   },
   "outputs": [],
   "source": [
    "def qubit_occupation(dyn):\n",
    "    occ = [basis(L,i)*basis(L,i).dag() for i in range(0,L)]\n",
    "    n = qutip.expect(occ, dyn.states)\n",
    "    fig = plot_population(n, dyn.times)\n",
    "    return fig\n",
    "\n",
    "def plot_norm(result):\n",
    "    state_norm = lambda i: result.states[i].norm()\n",
    "    states_norm=np.vectorize(state_norm)\n",
    "\n",
    "    fig, ax = plt.subplots()\n",
    "    ax.plot(result.times, states_norm(np.arange(len(result.states))))\n",
    "    ax.set_title('Norm loss', fontsize = 15)\n",
    "    ax.set_xlabel('Time (ns)')\n",
    "    ax.set_ylabel('State norm')\n",
    "    plt.show(fig)"
   ]
  },
  {
   "cell_type": "code",
   "execution_count": null,
   "metadata": {},
   "outputs": [],
   "source": [
    "def plot_spectrum(pulse, tlist, mark_freq=None, pos=1, xlim=None, mark_color=['k','k','k'], fig = None, col=[0,0,0]):\n",
    "    if fig is None:\n",
    "        fig_new = True\n",
    "        fig, ax = plt.subplots(figsize=(10,5))\n",
    "    else:\n",
    "        fig_new = False\n",
    "        ax = fig.axes[0]\n",
    "    samples = len(tlist)\n",
    "    sample_interval = tlist[-1]/samples\n",
    "    power_two = 2**20\n",
    "    signal_qubit = np.pad(pulse, (0, power_two-samples), mode='constant')\n",
    "    samples = power_two\n",
    "    \n",
    "    time = np.linspace(0, samples*sample_interval, samples)\n",
    "\n",
    "    signal_spectrum = np.fft.fftshift(np.fft.fft(signal_qubit))\n",
    "    freqs = np.fft.fftshift(np.fft.fftfreq(samples, d=sample_interval))\n",
    "\n",
    "    \n",
    "    start_idx = bisect_left(freqs, xlim[0]/(2*π))\n",
    "    end_idx = bisect_left(freqs, xlim[1]/(2*π))\n",
    "    ax.plot(freqs[start_idx:end_idx+1], np.abs(signal_spectrum[start_idx:end_idx+1])/len(signal_qubit),color=col)  # in GHz\n",
    "    if mark_freq is not None and fig_new is True:\n",
    "        if not isinstance(mark_freq, list):\n",
    "            mark_freq = [mark_freq]\n",
    "        mf = np.array(mark_freq)/(2*π)\n",
    "        if pos==1:\n",
    "            ax.set_xlim(0, 2*mf[0])\n",
    "        elif pos==-1:\n",
    "            ax.set_xlim(-2*mf[0], 0)\n",
    "        elif xlim is not None:\n",
    "            ax.set_xlim(xlim[0]/(2*π), xlim[1]/(2*π))\n",
    "        [ax.axvline(x=m_f, ymin=0, ymax=1, color=col, linestyle='--', linewidth=1) for (m_f, col) in zip(mf, mark_color)]\n",
    "        #[ax.axvline(x=m_f, ymin=0, ymax=1, linestyle='--', linewidth=1) for (m_f, col) in zip(mf, mark_color)]\n",
    "    ax.set_title('Pulse spectrum')\n",
    "    ax.set_xlabel('f (GHz)');\n",
    "    return fig"
   ]
  },
  {
   "cell_type": "code",
   "execution_count": null,
   "metadata": {},
   "outputs": [],
   "source": [
    "def fid(result, target):\n",
    "    return (np.abs((result.states[-1].dag()*target).full())**2)[0][0]\n",
    "def proj(ψ, ϕ=None):\n",
    "    if ϕ is None:\n",
    "        return ψ * ψ.dag()\n",
    "    else:\n",
    "        return ψ * ϕ.dag()"
   ]
  },
  {
   "cell_type": "code",
   "execution_count": null,
   "metadata": {},
   "outputs": [],
   "source": [
    "def plot_results_3d(results):\n",
    "    fig = plt.figure()\n",
    "    ax = plt.axes(projection='3d')\n",
    "    ax.set_xlabel('Iteration')\n",
    "    ax.set_zlabel('Fidelity')\n",
    "    ax.set_ylabel('Pulse length')\n",
    "    ax.set_zlim(0,1.1)\n",
    "    for (r, T) in results:\n",
    "        plot_fid_convergence(ax, r.info_vals[1:], T)\n",
    "    ax.view_init(elev=20, azim=340)\n",
    "    return (fig, ax)\n",
    "\n",
    "def plot_results_iteration(results):\n",
    "    fig = plt.figure()\n",
    "    ax = plt.axes()\n",
    "    ax.set_xlabel('Iteration')\n",
    "    ax.set_ylabel('Fidelity')\n",
    "    for (r, T) in results:\n",
    "        ax.plot(range(0,len(r.info_vals)-1), r.info_vals[1:])\n",
    "    #print('F = {}'.format(r.info_vals[-1]))\n",
    "    return (fig, ax)\n",
    "\n",
    "def plot_results_pulse_length_iterations(results):\n",
    "    fig = plt.figure()\n",
    "    ax = plt.axes()\n",
    "    ax.set_xlabel('Pulse length (ns)')\n",
    "    ax.set_ylabel('Iterations')\n",
    "    x = [T for (r,T) in results]\n",
    "    y = [r.iters[-1] for (r,T) in results]\n",
    "    ax.stem(x, y)#, linestyle='None', color='k',marker='.')\n",
    "    return (fig, ax)\n",
    "    \n",
    "def plot_results_pulse_length(results, iteration=-1, ax=None, shape='o',color='k'):\n",
    "    if ax is None:\n",
    "        ax = plt.axes()\n",
    "    #else:\n",
    "        #ax.clear()\n",
    "    ax.set_xlabel('Pulse length')\n",
    "    ax.set_ylabel('Fidelity')\n",
    "    \n",
    "    T_list = [T for (r, T) in results]\n",
    "    fid_list = [r.info_vals[min(len(r.info_vals)-1,iteration)] for (r, T) in results]\n",
    "    #for (r, T) in results:\n",
    "    #    it = \n",
    "        \n",
    "    ax.plot(T_list, fid_list, shape+color)\n",
    "    ax.set_ylim(0,1.1)\n",
    "    return ax"
   ]
  },
  {
   "cell_type": "code",
   "execution_count": null,
   "metadata": {},
   "outputs": [],
   "source": [
    "def pulse_max(σ):\n",
    "    A = 1.56246130414 # Chosen such that the integral of any Blackman pulse = π\n",
    "    #A = A/2\n",
    "    #A = 0.1\n",
    "    σ = np.max((σ,3))\n",
    "    return A/(np.sqrt(2*π)*σ)"
   ]
  },
  {
   "cell_type": "markdown",
   "metadata": {},
   "source": [
    "# System setup"
   ]
  },
  {
   "cell_type": "code",
   "execution_count": null,
   "metadata": {},
   "outputs": [],
   "source": [
    "σ_max = 3 # ns (Gaussian pulse limit)\n",
    "amp_max = pulse_max(0)\n",
    "# Below are settings for testing, optimization settings are set in the optimization section\n",
    "T = 18*2\n",
    "σ = T/6\n",
    "steps = 4*int(np.ceil(T))\n",
    "tlist = np.linspace(0, T, steps)"
   ]
  },
  {
   "cell_type": "markdown",
   "metadata": {},
   "source": [
    "## Hamiltonian function"
   ]
  },
  {
   "cell_type": "code",
   "execution_count": null,
   "metadata": {
    "ExecuteTime": {
     "end_time": "2019-02-12T04:19:15.969983Z",
     "start_time": "2019-02-12T04:19:15.957144Z"
    },
    "attributes": {
     "classes": [],
     "id": "",
     "n": "2"
    }
   },
   "outputs": [],
   "source": [
    "Si = qutip.operators.identity(L)\n",
    "ZERO = qutip.operators.qzero(L)\n",
    "\n",
    "σ_z = proj(qutip.basis(L, 0)) - proj(qutip.basis(L, 1))\n",
    "σ_y = 1j*(proj(qutip.basis(L, 1),qutip.basis(L, 0)) - proj(qutip.basis(L, 0), qutip.basis(L, 1)))\n",
    "σ_x = proj(qutip.basis(L, 0),qutip.basis(L, 1)) - proj(qutip.basis(L, 1), qutip.basis(L, 0))\n",
    "b = qutip.operators.destroy(L)\n",
    "I = Si\n",
    "\n",
    "ω_r = 8.3056 * 2 * π      # resonator frequency\n",
    "ω_q = 6.2815 * 2 * π      # qubit frequency\n",
    "K_q   = -2*π*297e-3    # Kerr qubit 200-300 MHz\n",
    "\n",
    "\n",
    "ω_ef = ω_q + K_q\n",
    "ω_gf = ω_q + K_q/2\n",
    "\n",
    "use_rotating = True\n",
    "def hamiltonian(ω=1.0, ampl0=1, use_rotating=True, pulses=None, tlist=None, start_pulse=None, T=1, phase=0, σ=σ):\n",
    "    \"\"\"Two-level-system Hamiltonian\n",
    "    \n",
    "    Args:\n",
    "        ω (float): energy separation of the qubit levels\n",
    "        ampl0 (float): constant amplitude of the driving field\n",
    "    \"\"\"\n",
    "    \n",
    "    K_r   = 2*π*0.45e-3   # Kerr res\n",
    "    #K_q   = -2*π*297e-3    # Kerr qubit 200-300 MHz\n",
    "    ω_r = 8.3056 * 2 * π      # resonator frequency\n",
    "    ω_q = 6.2815 * 2 * π      # qubit frequency\n",
    "    χ = 0.025 * 2 * π   # parameter in the dispersive hamiltonian\n",
    "\n",
    "    Δ = abs(ω_r - ω_q)    # detuning\n",
    "    g = sqrt(Δ * χ)  # coupling strength that is consistent with chi\n",
    "    γ = 1e1 # Dissipation (unused)\n",
    "    \n",
    "    #H_occ = w_r*a.dag()*a + w_q*b.dag()*b\n",
    "    if L==3:\n",
    "        H_occ_q = qutip.Qobj(np.diag([0, ω_q, 2*ω_q]))\n",
    "    else:\n",
    "        H_occ_q = qutip.Qobj(np.diag([0, ω_q]))\n",
    "    #H_occ_r = ω_r * a.dag()*a\n",
    "    H_occ =  H_occ_q#  + H_occ_r\n",
    "    \n",
    "    \n",
    "    use_dispersive = True\n",
    "    use_kerr = True\n",
    "    #if use_dispersive:\n",
    "    #    #H_coup = - chi_qr * a.dag()*a * b.dag()*b\n",
    "    #    H_coup =  χ * (a.dag()*a + I/2) * σ_z\n",
    "    #else:\n",
    "        #H_coup = g * (a.dag() * b + a * b.dag())\n",
    "    #    H_coup = g * σ_x *a.dag() + a\n",
    "    if use_kerr:\n",
    "        H_kerr = + K_q/2 * b.dag()**2 * b**2\n",
    "    else:\n",
    "        H_kerr = ZERO\n",
    "    \n",
    "    H_d = ZERO\n",
    "    \n",
    "    if use_rotating:\n",
    "        H_d += H_kerr\n",
    "        \n",
    "        H_qr = (b.dag() + b)\n",
    "        H_qi = 1j*(b.dag() - b)\n",
    "        #H_rr = (a + a.dag())\n",
    "        #H_ri = 1j*(a.dag() - a)\n",
    "        \n",
    "        if start_pulse is None:\n",
    "            ϵ_qr = lambda t, args: ampl0\n",
    "            ϵ_qi = lambda t, args: ampl0\n",
    "        else:\n",
    "            ϵ_qr = shape_field(lambda t, args: ampl0, start_pulse, T, σ)\n",
    "            ϵ_qi = shape_field(lambda t, args: ampl0, start_pulse, T, σ)\n",
    "        #ϵ_rr = lambda t, args: ampl0\n",
    "        #ϵ_ri = lambda t, args: ampl0\n",
    "        \n",
    "        # Random pulses (doesn't really work)\n",
    "        #ϵ = lambda t, tlist, R: R[np.where(tlist<=t)[0][-1]]\n",
    "        #O = np.random.rand(len(tlist))\n",
    "        #ϵ_qr = lambda t, args: ϵ(t, tlist, O)\n",
    "        #O = np.random.rand(len(tlist))\n",
    "        #ϵ_qi = lambda t, args: ϵ(t, tlist, O)\n",
    "        \n",
    "        \n",
    "        if pulses:\n",
    "            ϵ_qr = pulses[0]\n",
    "            ϵ_qi = pulses[1]\n",
    "        #    ϵ_rr = np.zeros(len(pulses[0]))\n",
    "        #    ϵ_ri = np.zeros(len(pulses[0]))\n",
    "\n",
    "        return [H_d, [H_qr, ϵ_qr], [H_qi, ϵ_qi]]#, [H_rr, ϵ_rr], [H_ri, ϵ_ri]]\n",
    "    else:\n",
    "        H_d += H_occ + H_kerr#+ H_coup\n",
    "        \n",
    "        H_q = b\n",
    "        H_qc = b.dag()\n",
    "        #H_rr = ZERO\n",
    "        #H_ri = ZERO\n",
    "        \n",
    "\n",
    "        ϵ_q = lambda t, args: 1j*ampl0*np.exp(1j*ω_q*t)\n",
    "        ϵ_qc = lambda t, args: -1j*ampl0*np.exp(-1j*ω_q*t)\n",
    "        #ϵ_rr = lambda t, args: ampl0\n",
    "        #ϵ_ri = lambda t, args: ampl0\n",
    "        \n",
    "        if pulses:\n",
    "            ϵ_q = pulses[0]\n",
    "            ϵ_qc = pulses[1]\n",
    "            #ϵ_rr = np.zeros(len(pulses[0]))\n",
    "            #ϵ_ri = np.zeros(len(pulses[0]))\n",
    "        \n",
    "        return [H_d, [H_q, ϵ_q], [H_qc, ϵ_qc]]#, [H_rr, ϵ_rr], [H_ri, ϵ_ri]]\n",
    "\n",
    "# Converts basis state coefficients into the corresponding states of the qubit-resonator system \n",
    "def coeffs_to_state(c,init = True):\n",
    "    if init:\n",
    "        ψ = tensor((c[0]*basis(L,0) + c[1]*basis(L,1)).unit() , (basis(N,0)))\n",
    "    else:\n",
    "        ψ = tensor((basis(L,0)) , (c[0]*cat_0 + c[1]*cat_1).unit())\n",
    "    return ψ\n",
    "\n",
    "# Feeds a list of coeffients into the function above\n",
    "def states(coeffs):\n",
    "    return [[coeffs_to_state(c,True),coeffs_to_state(c,False)] for c in coeffs]"
   ]
  },
  {
   "cell_type": "code",
   "execution_count": null,
   "metadata": {
    "ExecuteTime": {
     "end_time": "2019-02-12T04:19:15.994257Z",
     "start_time": "2019-02-12T04:19:15.986196Z"
    },
    "attributes": {
     "classes": [],
     "id": "",
     "n": "4"
    },
    "scrolled": false
   },
   "outputs": [],
   "source": [
    "H = hamiltonian(ampl0=1, use_rotating=True, phase=np.exp(-1j*ω_q*T))\n",
    "ϕ = [[ basis(L,0), basis(L,1) ]] # Initial and target state\n",
    "F_err = 1e-5 # Infidelity goal\n",
    "F_oc_tar = 1-F_err # Fidelity goal"
   ]
  },
  {
   "cell_type": "markdown",
   "metadata": {},
   "source": [
    "Next, we define the optimization targets, which is technically a list of\n",
    "objectives, but here it has just one entry defining a simple state-to-state\n",
    "transfer\n",
    "from initial state $\\ket{\\Psi_{\\init}} = \\ket{0}$ to the target state\n",
    "$\\ket{\\Psi_{\\tgt}} = \\ket{1}$, which we want to reach at final time $T$. Note\n",
    "that we also have to pass the Hamiltonian $\\op{H}(t)$ that determines the\n",
    "dynamics of\n",
    "the system to the optimization objective."
   ]
  },
  {
   "cell_type": "code",
   "execution_count": null,
   "metadata": {
    "ExecuteTime": {
     "end_time": "2019-02-12T04:19:16.007054Z",
     "start_time": "2019-02-12T04:19:16.000342Z"
    },
    "attributes": {
     "classes": [],
     "id": "",
     "n": "5"
    }
   },
   "outputs": [],
   "source": [
    "# Rotates the target states into the rotating frame\n",
    "def state_rot(ϕ, T):\n",
    "    ϕ = copy.deepcopy(ϕ)\n",
    "    if np.sum(np.array(ϕ[0][1].full())==0) != L-1:\n",
    "        if L == 3:\n",
    "            rot_evo = qutip.Qobj([[1, 0, 0],[0, np.exp(-1j * ω_q * T), 0],[0, 0, 0]])\n",
    "        else:\n",
    "            rot_evo = qutip.Qobj([[1, 0],[0, np.exp(-1j * ω_q * T)]])\n",
    "        \n",
    "        ϕ[0][1] = rot_evo * ϕ[0][1]\n",
    "    return ϕ\n",
    "\n",
    "if use_rotating:\n",
    "    objectives = [krotov.Objective(initial_state=ψ[0], target=ψ[1], H=H) for ψ in state_rot(copy.deepcopy(ϕ), T)]\n",
    "else:\n",
    "    objectives = [krotov.Objective(initial_state=ψ[0], target=ψ[1], H=H) for ψ in ϕ]"
   ]
  },
  {
   "cell_type": "code",
   "execution_count": null,
   "metadata": {
    "ExecuteTime": {
     "end_time": "2019-02-12T04:19:16.028042Z",
     "start_time": "2019-02-12T04:19:16.020799Z"
    },
    "attributes": {
     "classes": [],
     "id": "",
     "n": "7"
    }
   },
   "outputs": [],
   "source": [
    "def S(t, T=6*σ, σ=σ):\n",
    "    rise_time = 2\n",
    "    return amp_max*krotov.shapes.flattop(t, t_start=0, t_stop=T, t_rise=rise_time, t_fall=rise_time, func='sinsq')\n",
    "\n",
    "def start_pulse(t, T=6*σ, σ=σ):\n",
    "    if σ is not None:\n",
    "        return pulse_max(σ)*krotov.shapes.blackman(t, t_start=0, t_stop=6*σ)\n",
    "    else:\n",
    "        return krotov.shapes.blackman(t, t_start=0, t_stop=T)\n",
    "def zero_pulse(t, T=T, σ=4):\n",
    "    return 0\n",
    "def unit_pulse(t, T=T, σ=4):\n",
    "    return 1\n",
    "\n",
    "def shape_field(ϵ, sf, T, σ):\n",
    "    \"\"\"Applies the shape function S(t) to the guess field\"\"\"\n",
    "    ϵ_shaped = lambda t, args: ϵ(t, args)*sf(t, T=T, σ=σ)\n",
    "    return ϵ_shaped\n",
    "\n",
    "S_unit = [unit_pulse,unit_pulse]\n",
    "S_zero = [zero_pulse,zero_pulse]\n",
    "S_start = [lambda t, T=T, σ=σ: 0.01*unit_pulse(t, T=T, σ=σ),start_pulse]\n",
    "S_start = [zero_pulse, start_pulse]\n",
    "S_funs = [S,S]\n",
    "for i, H_i in enumerate(H[1:]):\n",
    "    H_i[1] = shape_field(H_i[1], S_start[i], T, σ)\n"
   ]
  },
  {
   "cell_type": "markdown",
   "metadata": {},
   "source": [
    "## Simulate dynamics of the guess pulse\n",
    "\n",
    "Before heading towards the optimization\n",
    "procedure, we first simulate the\n",
    "dynamics under the guess pulses."
   ]
  },
  {
   "cell_type": "code",
   "execution_count": null,
   "metadata": {
    "ExecuteTime": {
     "end_time": "2019-02-12T04:19:16.263614Z",
     "start_time": "2019-02-12T04:19:16.059709Z"
    },
    "attributes": {
     "classes": [],
     "id": "",
     "n": "11"
    }
   },
   "outputs": [],
   "source": [
    "for H_i in H[1:]:\n",
    "    plot_pulse(H_i[1], tlist)"
   ]
  },
  {
   "cell_type": "code",
   "execution_count": null,
   "metadata": {
    "ExecuteTime": {
     "end_time": "2019-02-12T04:19:16.422181Z",
     "start_time": "2019-02-12T04:19:16.265626Z"
    },
    "attributes": {
     "classes": [],
     "id": "",
     "n": "12"
    },
    "scrolled": true
   },
   "outputs": [],
   "source": [
    "guess_dynamics = [ob.mesolve(tlist, progress_bar=True, options=qutip.Options(nsteps=50000)) for ob in objectives]"
   ]
  },
  {
   "cell_type": "code",
   "execution_count": null,
   "metadata": {},
   "outputs": [],
   "source": [
    "qubit_occupation(guess_dynamics[0])"
   ]
  },
  {
   "cell_type": "code",
   "execution_count": null,
   "metadata": {
    "ExecuteTime": {
     "end_time": "2019-02-12T04:19:16.606020Z",
     "start_time": "2019-02-12T04:19:16.433034Z"
    },
    "attributes": {
     "classes": [],
     "id": "",
     "n": "14"
    },
    "scrolled": true
   },
   "outputs": [],
   "source": [
    "plot_evolution(guess_dynamics, steps=5)"
   ]
  },
  {
   "cell_type": "code",
   "execution_count": null,
   "metadata": {
    "scrolled": true
   },
   "outputs": [],
   "source": [
    "qubit_pulses = [H[2][1](t, 0) for t in tlist]\n",
    "#qubit_pulses_filtered = apply_spectral_filter(copy.deepcopy(qubit_pulses), tlist, 0, 0.5)\n",
    "plot_spectrum(qubit_pulses, tlist, mark_freq=[0, -K_q, -K_q/2], pos=0, xlim=[-2*π,2*π])\n",
    "#plot_spectrum(qubit_pulses_filtered, tlist, mark_freq=[0, K_q], pos=0, xlim=[-2*K_q,2*K_q])\n",
    "#plot_pulse(qubit_pulses, tlist)\n",
    "#plot_pulse(qubit_pulses_filtered, tlist)\n",
    "#plot_spectrum(qubit_pulses[1], time_list, mark_freq=[ω_q, ω_q + K_q, ω_q - K_q], pos=0)"
   ]
  },
  {
   "cell_type": "markdown",
   "metadata": {},
   "source": [
    "## Optimize"
   ]
  },
  {
   "cell_type": "code",
   "execution_count": null,
   "metadata": {},
   "outputs": [],
   "source": [
    "# Frequency limits for spectral filter (not used)\n",
    "ω_0 = 0\n",
    "ω_1 = np.abs(K_q/2)"
   ]
  },
  {
   "cell_type": "code",
   "execution_count": null,
   "metadata": {},
   "outputs": [],
   "source": [
    "def modify_params(**kwargs):\n",
    "    \n",
    "    spectral_filtering = False\n",
    "    \n",
    "    if spectral_filtering:\n",
    "        # Spectral filtering\n",
    "        tlist = kwargs['tlist']\n",
    "        dt = tlist[1] - tlist[0]  # assume equi-distant time grid\n",
    "        n = len(tlist) - 1  # = len(pulse)\n",
    "        # remember that pulses are defined on intervals of tlist\n",
    "        ω = np.abs(np.fft.fftfreq(n, d=dt / (2.0 * π)))\n",
    "        # the normalization factor 2π means that w0 and w1 are angular\n",
    "        # frequencies, corresponding directly to energies in the Hamiltonian\n",
    "        # (ħ = 1).\n",
    "        flt = (ω_0 <= ω) * (ω <= ω_1)\n",
    "        # flt is the (boolean) filter array, equivalent to an array of values 0\n",
    "        # and 1 \n",
    "\n",
    "        shape_arrays = kwargs['shape_arrays']\n",
    "        for (i, (pulse, shape)) in enumerate(zip(kwargs['optimized_pulses'], shape_arrays)):\n",
    "            spectrum = np.fft.fft(pulse)\n",
    "            # apply the filter by element-wise multiplication\n",
    "            spectrum[:] *= flt[:]\n",
    "            # after the inverse fft, we should also multiply with the\n",
    "            # update shape function. Otherwise, there is no guarantee that\n",
    "            # the filtered pulse will be zero at t=0 and t=T (assuming that\n",
    "            # is what the update shape is supposed to enforce). Also, it is\n",
    "            # important that we overwrite `pulse` in-place (pulse[:] = ...)\n",
    "            kwargs['optimized_pulses'][i][:] = np.fft.ifft(spectrum).real * shape\n",
    "    \n",
    "    # Limit pulse amplitude to 1\n",
    "    for i in range(len(kwargs['optimized_pulses'])):\n",
    "        #kwargs['optimized_pulses'][i] = savgol_filter(kwargs['optimized_pulses'][i], 9, 2) # Smooth pulse\n",
    "        \n",
    "        pulse_max = np.max(np.abs(kwargs['optimized_pulses'][i]))\n",
    "        if pulse_max > amp_max:\n",
    "            kwargs['optimized_pulses'][i] = (amp_max*np.array(kwargs['optimized_pulses'][i])/pulse_max)\n",
    "        kwargs['optimized_pulses'][i] = np.fmax(np.fmin(kwargs['optimized_pulses'][i], kwargs['shape_arrays'][i]), -np.array(kwargs['shape_arrays'][i]))\n",
    "        \n",
    "        #conv = 3*σ\n",
    "        #if (conv % 2 == 0): conv += 1\n",
    "        #kwargs['optimized_pulses'][i] = savgol_filter(kwargs['optimized_pulses'][i], conv, 2)\n",
    "        # Plot pulse shapes every 50th iteration\n",
    "        #if kwargs['iteration'] % 50 == 0:\n",
    "        #    plot_pulse(kwargs['optimized_pulses'][i], kwargs['tlist'][:-1], kwargs['tlist'][-1])\n",
    "        #    plot_spectrum(kwargs['optimized_pulses'][i], kwargs['tlist'][:-1], mark_freq=[0, -K_q, -K_q/2], mark_color=['r','g','b'], pos=0, xlim=[-(2*π), (2*π)])\n",
    "    # Update λ\n",
    "    #fac = 1\n",
    "    #steps = 5\n",
    "    #λₐ = kwargs['lambda_vals'][0]\n",
    "    #for i in range(len(kwargs['lambda_vals'])):\n",
    "    #    kwargs['lambda_vals'][i] = λₐ * fac\n",
    "    #    lambda_a = λₐ * fac\n",
    "    #print(\"λₐ = {}\".format(kwargs['lambda_vals']))\n"
   ]
  },
  {
   "cell_type": "code",
   "execution_count": null,
   "metadata": {},
   "outputs": [],
   "source": [
    "# Reset results\n",
    "opt_result = None"
   ]
  },
  {
   "cell_type": "code",
   "execution_count": null,
   "metadata": {},
   "outputs": [],
   "source": [
    "def convergence_reason(opt_result):\n",
    "    if opt_result == None:\n",
    "        return True\n",
    "    reasons = ['monotonic', 'iterations']\n",
    "    for r in reasons:\n",
    "        if opt_result.message.find(r)>0:\n",
    "            return r\n",
    "    if opt_result.message.find('F_oc')>0 or opt_result.message.find('Δ')>0:\n",
    "        return False"
   ]
  },
  {
   "cell_type": "code",
   "execution_count": null,
   "metadata": {
    "ExecuteTime": {
     "end_time": "2019-02-12T04:19:31.206467Z",
     "start_time": "2019-02-12T04:19:16.608784Z"
    },
    "attributes": {
     "classes": [],
     "id": "",
     "n": "15"
    },
    "scrolled": false
   },
   "outputs": [],
   "source": [
    "def run_optim(T, lambda_a, ϕ):\n",
    "    σ = T/6\n",
    "    opt_result = None\n",
    "    print('T = {}'.format(T))\n",
    "    sample_rate = 4 # Gigasamples/s\n",
    "    tlist = np.linspace(0, T, samples_rate*int(np.ceil(T)))\n",
    "    s_pulse = None\n",
    "    H = hamiltonian(ampl0=1, use_rotating=True, start_pulse=s_pulse, T=T, phase=np.exp(-1j*ω_q*T))\n",
    "    \n",
    "    S_start = [zero_pulse, start_pulse]\n",
    "    S_funs = [S, S]\n",
    "    for i, H_i in enumerate(H[1:]):\n",
    "        H_i[1] = shape_field(H_i[1], S_start[i], T, σ)\n",
    "        #H_i[1] = shape_field(H_i[1], S_funs[i], T, σ)\n",
    "        plot_pulse(H_i[1], tlist)\n",
    "    \n",
    "    objectives = [krotov.Objective(initial_state=ψ[0], target=ψ[1], H=H) for ψ in state_rot(ϕ, T)]\n",
    "    \n",
    "    # Check if guess pulse realises\n",
    "    guess_dynamics = [ob.mesolve(tlist, options=qutip.Options(nsteps=50000)) for ob in objectives]\n",
    "    final_state = guess_dynamics[0].states[-1]\n",
    "    dm = final_state * ϕ[0][1].dag()\n",
    "    fid = np.abs((final_state.dag() * ϕ[0][1]).full()[0][0])**2\n",
    "    if fid > F_oc_tar:\n",
    "        print('Guess pulse realises transfer already.')\n",
    "        return True\n",
    "    \n",
    "    pulse_options = {H_i[1]: dict(lambda_a=lambda_a, shape=lambda t: S_funs[i](t, T=T, σ=σ)) for i, H_i in enumerate(H[1:])}\n",
    "    #pulse_options = {\n",
    "    #    H[2][1]: dict(lambda_a=lambda_a, shape=0),\n",
    "    #    H[1][1]: dict(lambda_a=lambda_a, shape=lambda t: S_funs[0](t, T=T, σ=σ)),    \n",
    "    #}\n",
    "    while convergence_reason(opt_result):\n",
    "        if convergence_reason(opt_result) == 'monotonic':\n",
    "            break\n",
    "            #lambda_a *= 2\n",
    "        #    print('λₐ = {}'.format(lambda_a))\n",
    "        #    pulse_options = {H_i[1]: dict(lambda_a=lambda_a, shape=lambda t: S_funs[i](t, T)) for i, H_i in enumerate(H[1:])}\n",
    "        #iters = 5\n",
    "        #if opt_result is not None:\n",
    "        #    iters = opt_result.iters[-1] + iters\n",
    "\n",
    "        opt_result = krotov.optimize_pulses(\n",
    "            objectives,\n",
    "            pulse_options=pulse_options,\n",
    "            tlist=tlist,\n",
    "            propagator=krotov.propagators.expm,\n",
    "            chi_constructor=krotov.functionals.chis_ss,\n",
    "            info_hook=krotov.info_hooks.chain(\n",
    "                krotov.info_hooks.print_table(J_T=F_oc),\n",
    "                print_fidelity\n",
    "            ),\n",
    "            check_convergence=krotov.convergence.Or(\n",
    "                krotov.convergence.value_above(F_oc_tar, name='F_oc'),\n",
    "                krotov.convergence.delta_below(1e-9),\n",
    "                #krotov.convergence.check_monotonic_fidelity,\n",
    "            ),\n",
    "            modify_params_after_iter = modify_params,\n",
    "            #iter_stop=1,\n",
    "            continue_from = opt_result,\n",
    "            store_all_pulses=True,\n",
    "        )\n",
    "        print(opt_result.message)\n",
    "    opt_result.dump(os.path.join(os.getcwd(),'results','{}_pi_pulse_optim_{}.dat'.format(current_time(),T)))"
   ]
  },
  {
   "cell_type": "code",
   "execution_count": null,
   "metadata": {
    "scrolled": true
   },
   "outputs": [],
   "source": [
    "step_size = pulse_max(0)*2. # Higher numbers can lead to instability while lower can make convergence much slower\n",
    "λ = 1/step_size\n",
    "ϕ = [[ basis(L,0), (basis(L,1)).unit() ]] # Initial and target states\n",
    "\n",
    "existing_times = [float(file.split('_')[4][:-4]) for file in os.listdir('results')]\n",
    "t_times = np.flip(np.arange(1,21.5,1)) # List of pulse lengths to optimise for\n",
    "#t_times = [55.]\n",
    "\n",
    "for tot in t_times:\n",
    "    if tot not in [float(file.split('_')[4][:-4]) for file in os.listdir('results')]:\n",
    "        #plot_cardinal(state_rot(ϕ, tot)[0])\n",
    "        if tot.is_integer():\n",
    "            tot = int(tot)\n",
    "        run_optim(tot, λ, ϕ)\n",
    "    else:\n",
    "        print('T = {} already exists'.format(tot))"
   ]
  },
  {
   "cell_type": "markdown",
   "metadata": {},
   "source": [
    "## Plot optimized results (unused)"
   ]
  },
  {
   "cell_type": "code",
   "execution_count": null,
   "metadata": {},
   "outputs": [],
   "source": [
    "folder = 'best_results_ge' # best_results_ge or best_results_gf\n",
    "results = [(krotov.result.Result.load(os.path.join(os.getcwd(),folder,file), objectives=get_objectives(T=float(file.split('_')[-1][:-4]))), float(file.split('_')[-1][:-4])) for file in os.listdir(folder) if file[-4:]=='.dat']\n",
    "%matplotlib inline\n",
    "#%matplotlib notebook\n",
    "#print(vars(results[0][0]))\n",
    "#plot_results_3d(results)\n",
    "#ax = plot_results_pulse_length(results, iteration=0, shape='.',color='g')\n",
    "#ax = plot_results_pulse_length(results, iteration=10000, shape='.', ax=ax)\n",
    "#ax.legend(['1st iter.','Last iter.'])\n",
    "#ax.legend(('1st iter.', 'Last iter.'))\n",
    "#plot_results_iteration(results)\n",
    "plot_results_pulse_length_iterations(results)\n",
    "#matplotlib2tikz.save(\"fidelity-length-gf.tikz\")"
   ]
  },
  {
   "cell_type": "code",
   "execution_count": null,
   "metadata": {},
   "outputs": [],
   "source": [
    "for i in range(len(results)+1):\n",
    "    ax = plot_results_pulse_length(results, iteration=i)\n",
    "    ax.set_title('Iteration {}'.format(i))\n",
    "    plt.savefig('gif/{}.png'.format(i))\n",
    "    ax.clear()"
   ]
  },
  {
   "cell_type": "code",
   "execution_count": null,
   "metadata": {},
   "outputs": [],
   "source": [
    "def plot_pulse_both(pulse, pulse2, tlist, T=None):\n",
    "    fig, ax = plt.subplots(2,1,figsize=(7.5,8))\n",
    "    if callable(pulse):\n",
    "        pulse = np.array([pulse(t, args=None) for t in tlist])\n",
    "    if np.any(np.iscomplex(pulse)):\n",
    "        ax[0].plot(tlist, np.real(pulse))\n",
    "        ax[0].plot(tlist, np.imag(pulse))\n",
    "        ax[0].legend(['Re', 'Im'])\n",
    "    else:\n",
    "        ax[0].plot(tlist, pulse)\n",
    "    if T is not None:\n",
    "        ax[0].plot(tlist, [S(t, T) for t in tlist], color='k', linestyle='--', linewidth=1)\n",
    "        ax[0].plot(tlist, [-S(t, T) for t in tlist], color='k', linestyle='--', linewidth=1)\n",
    "    #ax[0].set_xlabel('Time (ns)')\n",
    "    ax[0].set_ylabel('Re($\\Omega$)')\n",
    "    ax[0].set_ylim([-amp_max*1.05,amp_max*1.05])\n",
    "    \n",
    "    if callable(pulse2):\n",
    "        pulse = np.array([pulse2(t, args=None) for t in tlist])\n",
    "    if np.any(np.iscomplex(pulse2)):\n",
    "        ax[1].plot(tlist, np.real(pulse2))\n",
    "        ax[1].plot(tlist, np.imag(pulse2))\n",
    "        ax[1].legend(['Re', 'Im'])\n",
    "    else:\n",
    "        ax[1].plot(tlist, pulse2)\n",
    "    if T is not None:\n",
    "        ax[1].plot(tlist, [S(t, T) for t in tlist], color='k', linestyle='--', linewidth=1)\n",
    "        ax[1].plot(tlist, [-S(t, T) for t in tlist], color='k', linestyle='--', linewidth=1)\n",
    "    ax[1].set_xlabel('Time (ns)')\n",
    "    ax[1].set_ylabel('Im($\\Omega$)')\n",
    "    ax[1].set_ylim([-amp_max*1.05,amp_max*1.05])\n",
    "    return fig"
   ]
  },
  {
   "cell_type": "code",
   "execution_count": null,
   "metadata": {},
   "outputs": [],
   "source": [
    "\n",
    "r = results[1][0]\n",
    "tilist = r.tlist[0:-1]\n",
    "for i in range(len(r.all_pulses)):\n",
    "    fig = plot_pulse_both(r.all_pulses[i][0], r.all_pulses[i][1], tilist)\n",
    "    fig.axes[0].set_title('Iteration {}'.format(i))\n",
    "    fig.savefig('gif/{}.png'.format(i))\n",
    "    plt.close()\n",
    "#    ax.clear()"
   ]
  },
  {
   "cell_type": "code",
   "execution_count": null,
   "metadata": {},
   "outputs": [],
   "source": [
    "plot_results_pulse_length(results, iteration=20, ax=ax)\n",
    "ax = plt.axes()\n",
    "def interactive_plot(iteration):\n",
    "    plot_results_pulse_length(results, iteration=iteration, ax=ax)\n",
    "interact(interactive_plot, iteration=widgets.IntSlider(min=0,max=900,step=1,value=0));"
   ]
  },
  {
   "cell_type": "code",
   "execution_count": null,
   "metadata": {},
   "outputs": [],
   "source": [
    "%matplotlib inline"
   ]
  },
  {
   "cell_type": "markdown",
   "metadata": {},
   "source": [
    "# Analyze"
   ]
  },
  {
   "cell_type": "code",
   "execution_count": null,
   "metadata": {},
   "outputs": [],
   "source": [
    "folder = 'best_results_ge'\n",
    "#ϕ = [[ basis(L,0), basis(L,1) ]]\n",
    "results = [(krotov.result.Result.load(os.path.join(os.getcwd(),folder,file), objectives=get_objectives(T=float(file.split('_')[-1][:-4]))), float(file.split('_')[-1][:-4])) for file in os.listdir(folder) if file[-4:]=='.dat']\n",
    "#results = [(krotov.result.Result.load(os.path.join(os.getcwd(),folder,file)), float(file.split('_')[-1][:-4])) for file in os.listdir(folder) if file[-4:]=='.dat']\n",
    "results = sorted(results, key=lambda x : x[1])\n",
    "print(len(results))\n",
    "idx_list = [0,7,15,23,63,-1] # 0->1\n",
    "#idx_list = [0,2,4,6,7,-1]  # 0->2\n",
    "res = []\n",
    "for i in idx_list:\n",
    "    res = res+[results[i]]\n",
    "results = res\n",
    "for T in results:\n",
    "    print(T[1])\n",
    "    #print(len(T[0].tau_vals))\n",
    "    #if T[0].message[21] is 'F':\n",
    "    #    print(T[1])\n"
   ]
  },
  {
   "cell_type": "code",
   "execution_count": null,
   "metadata": {
    "scrolled": true
   },
   "outputs": [],
   "source": [
    "#T_q = (2*π)/ω_q\n",
    "steps2 = len(results[0][0].tlist)*1000\n",
    "lightness = 1\n",
    "for (r,T) in results:\n",
    "    tlist = r.tlist\n",
    "    #opt_dynamics = [ob.mesolve(tlist, progress_bar=True) for ob in r.objectives]\n",
    "    #qubit_occupation(opt_dynamics[0])\n",
    "    \n",
    "    \n",
    "    c = r.optimized_controls\n",
    "    tlist2 = np.linspace(0, tlist[-1], steps2)\n",
    "    Ω = c[0]+1j*c[1]\n",
    "    #puls = np.abs(Ω)\n",
    "    #fas = np.angle(Ω)\n",
    "    Ω = np.interp(tlist2, tlist, Ω)\n",
    "    pulses_lab = [np.conj(Ω)*np.exp(1j*ω_q*tlist2), np.conj(Ω)*np.exp(-1j*ω_q*tlist2)]\n",
    "    \n",
    "    #opt_dynamics = [ob.mesolve(tlist, progress_bar=True) for ob in r.optimized_objectives]\n",
    "    '''\n",
    "    fig = plot_pulse(r.guess_controls[0], tlist)\n",
    "    fig = plot_pulse(c[0], tlist, fig=fig)\n",
    "    fig.axes[0].set_ylabel('Re($\\Omega$)')\n",
    "    #fig.axes[0].legend(['Guess', 'Optim.'])\n",
    "    matplotlib2tikz.save(\"../Figures/Results/pulse_shape_{}_Real.tikz\".format(str(T).replace('.',',')),\n",
    "                         figureheight = '\\\\figureheight',figurewidth = '\\\\figurewidth')\n",
    "    \n",
    "    fig = plot_pulse(r.guess_controls[1], tlist)\n",
    "    fig = plot_pulse(c[1], tlist, fig=fig)\n",
    "    fig.axes[0].set_ylabel('Re($\\Omega$)')\n",
    "    fig.axes[0].legend(['Guess', 'Optim.'])\n",
    "    matplotlib2tikz.save(\"../Figures/Results/pulse_shape_{}_Imag.tikz\".format(str(T).replace('.',',')),\n",
    "                         figureheight = '\\\\figureheight',figurewidth = '\\\\figurewidth')\n",
    "    '''\n",
    "    #qubit_occupation(opt_dynamics[0])\n",
    "    #matplotlib2tikz.save(\"../Figures/Results/qubit_occ_{}.tikz\".format(str(T).replace('.',',')),\n",
    "    #                     figureheight = '\\\\figureheight',figurewidth = '\\\\figurewidth')\n",
    "    \n",
    "    col = lightness*np.array([0.121569, 0.466667, 0.705882])\n",
    "    if T==22.0 or T==4.25:\n",
    "        fig = plot_spectrum(pulses_lab[0], tlist2, mark_freq=[ω_q+K_q, ω_q, ω_q-K_q],mark_color=[u'#1f77b4', u'#ff7f0e', u'#2ca02c'], pos=0, xlim=[ω_q*0.8, ω_q*1.2], col=col)\n",
    "    elif T==55. or T==30.:\n",
    "        fig = plot_spectrum(pulses_lab[0], tlist2, mark_freq=[ω_q+K_q, ω_q, ω_q-K_q],mark_color=[u'#1f77b4', u'#ff7f0e', u'#2ca02c'], pos=0, xlim=[ω_q*0.8, ω_q*1.2], fig = fig,col=col)\n",
    "    else:\n",
    "        fig = plot_spectrum(pulses_lab[0], tlist2, xlim=[ω_q*0.8, ω_q*1.2], fig = fig,col=col)\n",
    "    #fig.axes[0].set_title('Spectrum of pulse (lab frame)')\n",
    "    #fig.axes[0].legend(['Spec.',r'$\\omega_{01}$',r'$\\omega_{12}$',r'$\\omega_{02}$'])\n",
    "    #matplotlib2tikz.save(\"../Figures/Results/pulse_spectrum_{}.tikz\".format(str(T).replace('.',',')),\n",
    "    #                     figureheight = '\\\\figureheight',figurewidth = '\\\\figurewidth')\n",
    "    lightness -= 0.1\n",
    "    \n",
    "    '''\n",
    "    final_state = opt_dynamics[0].states[-1]\n",
    "    #target_state = r.objectives[0].target\n",
    "    fig, ax = qutip.visualization.hinton(final_state*final_state.dag())\n",
    "    matplotlib2tikz.save(\"../Figures/Results/hinton_gf_{}.tikz\".format(str(T).replace('.',',')),\n",
    "                         figureheight = '\\\\figureheight',figurewidth = '\\\\figurewidth')\n",
    "    \n",
    "    fig = plot_evolution(opt_dynamics)\n",
    "    fig.save(name=\"../Figures/Results/bloch_evolution_{}.png\".format(str(T).replace('.',',')))\n",
    "    #fig = plot_spectrum(pulses_lab[1], tlist2, mark_freq=[-ω_q, -ω_ef, -ω_gf],mark_color=['r','g','b'], pos=0, xlim=[-ω_q*0.8, -ω_q*1.2])\n",
    "    #fig.axes[0].set_title('Spectrum of Im($\\omega$)')\n",
    "    #fig.axes[0].legend(['Spec.',r'$\\omega_{01}$',r'$\\omega_{12}$',r'$\\omega_{02}$'])\n",
    "    #H_lab = hamiltonian(ampl0=1, use_rotating=False, pulses=pulses_lab)\n",
    "    #objectives_lab = [krotov.Objective(initial_state=ψ[0], target=ψ[1], H=H_lab) for ψ in ϕ]\n",
    "    '''\n",
    "#fig.axes[0].legend(['22 ns','000','000','000','24 ns','26 ns','28 ns','29 ns','55 ns']);\n",
    "fig.axes[0].legend(['4.25 ns','000','000','000','10 ns','30 ns','10 ns','20 ns','30 ns']);\n",
    "fig.axes[0].set_title('Spectrum of pulse (lab frame)');\n",
    "fig.axes[0].set_ylabel('Pulse amplitude');\n",
    "#fig.axes[0].legend(['Spec.',r'$\\omega_{01}$',r'$\\omega_{12}$',r'$\\omega_{02}$'])\n",
    "matplotlib2tikz.save(\"../Figures/Results/pulse_spectrum_qubit.tikz\",\n",
    "                        figureheight = '\\\\figureheight',figurewidth = '\\\\figurewidth')\n",
    "subprocess.call(\"../Figures/Results/move_files.sh\", shell=False)"
   ]
  },
  {
   "cell_type": "code",
   "execution_count": null,
   "metadata": {},
   "outputs": [],
   "source": [
    "# Move figures to Latex folder\n",
    "#os.system(['wsl.exe','../Figures/Results/move_files.sh'])\n",
    "subprocess.call(\"../Figures/Results/move_files.sh\", shell=False)"
   ]
  },
  {
   "cell_type": "code",
   "execution_count": null,
   "metadata": {
    "scrolled": true
   },
   "outputs": [],
   "source": [
    "xlabels = ['$|0\\\\rangle$','$|1\\\\rangle$','$|2\\\\rangle$']\n",
    "ylabels = ['$\\\\langle 0|$','$\\\\langle 1|$','$\\\\langle 2|$']\n",
    "#final_state = desuperposition(opt_dynamics[0].states[-1], F_err)\n",
    "\n",
    "#target_state = results[0][0].objectives[0].target\n",
    "plot_matrix_final_target(target_state, final_state, xlabels, ylabels, el=45, az=150)\n",
    "plot_matrix_final_target(target_state, final_state, xlabels, ylabels, el=10, az=150)\n",
    "plot_cardinal([target_state, final_state])\n",
    "plot_evolution(opt_dynamics)\n",
    "\n",
    "#cmap = matplotlib.cm.RdBu\n",
    "#norm = matplotlib.colors.Normalize(-1, 1)\n",
    "#matplotlib.colorbar.ColorbarBase(fig.axes[1], norm=norm, cmap=cmap);"
   ]
  },
  {
   "cell_type": "code",
   "execution_count": null,
   "metadata": {
    "scrolled": false
   },
   "outputs": [],
   "source": [
    "T_q = (2*π)/ω_q\n",
    "steps2 = len(results[0][0].tlist)*1000\n",
    "for (r,_) in results:\n",
    "    tlist = r.tlist\n",
    "    #opt_dynamics = [ob.mesolve(tlist, progress_bar=True) for ob in r.objectives]\n",
    "    #qubit_occupation(opt_dynamics[0])\n",
    "    \n",
    "    c = r.optimized_controls\n",
    "    tlist2 = np.linspace(0, tlist[-1], steps2)\n",
    "    Ω = c[0]+1j*c[1]\n",
    "    Ω = np.interp(tlist2, tlist, Ω)\n",
    "    pulses_lab = [Ω*np.exp(1j*ω_q*tlist2), np.conj(Ω)*np.exp(-1j*ω_q*tlist2)]\n",
    "    opt_dynamics = [ob.mesolve(tlist, progress_bar=True) for ob in r.optimized_objectives]\n",
    "    plot_pulse(r.guess_controls[0], tlist)\n",
    "    print(np.max(r.guess_controls[1]))\n",
    "    plot_pulse(r.guess_controls[1], tlist)\n",
    "    plot_pulse(c[0], tlist)\n",
    "    plot_pulse(c[1], tlist)\n",
    "    plot_pulse(pulses_lab[0], tlist2)\n",
    "    plot_pulse(pulses_lab[1], tlist2)\n",
    "    qubit_occupation(opt_dynamics[0])\n",
    "    plot_spectrum(pulses_lab[0], tlist2, mark_freq=[ω_q, ω_ef, ω_gf],mark_color=['r','g','b'], pos=0, xlim=[ω_q*0.9, ω_q*1.1])\n",
    "    #plot_spectrum(pulses_lab[1], tlist2, mark_freq=[ω_q, ω_ef, ω_gf], pos=0, xlim=[-ω_q*0.95, -ω_q*1.05])\n",
    "    #H_lab = hamiltonian(ampl0=1, use_rotating=False, pulses=pulses_lab)\n",
    "    #objectives_lab = [krotov.Objective(initial_state=ψ[0], target=ψ[1], H=H_lab) for ψ in ϕ]\n",
    "    \n",
    "    "
   ]
  }
 ],
 "metadata": {
  "hide_input": false,
  "kernelspec": {
   "display_name": "Python 3",
   "language": "python",
   "name": "python3"
  },
  "language_info": {
   "codemirror_mode": {
    "name": "ipython",
    "version": 3
   },
   "file_extension": ".py",
   "mimetype": "text/x-python",
   "name": "python",
   "nbconvert_exporter": "python",
   "pygments_lexer": "ipython3",
   "version": "3.7.2"
  },
  "toc": {
   "base_numbering": 1,
   "nav_menu": {},
   "number_sections": true,
   "sideBar": true,
   "skip_h1_title": false,
   "title_cell": "Table of Contents",
   "title_sidebar": "Contents",
   "toc_cell": false,
   "toc_position": {},
   "toc_section_display": true,
   "toc_window_display": false
  },
  "varInspector": {
   "cols": {
    "lenName": 16,
    "lenType": 16,
    "lenVar": 40
   },
   "kernels_config": {
    "python": {
     "delete_cmd_postfix": "",
     "delete_cmd_prefix": "del ",
     "library": "var_list.py",
     "varRefreshCmd": "print(var_dic_list())"
    },
    "r": {
     "delete_cmd_postfix": ") ",
     "delete_cmd_prefix": "rm(",
     "library": "var_list.r",
     "varRefreshCmd": "cat(var_dic_list()) "
    }
   },
   "types_to_exclude": [
    "module",
    "function",
    "builtin_function_or_method",
    "instance",
    "_Feature"
   ],
   "window_display": false
  }
 },
 "nbformat": 4,
 "nbformat_minor": 2
}
