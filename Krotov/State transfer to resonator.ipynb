{
 "cells": [
  {
   "cell_type": "markdown",
   "metadata": {},
   "source": [
    "# Optimization of Encoding Pulses for Cat Codes"
   ]
  },
  {
   "cell_type": "code",
   "execution_count": null,
   "metadata": {
    "ExecuteTime": {
     "end_time": "2019-02-12T04:19:15.953542Z",
     "start_time": "2019-02-12T04:19:14.691832Z"
    },
    "attributes": {
     "classes": [],
     "id": "",
     "n": "1"
    }
   },
   "outputs": [],
   "source": [
    "# NBVAL_IGNORE_OUTPUT\n",
    "%load_ext watermark\n",
    "#%load_ext autoreload\n",
    "#%autoreload 2\n",
    "import qutip\n",
    "import numpy as np\n",
    "import scipy\n",
    "from ipywidgets import interact\n",
    "import ipywidgets as widgets\n",
    "import matplotlib\n",
    "import matplotlib.pylab as plt\n",
    "import krotov\n",
    "import os\n",
    "import copy\n",
    "import subprocess\n",
    "from bisect import bisect_left\n",
    "import matplotlib2tikz\n",
    "from scipy.signal import savgol_filter\n",
    "%matplotlib notebook\n",
    "%watermark -v --iversions\n",
    "π = np.pi\n",
    "sqrt = np.sqrt\n",
    "basis = qutip.basis\n",
    "tensor = qutip.tensor\n",
    "coherent = qutip.coherent\n",
    "from datetime import datetime\n",
    "def current_time():\n",
    "    return datetime.now().isoformat()[:16].replace('T',' ')"
   ]
  },
  {
   "cell_type": "code",
   "execution_count": null,
   "metadata": {},
   "outputs": [],
   "source": [
    "L = 2 # Qubit truncated Hilbert size\n",
    "N = 8 # Resonator truncated Hilbert size\n",
    "α = 2 # Mean photon number of resonator coherent states"
   ]
  },
  {
   "cell_type": "markdown",
   "metadata": {},
   "source": [
    "# Plotting and helper functions"
   ]
  },
  {
   "cell_type": "code",
   "execution_count": null,
   "metadata": {
    "scrolled": false
   },
   "outputs": [],
   "source": [
    "def to_two_level(state):\n",
    "    if state.type is 'oper':\n",
    "        return qutip.Qobj(state[0:2,0:2])\n",
    "    else:\n",
    "        return qutip.Qobj(state[0:2])\n",
    "\n",
    "def plot_population(n, tlist):\n",
    "    fig, ax = plt.subplots(figsize=(7.5,4))\n",
    "    leg = []\n",
    "    for i in range(len(n)):\n",
    "        ax.plot(tlist, n[i], label=str(i))\n",
    "        leg.append('$|'+str(i)+'\\\\rangle$')\n",
    "    ax.legend()\n",
    "    ax.set_xlabel('Time (ns)')\n",
    "    ax.set_ylabel('Occupation')\n",
    "    ax.legend(leg)\n",
    "    #plt.show(fig)\n",
    "    return fig\n",
    "\n",
    "def plot_pulse(pulse, tlist, T=None, fig=None):\n",
    "    if fig is None:\n",
    "        fig, ax = plt.subplots(figsize=(7.5,4))\n",
    "    else:\n",
    "        ax = fig.axes[0]\n",
    "    if callable(pulse):\n",
    "        pulse = np.array([pulse(t, args=None) for t in tlist])\n",
    "    if np.any(np.iscomplex(pulse)):\n",
    "        ax.plot(tlist, np.real(pulse))\n",
    "        ax.plot(tlist, np.imag(pulse))\n",
    "        ax.legend(['Re', 'Im'])\n",
    "    else:\n",
    "        ax.plot(tlist, pulse)\n",
    "    if T is not None:\n",
    "        ax.plot(tlist, [S(t, T) for t in tlist], color='k', linestyle='--', linewidth=1)\n",
    "        ax.plot(tlist, [-S(t, T) for t in tlist], color='k', linestyle='--', linewidth=1)\n",
    "    ax.set_xlabel('Time (ns)')\n",
    "    ax.set_ylabel('Pulse amplitude')\n",
    "    ax.set_ylim([-pulse_max(0)*1.05,pulse_max(0)*1.05])\n",
    "    #plt.show()\n",
    "    return fig\n",
    "\n",
    "def plot_system(ψ):\n",
    "    bl = qutip.Bloch()\n",
    "    bl.add_states(to_two_level(ψ.ptrace(0)))\n",
    "    bl.show()\n",
    "    qutip.visualization.plot_wigner_fock_distribution(to_two_level(ψ.ptrace(1)))\n",
    "def plot_resonator(ψ):\n",
    "    fig, ax = plt.subplots(1,len(ψ), figsize=(3*len(ψ),3))\n",
    "    if len(ψ)<=1:\n",
    "        ψ = ψ[0]\n",
    "        axis = ax\n",
    "        qutip.visualization.plot_wigner(ψ.ptrace(1), fig=fig, ax=axis, alpha_max = 2*α)\n",
    "        axis.axis_equal = True\n",
    "    else:\n",
    "        for (ϕ, axis) in zip(ψ, ax):\n",
    "            qutip.visualization.plot_wigner(ϕ.ptrace(1), fig=fig, ax=axis, alpha_max = 2*α)\n",
    "            axis.axis_equal = True\n",
    "        \n",
    "def plot_cardinal(ψ):\n",
    "    bl = qutip.Bloch()\n",
    "    bl.vector_color = ['r','g','b','g','b','r']\n",
    "    [bl.add_states(to_two_level(ϕ.ptrace(0)), 'vector') for ϕ in ψ]\n",
    "    bl.show()\n",
    "    return bl\n",
    "\n",
    "def plot_all(dyn, ψ):\n",
    "    ψ_i = [g.states[0] for g in dyn]\n",
    "    ψ_f = [g.states[-1] for g in dyn]\n",
    "    ψ_t = [ϕ[1] for ϕ in ψ]\n",
    "    plot_cardinal(ψ_i)\n",
    "    plot_resonator(ψ_i)\n",
    "    plot_cardinal(ψ_t)\n",
    "    plot_resonator(ψ_t)\n",
    "    plot_cardinal(ψ_f)\n",
    "    plot_resonator(ψ_f)\n",
    "def plot_evolution(dyn, steps=1, color_list=[[1,0,0]]):\n",
    "    points = [s.ptrace(0) for s in dyn.states[0:-1:steps]]\n",
    "    bl = qutip.Bloch()\n",
    "    bl.vector_color = 'r'\n",
    "    bl.point_color = color_list\n",
    "    bl.point_marker = 'o'\n",
    "    bl.add_states(points, 'point')\n",
    "    bl.show()\n",
    "    return bl\n",
    "def get_objectives(T=None):\n",
    "    if use_rotating:\n",
    "        objectives = [krotov.Objective(initial_state=ψ[0], target=ψ[1], H=H) for ψ in state_rot(ϕ, T)]\n",
    "    else:\n",
    "        objectives = [krotov.Objective(initial_state=ψ[0], target=ψ[1], H=H) for ψ in ϕ]\n",
    "    return objectives\n",
    "def plot_matrix_final_target(target_state, final_state, xlabels, ylabels, el=30, az=135):\n",
    "    fig, ax = qutip.visualization.matrix_histogram(final_state * target_state.dag(), xlabels, ylabels, colorbar=False, limits=[-1,1])\n",
    "    qutip.visualization.matrix_histogram(proj(target_state), xlabels, ylabels, colorbar=False, limits=[-1,1], fig=fig, ax=ax)\n",
    "    facecolors = np.zeros((6*L**2,4))*0.1\n",
    "    edgecolors = np.tile([0,0,0,0.9], (6*L**2,1))\n",
    "    ax.get_children()[2].set_facecolors(facecolors)\n",
    "    ax.get_children()[2].set_edgecolors(edgecolors)\n",
    "    ax.set_zticks(np.arange(-1,1,0.25))\n",
    "    ax.view_init(elev=el, azim=az)\n",
    "    return (fig, ax)"
   ]
  },
  {
   "cell_type": "code",
   "execution_count": null,
   "metadata": {},
   "outputs": [],
   "source": [
    "def F_oc(fw_states_T, objectives, tau_vals=None, **kwargs):\n",
    "    return krotov.functionals.F_ss(fw_states_T, objectives, tau_vals, **kwargs)\n",
    "\n",
    "def calc_fidelity(tau_vals):\n",
    "    return np.abs(np.sum(tau_vals)/len(tau_vals))**2\n",
    "\n",
    "def print_fidelity(**args):\n",
    "    fid = calc_fidelity(np.array(args['tau_vals']))\n",
    "    print(\"          F_t = {} | F = {} | F_t - F = {}\".format(F_oc_tar, fid, F_oc_tar-fid))\n",
    "def plot_fid_convergence(info_vals):\n",
    "    fig, ax = plt.subplots(1,1)\n",
    "    ax.plot(info_vals)\n",
    "    ax.set_xticks(np.arange(0, len(info_vals), step=1))\n",
    "    ax.set_xlabel('Iteration')\n",
    "    ax.set_ylabel('Fidelity')\n",
    "    #ax.set_ylim((-0.2,.2))\n",
    "    plt.show()\n",
    "def plot_fid_convergence(ax, info_vals, T):\n",
    "    ax.plot3D(range(0,len(info_vals)), [T]*len(info_vals), info_vals)"
   ]
  },
  {
   "cell_type": "code",
   "execution_count": null,
   "metadata": {},
   "outputs": [],
   "source": [
    "def qubit_occupation(dyn):\n",
    "    occ = [basis(L,i)*basis(L,i).dag() for i in range(0,L)]\n",
    "    states = [state.ptrace(0) for state in dyn.states]\n",
    "    n = qutip.expect(occ, states)\n",
    "    fig = plot_population(n, dyn.times)\n",
    "    return fig\n",
    "def resonator_occupation(dyn, export=False):\n",
    "    occ = [basis(N,i)*basis(N,i).dag() for i in range(0,N)]\n",
    "    states = [state.ptrace(1) for state in dyn.states]\n",
    "    n = qutip.expect(occ, states)\n",
    "    if export is True:\n",
    "        return n\n",
    "    else:\n",
    "        fig = plot_population(n, dyn.times);\n",
    "        return fig\n",
    "def plot_norm(result):\n",
    "    state_norm = lambda i: result.states[i].norm()\n",
    "    states_norm=np.vectorize(state_norm)\n",
    "\n",
    "    fig, ax = plt.subplots()\n",
    "    ax.plot(result.times, states_norm(np.arange(len(result.states))))\n",
    "    ax.set_title('Norm loss', fontsize = 15)\n",
    "    ax.set_xlabel('Time (ns)')\n",
    "    ax.set_ylabel('State norm')\n",
    "    plt.show(fig)"
   ]
  },
  {
   "cell_type": "code",
   "execution_count": null,
   "metadata": {},
   "outputs": [],
   "source": [
    "def plot_spectrum(pulse, tlist, mark_freq=None, pos=1, xlim=None, mark_color=['k','k','k']):\n",
    "    samples = len(tlist)\n",
    "    sample_interval = tlist[-1]/samples\n",
    "    signal_qubit = np.pad(pulse, (0, power_two-samples), mode='constant')\n",
    "    samples = power_two\n",
    "    time = np.linspace(0, samples*sample_interval, samples)\n",
    "\n",
    "    #signal_qubit = pulse\n",
    "    signal_spectrum = np.fft.fftshift(np.fft.fft(signal_qubit))\n",
    "    freqs = np.fft.fftshift(np.fft.fftfreq(samples, d=sample_interval))\n",
    "\n",
    "    fig, ax = plt.subplots(figsize=(10,5))\n",
    "    start_idx = bisect_left(freqs, xlim[0]/(2*π))\n",
    "    end_idx = bisect_left(freqs, xlim[1]/(2*π))\n",
    "    ax.plot(freqs[start_idx:end_idx+1], np.abs(signal_spectrum[start_idx:end_idx+1])/len(signal_qubit))  # in GHz\n",
    "    if mark_freq is not None:\n",
    "        if not isinstance(mark_freq, list):\n",
    "            mark_freq = [mark_freq]\n",
    "        mf = np.array(mark_freq)/(2*π)\n",
    "        if pos==1:\n",
    "            ax.set_xlim(0, 2*mf[0])\n",
    "        elif pos==-1:\n",
    "            ax.set_xlim(-2*mf[0], 0)\n",
    "        elif xlim is not None:\n",
    "            ax.set_xlim(xlim[0]/(2*π), xlim[1]/(2*π))\n",
    "        [ax.axvline(x=m_f, ymin=0, ymax=1, color=col, linestyle='--', linewidth=1) for (m_f, col) in zip(mf, mark_color)]\n",
    "        #[ax.axvline(x=m_f, ymin=0, ymax=1, linestyle='--', linewidth=1) for (m_f, col) in zip(mf, mark_color)]\n",
    "    ax.set_title('Qubit pulse spectrum')\n",
    "    ax.set_xlabel('f (GHz)');\n",
    "    return fig"
   ]
  },
  {
   "cell_type": "code",
   "execution_count": null,
   "metadata": {},
   "outputs": [],
   "source": [
    "def fid(final, target):\n",
    "    return (np.abs((final.dag()*target).full())**2)[0][0]\n",
    "def proj(ψ, ϕ=None):\n",
    "    if ϕ is None:\n",
    "        return ψ * ψ.dag()\n",
    "    else:\n",
    "        return ψ * ϕ.dag()"
   ]
  },
  {
   "cell_type": "code",
   "execution_count": null,
   "metadata": {},
   "outputs": [],
   "source": [
    "def plot_results_3d(results):\n",
    "    fig = plt.figure()\n",
    "    ax = plt.axes(projection='3d')\n",
    "    ax.set_xlabel('Iteration')\n",
    "    ax.set_zlabel('Fidelity')\n",
    "    ax.set_ylabel('Pulse length')\n",
    "    ax.set_zlim(0,1.1)\n",
    "    for (r, T) in results:\n",
    "        plot_fid_convergence(ax, r.info_vals[1:], T)\n",
    "    ax.view_init(elev=20, azim=340)\n",
    "    return (fig, ax)\n",
    "\n",
    "def plot_results_iteration(results, fig=None):\n",
    "    if fig is None:\n",
    "        fig = plt.figure()\n",
    "        ax = plt.axes()\n",
    "    else:\n",
    "        ax = fig.axes[0]\n",
    "    ax.set_xlabel('Iteration')\n",
    "    ax.set_ylabel('Fidelity')\n",
    "    for (r, T) in results:\n",
    "        ax.plot(range(0,len(r.info_vals)-1), r.info_vals[1:])\n",
    "    #print('F = {}'.format(r.info_vals[-1]))\n",
    "    return (fig, ax)\n",
    "\n",
    "def plot_results_pulse_length_iterations(results):\n",
    "    fig = plt.figure()\n",
    "    ax = plt.axes()\n",
    "    ax.set_xlabel('Pulse length (ns)')\n",
    "    ax.set_ylabel('Iterations')\n",
    "    x = [T for (r,T) in results]\n",
    "    y = [r.iters[-1] for (r,T) in results]\n",
    "    ax.stem(x, y)#, linestyle='None', color='k',marker='.')\n",
    "    return (fig, ax)\n",
    "    \n",
    "def plot_results_pulse_length(results, iteration=-1, ax=None, shape='o',color='k'):\n",
    "    if ax is None:\n",
    "        ax = plt.axes()\n",
    "    #else:\n",
    "        #ax.clear()\n",
    "    ax.set_xlabel('Pulse length')\n",
    "    ax.set_ylabel('Fidelity')\n",
    "    \n",
    "    T_list = [T for (r, T) in results]\n",
    "    fid_list = [r.info_vals[min(len(r.info_vals)-1,iteration)] for (r, T) in results]\n",
    "    #for (r, T) in results:\n",
    "    #    it = \n",
    "        \n",
    "    ax.plot(T_list, fid_list, shape+color)\n",
    "    ax.set_ylim(0,1.1)\n",
    "    return ax"
   ]
  },
  {
   "cell_type": "code",
   "execution_count": null,
   "metadata": {},
   "outputs": [],
   "source": [
    "def F_oc(fw_states_T, objectives, tau_vals=None, **kwargs):\n",
    "    return krotov.functionals.F_ss(fw_states_T, objectives, tau_vals, **kwargs)\n",
    "\n",
    "def calc_fidelity(tau_vals):\n",
    "    return np.abs(np.sum(tau_vals)/len(tau_vals))**2\n",
    "\n",
    "def print_fidelity(**args):\n",
    "    fid = calc_fidelity(np.array(args['tau_vals']))\n",
    "    print(\"          F_t = {} | F = {} | F_t - F = {}\".format(F_oc_tar, fid, F_oc_tar-fid))\n",
    "def plot_fid_convergence(info_vals):\n",
    "    fig, ax = plt.subplots(1,1)\n",
    "    ax.plot(info_vals)\n",
    "    ax.set_xticks(np.arange(0, len(info_vals), step=1))\n",
    "    ax.set_xlabel('Iteration')\n",
    "    ax.set_ylabel('Fidelity')\n",
    "    #ax.set_ylim((-0.2,.2))\n",
    "    plt.show()\n",
    "def plot_fid_convergence(ax, info_vals, T):\n",
    "    ax.plot3D(range(0,len(info_vals)), [T]*len(info_vals), info_vals)"
   ]
  },
  {
   "cell_type": "code",
   "execution_count": null,
   "metadata": {},
   "outputs": [],
   "source": [
    "from datetime import datetime\n",
    "def current_time():\n",
    "    return datetime.now().isoformat()[:16].replace('T',' ')"
   ]
  },
  {
   "cell_type": "code",
   "execution_count": null,
   "metadata": {},
   "outputs": [],
   "source": [
    "def pulse_max(σ):\n",
    "    A = 1.56246130414 # Chosen such that the integral of any Blackman pulse = π\n",
    "#    A = A/2\n",
    "    σ = np.max((σ,3))\n",
    "    return A/(np.sqrt(2*π)*σ)"
   ]
  },
  {
   "cell_type": "markdown",
   "metadata": {},
   "source": [
    "# System setup"
   ]
  },
  {
   "cell_type": "code",
   "execution_count": null,
   "metadata": {},
   "outputs": [],
   "source": [
    "σ_max = 3 # ns (gaussian pulse limit)\n",
    "amp_max = pulse_max(0)\n",
    "\n",
    "# Below are settings for testing, optimization settings are set in the optimization section\n",
    "T = 60\n",
    "σ = T/6\n",
    "steps = 32*int(np.ceil(T))\n",
    "tlist = np.linspace(0, T, steps)\n"
   ]
  },
  {
   "cell_type": "code",
   "execution_count": null,
   "metadata": {
    "ExecuteTime": {
     "end_time": "2019-02-12T04:19:15.969983Z",
     "start_time": "2019-02-12T04:19:15.957144Z"
    },
    "attributes": {
     "classes": [],
     "id": "",
     "n": "2"
    }
   },
   "outputs": [],
   "source": [
    "cat_0 = (coherent(N, α) + coherent(N,-α)).unit()\n",
    "cat_1 = (coherent(N, 1j*α) + coherent(N,-1j*α)).unit()\n",
    "\n",
    "Si = qutip.operators.identity(L)\n",
    "Ri = qutip.operators.identity(N)\n",
    "I = tensor(Si,Ri)\n",
    "\n",
    "zero_q = qutip.operators.qzero(L)\n",
    "zero_r = qutip.operators.qzero(N)\n",
    "zero_q = tensor(zero_q, Ri)\n",
    "zero_r = tensor(Si, zero_r)\n",
    "\n",
    "zero = zero_q + zero_r\n",
    "\n",
    "σ_z = proj(qutip.basis(L, 0)) - proj(qutip.basis(L, 1))\n",
    "σ_y = 1j*(proj(qutip.basis(L, 1),qutip.basis(L, 0)) - proj(qutip.basis(L, 0), qutip.basis(L, 1)))\n",
    "σ_x = proj(qutip.basis(L, 0),qutip.basis(L, 1)) - proj(qutip.basis(L, 1), qutip.basis(L, 0))\n",
    "σ_z = tensor(σ_z, Ri)\n",
    "σ_y = tensor(σ_y, Ri)\n",
    "σ_x = tensor(σ_x, Ri)\n",
    "\n",
    "b = qutip.operators.destroy(L)\n",
    "a = qutip.operators.destroy(N)\n",
    "b = tensor(b, Ri)\n",
    "a = tensor(Si, a)\n",
    "\n",
    "ω_r = 8.3056 * 2 * π      # resonator frequency\n",
    "ω_q = 6.2815 * 2 * π      # qubit frequency\n",
    "K_q   = -2*π*297e-3    # Kerr qubit 200-300 MHz\n",
    "K_r   = 2*π*4.5e-6   # Kerr res 1-10 Khz\n",
    "\n",
    "ω_ef = ω_q + K_q\n",
    "ω_gf = ω_q + K_q/2\n",
    "\n",
    "χ = 0.025 * 2 * π   # parameter in the dispersive hamiltonian\n",
    "\n",
    "Δ = abs(ω_r - ω_q)    # detuning\n",
    "g = sqrt(Δ * χ)  # coupling strength that is consistent with chi\n",
    "γ = 1e1  # Dissipation (unused)\n",
    "\n",
    "use_rotating = True\n",
    "def hamiltonian(ω=1.0, ampl0=1, use_rotating=True, pulses=None, tlist=None, start_pulse=None, T=1, σ=σ):\n",
    "    \"\"\"Two-level-system Hamiltonian\n",
    "    \n",
    "    Args:\n",
    "        ω (float): energy separation of the qubit levels\n",
    "        ampl0 (float): constant amplitude of the driving field\n",
    "    \"\"\"\n",
    "    \n",
    "    #H_occ = w_r*a.dag()*a + w_q*b.dag()*b\n",
    "    #H_occ_q = qutip.Qobj(ω_q*np.diag(range(L)))\n",
    "    #H_occ_q = tensor(H_occ_q, Ri)\n",
    "    H_occ_q = ω_q * b.dag()*b\n",
    "    H_occ_r = ω_r * a.dag()*a\n",
    "    H_occ =  H_occ_q + H_occ_r\n",
    "    \n",
    "    \n",
    "    use_dispersive = True\n",
    "    use_kerr = True\n",
    "    #if use_dispersive:\n",
    "    #    H_coup = - χ * a.dag()*a * b.dag()*b\n",
    "        #H_coup =  χ * (a.dag()*a + I/2) * σ_z\n",
    "    #else:\n",
    "    #    H_coup = g * (a.dag() * b + a * b.dag())\n",
    "    #    H_coup = g * σ_x *a.dag() + a\n",
    "    if use_kerr:\n",
    "        H_kq =  -K_q/2 * b.dag()**2 * b**2\n",
    "        H_kr =  -K_r/2 * a.dag()**2 * a**2\n",
    "    else:\n",
    "        H_kq = zero_q\n",
    "        H_kr = zero_r\n",
    "    \n",
    "    H_d = zero_q + zero_q\n",
    "    \n",
    "    if use_rotating:\n",
    "        H_d += H_kq + H_kr #+ H_coup\n",
    "        \n",
    "        H_qr = (b.dag() + b)\n",
    "        H_qi = 1j*(b.dag() - b)\n",
    "        H_rr = (a.dag() + a)\n",
    "        H_ri = 1j*(a.dag() - a)\n",
    "        \n",
    "        H_cc = g*(a*b.dag() + a.dag()*b)\n",
    "        H_cs = g*1j*(a*b.dag() - a.dag()*b)\n",
    "        \n",
    "        if start_pulse is None:\n",
    "            ϵ_qr = lambda t, args: ampl0\n",
    "            ϵ_qi = lambda t, args: ampl0\n",
    "            ϵ_rr = lambda t, args: ampl0\n",
    "            ϵ_ri = lambda t, args: ampl0\n",
    "        else:\n",
    "            ϵ_qr = shape_field(lambda t, args: ampl0, start_pulse, T, σ)\n",
    "            ϵ_qi = shape_field(lambda t, args: ampl0, start_pulse, T, σ)\n",
    "            ϵ_rr = shape_field(lambda t, args: ampl0, start_pulse, T, σ)\n",
    "            ϵ_ri = shape_field(lambda t, args: ampl0, start_pulse, T, σ)\n",
    "        \n",
    "        \n",
    "        ϵ_cc = lambda t, args: np.cos((ω_q - ω_r)*t)\n",
    "        ϵ_cs = lambda t, args: np.sin((ω_q - ω_r)*t)\n",
    "        \n",
    "        if pulses:\n",
    "            ϵ_qr = pulses[0]\n",
    "            ϵ_qi = pulses[1]\n",
    "            ϵ_rr = pulses[2]\n",
    "            ϵ_ri = pulses[3]\n",
    "            ϵ_cc = pulses[4]\n",
    "            ϵ_cs = pulses[5]\n",
    "        \n",
    "        return [H_d, [H_qr, ϵ_qr], [H_qi, ϵ_qi], [H_rr, ϵ_rr], [H_ri, ϵ_ri], [H_cc, ϵ_cc], [H_cs, ϵ_cs]]\n",
    "    else:\n",
    "        H_coup = g*(a.dag()*b+a*b.dag())\n",
    "        H_d += H_occ + H_kq + H_kr +H_coup\n",
    "        \n",
    "        H_q = b\n",
    "        H_qc = b.dag()\n",
    "        H_r = a\n",
    "        H_rc = a.dag()\n",
    "        \n",
    "        H_cc = I\n",
    "        H_cs = I\n",
    "        \n",
    "        if pulses:\n",
    "            ϵ_q = pulses[0]\n",
    "            ϵ_qc = pulses[1]\n",
    "            ϵ_r = pulses[2]\n",
    "            ϵ_rc = pulses[3]\n",
    "            ϵ_cc = [0]*len(pulses[0])\n",
    "            ϵ_cs = [0]*len(pulses[0])\n",
    "        else:\n",
    "            ϵ_q = lambda t, args: 0\n",
    "            ϵ_qc = lambda t, args: 0\n",
    "            ϵ_r = lambda t, args: 0\n",
    "            ϵ_rc = lambda t, args: 0\n",
    "            ϵ_cc = lambda t, args: 0\n",
    "            ϵ_cs = lambda t, args: 0\n",
    "        \n",
    "        return [H_d, [H_q, ϵ_q], [H_qc, ϵ_qc], [H_r, ϵ_r], [H_rc, ϵ_rc], [H_cc, ϵ_cc], [H_cs, ϵ_cs]]\n",
    "    \n",
    "# Converts basis state coefficients into the corresponding states of the qubit-resonator system \n",
    "def coeffs_to_state(c,init = True):\n",
    "    if init:\n",
    "        ψ = tensor((c[0]*basis(L,0) + c[1]*basis(L,1)).unit() , (basis(N,0)))\n",
    "    else:\n",
    "        ψ = tensor((basis(L,0)) , (c[0]*cat_0 + c[1]*cat_1).unit())\n",
    "    return ψ\n",
    "\n",
    "# Feeds a list of coeffients into the function above\n",
    "def states(coeffs):\n",
    "    return [[coeffs_to_state(c,True),coeffs_to_state(c,False)] for c in coeffs]"
   ]
  },
  {
   "cell_type": "code",
   "execution_count": null,
   "metadata": {
    "ExecuteTime": {
     "end_time": "2019-02-12T04:19:15.994257Z",
     "start_time": "2019-02-12T04:19:15.986196Z"
    },
    "attributes": {
     "classes": [],
     "id": "",
     "n": "4"
    },
    "scrolled": false
   },
   "outputs": [],
   "source": [
    "H = hamiltonian(ampl0=1, use_rotating=True)\n",
    "coeffs = [(1,0), (1,-1), (1,1j), (1,1), (1,-1j), (0,1)] # Six states which will be transferred\n",
    "#coeffs = [(1,0)]\n",
    "ϕ = states(coeffs)\n",
    "F_err = 1e-6 # Infidelity goal\n",
    "F_oc_tar = 1-F_err # Fidelity goal"
   ]
  },
  {
   "cell_type": "code",
   "execution_count": null,
   "metadata": {
    "ExecuteTime": {
     "end_time": "2019-02-12T04:19:16.007054Z",
     "start_time": "2019-02-12T04:19:16.000342Z"
    },
    "attributes": {
     "classes": [],
     "id": "",
     "n": "5"
    }
   },
   "outputs": [],
   "source": [
    "# Rotates the target states into the rotating frame\n",
    "def state_rot(ϕ, T):\n",
    "    ϕ = copy.deepcopy(ϕ)\n",
    "    for i in range(len(ϕ)):\n",
    "        U_0 = (1j*ω_q*b.dag()*b*T).expm()*(1j*ω_r*a.dag()*a*T).expm()\n",
    "        ϕ[i] = U_0 * ϕ[i]\n",
    "    return ϕ\n",
    "\n",
    "#if use_rotating:\n",
    "    #objectives = [krotov.Objective(initial_state=ψ[0], target=ψ[1], H=H) for ψ in ϕ]\n",
    "#    objectives = [krotov.Objective(initial_state=ψ[0], target=state_rot(ψ[1],T), H=H) for ψ in ϕ]\n",
    "#else:\n",
    "#    objectives = [krotov.Objective(initial_state=ψ[0], target=ψ[1], H=H) for ψ in ϕ]"
   ]
  },
  {
   "cell_type": "code",
   "execution_count": null,
   "metadata": {
    "ExecuteTime": {
     "end_time": "2019-02-12T04:19:16.028042Z",
     "start_time": "2019-02-12T04:19:16.020799Z"
    },
    "attributes": {
     "classes": [],
     "id": "",
     "n": "7"
    }
   },
   "outputs": [],
   "source": [
    "# Envelope function which will keep the pulse zero at edges with rise and fall time = 2 ns\n",
    "def S(t, T=6*σ, σ=σ):\n",
    "    rise_time = 2\n",
    "    return amp_max*krotov.shapes.flattop(t, t_start=0, t_stop=T, t_rise=rise_time, t_fall=rise_time, func='sinsq')\n",
    "\n",
    "# Blackman guess pulse\n",
    "def start_pulse(t, T=6*σ, σ=σ):\n",
    "    if σ is not None:\n",
    "        return pulse_max(σ)*krotov.shapes.blackman(t, t_start=0, t_stop=6*σ)\n",
    "    else:\n",
    "        return krotov.shapes.blackman(t, t_start=0, t_stop=T)\n",
    "\n",
    "def zero_pulse(t, T=T, σ=4):\n",
    "    return 0\n",
    "def unit_pulse(t, T=T, σ=4):\n",
    "    return 1\n",
    "\n",
    "def shape_field(ϵ, sf, T, σ):\n",
    "    \"\"\"Applies the shape function S(t) to the guess field\"\"\"\n",
    "    ϵ_shaped = lambda t, args: ϵ(t, args)*sf(t, T=T, σ=σ)\n",
    "    return ϵ_shaped\n",
    "\n",
    "S_unit = [unit_pulse]*4\n",
    "S_zero = [zero_pulse]*4\n",
    "#S_start = [lambda t, T=T, σ=σ: 0.01*unit_pulse(t, T=T, σ=σ),start_pulse]\n",
    "S_start = [zero_pulse, start_pulse, zero_pulse, zero_pulse]\n",
    "S_funs = [S]*4\n",
    "for i, H_i in enumerate(H[1:5]):\n",
    "    H_i[1] = shape_field(H_i[1], S_start[i], T, σ)\n"
   ]
  },
  {
   "cell_type": "markdown",
   "metadata": {},
   "source": [
    "## Simulate dynamics of the guess field\n",
    "\n",
    "Before heading towards the optimization\n",
    "procedure, we first simulate the\n",
    "dynamics under the guess field\n",
    "$\\epsilon_{0}(t)$."
   ]
  },
  {
   "cell_type": "code",
   "execution_count": null,
   "metadata": {
    "ExecuteTime": {
     "end_time": "2019-02-12T04:19:16.263614Z",
     "start_time": "2019-02-12T04:19:16.059709Z"
    },
    "attributes": {
     "classes": [],
     "id": "",
     "n": "11"
    }
   },
   "outputs": [],
   "source": [
    "for i, H_i in enumerate(H[1:]):\n",
    "    plot_pulse(H_i[1], tlist)"
   ]
  },
  {
   "cell_type": "code",
   "execution_count": null,
   "metadata": {
    "ExecuteTime": {
     "end_time": "2019-02-12T04:19:16.422181Z",
     "start_time": "2019-02-12T04:19:16.265626Z"
    },
    "attributes": {
     "classes": [],
     "id": "",
     "n": "12"
    },
    "scrolled": true
   },
   "outputs": [],
   "source": [
    "guess_dynamics = [ob.mesolve(tlist, progress_bar=True, options=qutip.Options(nsteps=50000)) for ob in objectives]"
   ]
  },
  {
   "cell_type": "code",
   "execution_count": null,
   "metadata": {
    "scrolled": true
   },
   "outputs": [],
   "source": [
    "final_state = guess_dynamics[0].states[-1]\n",
    "plot_cardinal([ϕ[0][0].ptrace(0), ϕ[0][1].ptrace(0), final_state.ptrace(0)])\n",
    "qutip.visualization.plot_wigner_fock_distribution(ϕ[0][1].ptrace(1))\n",
    "qutip.visualization.plot_wigner_fock_distribution(final_state.ptrace(1))\n",
    "%matplotlib inline"
   ]
  },
  {
   "cell_type": "code",
   "execution_count": null,
   "metadata": {},
   "outputs": [],
   "source": [
    "for i in range(len(guess_dynamics)):\n",
    "    qubit_occupation(guess_dynamics[i]);\n",
    "    resonator_occupation(guess_dynamics[i]);\n",
    "#plot_norm(guess_dynamics[0])"
   ]
  },
  {
   "cell_type": "code",
   "execution_count": null,
   "metadata": {},
   "outputs": [],
   "source": [
    "tlist2 = np.linspace(0, T, 1000*int(np.ceil(T)))\n",
    "rotating_pulses = [np.array([H_i[1](t,0) for t in tlist]) for H_i in H[1:]]\n",
    "Ω_q = rotating_pulses[0]+1j*rotating_pulses[1]\n",
    "Ω_q = np.interp(tlist2, tlist, Ω_q)\n",
    "Ω_r = rotating_pulses[2]+1j*rotating_pulses[3]\n",
    "Ω_r = np.interp(tlist2, tlist, Ω_r)\n",
    "pulses_lab = [Ω_q*np.exp(1j*ω_q*tlist2), np.conj(Ω_q)*np.exp(-1j*ω_q*tlist2), Ω_r*np.exp(1j*ω_r*tlist2), np.conj(Ω_r)*np.exp(-1j*ω_r*tlist2)]\n",
    "H_lab = hamiltonian(ampl0=1, use_rotating=False, pulses=pulses_lab)\n",
    "objectives_lab = [krotov.Objective(initial_state=ψ[0], target=ψ[1], H=H_lab) for ψ in ϕ]\n",
    "r = krotov.result.Result()\n",
    "r.optimized_objectives = objectives_lab\n",
    "opt_dynamics_lab = [ob.mesolve(tlist2, progress_bar=True, options=qutip.Options(nsteps=50000)) for ob in r.optimized_objectives]"
   ]
  },
  {
   "cell_type": "code",
   "execution_count": null,
   "metadata": {
    "ExecuteTime": {
     "end_time": "2019-02-12T04:19:16.606020Z",
     "start_time": "2019-02-12T04:19:16.433034Z"
    },
    "attributes": {
     "classes": [],
     "id": "",
     "n": "14"
    },
    "scrolled": true
   },
   "outputs": [],
   "source": [
    "#plot_all(guess_dynamics, ϕ)\n",
    "plot_evolution(guess_dynamics, steps=5)"
   ]
  },
  {
   "cell_type": "code",
   "execution_count": null,
   "metadata": {
    "scrolled": false
   },
   "outputs": [],
   "source": [
    "qubit_pulses = [H[2][1](t, 0) for t in tlist]\n",
    "res_pulses = [H[4][1](t, 0) for t in tlist]\n",
    "#qubit_pulses_filtered = apply_spectral_filter(copy.deepcopy(qubit_pulses), tlist, 0, 0.5)\n",
    "plot_spectrum(qubit_pulses, tlist, mark_freq=[0, -K_q, -K_q/2], pos=0, xlim=[-2*π,2*π], title=\"Qubit\")\n",
    "plot_spectrum(res_pulses, tlist, mark_freq=[0, -K_r, -K_r/2], pos=0, xlim=[-π/4,π/4], title=\"Resonator\")\n",
    "#plot_spectrum(qubit_pulses_filtered, tlist, mark_freq=[0, K_q], pos=0, xlim=[-2*K_q,2*K_q])\n",
    "#plot_pulse(qubit_pulses, tlist)\n",
    "#plot_pulse(qubit_pulses_filtered, tlist)\n",
    "#plot_spectrum(qubit_pulses[1], time_list, mark_freq=[ω_q, ω_q + K_q, ω_q - K_q], pos=0)"
   ]
  },
  {
   "cell_type": "markdown",
   "metadata": {},
   "source": [
    "## Optimize"
   ]
  },
  {
   "cell_type": "code",
   "execution_count": null,
   "metadata": {},
   "outputs": [],
   "source": [
    "# Frequency limits for spectral filter (not used)\n",
    "ω_0 = 0\n",
    "ω_1 = np.abs(K_q/2)"
   ]
  },
  {
   "cell_type": "code",
   "execution_count": null,
   "metadata": {},
   "outputs": [],
   "source": [
    "def modify_params(**kwargs):\n",
    "    \n",
    "    spectral_filtering = False\n",
    "    \n",
    "    if spectral_filtering:\n",
    "        # Spectral filtering\n",
    "        tlist = kwargs['tlist']\n",
    "        dt = tlist[1] - tlist[0]  # assume equi-distant time grid\n",
    "        n = len(tlist) - 1  # = len(pulse)\n",
    "        # remember that pulses are defined on intervals of tlist\n",
    "        ω = np.abs(np.fft.fftfreq(n, d=dt / (2.0 * π)))\n",
    "        # the normalization factor 2π means that w0 and w1 are angular\n",
    "        # frequencies, corresponding directly to energies in the Hamiltonian\n",
    "        # (ħ = 1).\n",
    "        flt = (ω_0 <= ω) * (ω <= ω_1)\n",
    "        # flt is the (boolean) filter array, equivalent to an array of values 0\n",
    "        # and 1 \n",
    "\n",
    "        shape_arrays = kwargs['shape_arrays']\n",
    "        for (i, (pulse, shape)) in enumerate(zip(kwargs['optimized_pulses'], shape_arrays)):\n",
    "            spectrum = np.fft.fft(pulse)\n",
    "            # apply the filter by element-wise multiplication\n",
    "            spectrum[:] *= flt[:]\n",
    "            # after the inverse fft, we should also multiply with the\n",
    "            # update shape function. Otherwise, there is no guarantee that\n",
    "            # the filtered pulse will be zero at t=0 and t=T (assuming that\n",
    "            # is what the update shape is supposed to enforce). Also, it is\n",
    "            # important that we overwrite `pulse` in-place (pulse[:] = ...)\n",
    "            kwargs['optimized_pulses'][i][:] = np.fft.ifft(spectrum).real * shape\n",
    "    \n",
    "    # Limit pulse amplitude to 1 and smoothen\n",
    "    for i in range(len(kwargs['optimized_pulses'])-2):\n",
    "        #kwargs['optimized_pulses'][i] = savgol_filter(kwargs['optimized_pulses'][i], 9, 2)\n",
    "        \n",
    "        pulse_max = np.max(np.abs(kwargs['optimized_pulses'][i]))\n",
    "        if pulse_max > amp_max:\n",
    "            kwargs['optimized_pulses'][i] = (amp_max*np.array(kwargs['optimized_pulses'][i])/pulse_max)\n",
    "        kwargs['optimized_pulses'][i] = np.fmax(np.fmin(kwargs['optimized_pulses'][i], kwargs['shape_arrays'][i]), -np.array(kwargs['shape_arrays'][i]))\n",
    "        \n",
    "        #conv = 3*σ\n",
    "        #if (conv % 2 == 0): conv += 1\n",
    "        #kwargs['optimized_pulses'][i] = savgol_filter(kwargs['optimized_pulses'][i], conv, 2)\n",
    "    #for i in range(len(kwargs['optimized_pulses'])):\n",
    "    #    if kwargs['iteration'] % 20 == 0:\n",
    "    #        plot_pulse(kwargs['optimized_pulses'][i], kwargs['tlist'][:-1], kwargs['tlist'][-1])\n",
    "    #if kwargs['iteration'] % 20 == 0:\n",
    "    #    for i in range(len(kwargs['fw_states_T'])):\n",
    "    #        final_state = kwargs['fw_states_T'][i]\n",
    "    #        plot_cardinal([final_state])\n",
    "    #        qutip.visualization.plot_wigner_fock_distribution(final_state.ptrace(1))\n",
    "            #plot_spectrum(kwargs['optimized_pulses'][i], kwargs['tlist'][:-1], mark_freq=[0, -K_q, -K_q/2], mark_color=['r','g','b'], pos=0, xlim=[-(2*π), (2*π)])\n",
    "    # Update λ\n",
    "    #fac = 1\n",
    "    #steps = 5\n",
    "    #λₐ = kwargs['lambda_vals'][0]\n",
    "    #for i in range(len(kwargs['lambda_vals'])):\n",
    "    #    kwargs['lambda_vals'][i] = λₐ * fac\n",
    "    #    lambda_a = λₐ * fac\n",
    "    #print(\"λₐ = {}\".format(kwargs['lambda_vals']))\n"
   ]
  },
  {
   "cell_type": "code",
   "execution_count": null,
   "metadata": {},
   "outputs": [],
   "source": [
    "# Reset results\n",
    "opt_result = None"
   ]
  },
  {
   "cell_type": "code",
   "execution_count": null,
   "metadata": {},
   "outputs": [],
   "source": [
    "def convergence_reason(opt_result):\n",
    "    if opt_result == None:\n",
    "        return True\n",
    "    reasons = ['monotonic', 'iterations']\n",
    "    for r in reasons:\n",
    "        if opt_result.message.find(r)>0:\n",
    "            return r\n",
    "    if opt_result.message.find('F_oc')>0 or opt_result.message.find('Δ')>0:\n",
    "        return False"
   ]
  },
  {
   "cell_type": "code",
   "execution_count": null,
   "metadata": {},
   "outputs": [],
   "source": [
    "folder = 'results'\n",
    "results = [(krotov.result.Result.load(os.path.join(os.getcwd(),folder,file), objectives=get_objectives(T=float(file.split('_')[-1][:-4]))), float(file.split('_')[-1][:-4])) for file in os.listdir(folder) if file[-4:]=='.dat']\n",
    "results = [results[-1]]\n",
    "print(results[-1][1])\n",
    "pulses = results[0][0].optimized_controls\n",
    "old_tlist = results[0][0].tlist"
   ]
  },
  {
   "cell_type": "code",
   "execution_count": null,
   "metadata": {
    "ExecuteTime": {
     "end_time": "2019-02-12T04:19:31.206467Z",
     "start_time": "2019-02-12T04:19:16.608784Z"
    },
    "attributes": {
     "classes": [],
     "id": "",
     "n": "15"
    },
    "scrolled": false
   },
   "outputs": [],
   "source": [
    "def run_optim(T, lambda_a, ϕ, pulses = None, old_tlist=None):\n",
    "    σ = T/6\n",
    "    print('T = {}'.format(T))\n",
    "    #steps = 500\n",
    "    tlist = np.linspace(0, T, 24*int(np.ceil(T)))\n",
    "    s_pulse = None\n",
    "    if pulses:\n",
    "        pulses = [np.interp(tlist, old_tlist, pulse) for pulse in pulses]\n",
    "        print(len(tlist))\n",
    "        print(len(pulses[0]))\n",
    "        H = hamiltonian(ampl0=1, use_rotating=True, start_pulse=s_pulse, T=T, pulses=pulses)\n",
    "    else:\n",
    "        H = hamiltonian(ampl0=1, use_rotating=True, start_pulse=s_pulse, T=T)\n",
    "    \n",
    "    \n",
    "    \n",
    "    S_start = [zero_pulse, start_pulse, zero_pulse, zero_pulse]\n",
    "    S_funs = [S, S, S, S, lambda t, T, σ:0, lambda t, T, σ:0]\n",
    "    #for i, H_i in enumerate(H[1:]):\n",
    "    #    if i < 4:\n",
    "    #        H_i[1] = shape_field(H_i[1], S_start[i], T, σ)\n",
    "        #    plot_pulse(H_i[1], tlist)\n",
    "        #else:\n",
    "        #    plot_pulse(H_i[1], tlist)\n",
    "    \n",
    "    objectives = [krotov.Objective(initial_state=ψ[0], target=ψ[1], H=H) for ψ in state_rot(ϕ, T)]\n",
    "    #objectives = [krotov.Objective(initial_state=ψ[0], target=ψ[1], H=H) for ψ in ϕ]\n",
    "    if 'latest.dat' in os.listdir('results'):\n",
    "        opt_result = krotov.result.Result.load('results/latest.dat', objectives=objectives)\n",
    "    else:\n",
    "        opt_result = None\n",
    "    # Check if guess pulse realises\n",
    "    #guess_dynamics = [ob.mesolve(tlist, options=qutip.Options(nsteps=50000)) for ob in objectives]\n",
    "    #final_state = guess_dynamics[0].states[-1]\n",
    "    #dm = final_state * ϕ[0][1].dag()\n",
    "    #fid = np.abs((final_state.dag() * ϕ[0][1]).full()[0][0])**2\n",
    "    #print('F = {}'.format(fid))\n",
    "    #if fid > F_oc_tar:\n",
    "    #    print('Guess pulse realises transfer already.')\n",
    "    #    return True\n",
    "    if pulses:\n",
    "        pulse_options = {id(H_i[1]): { 'lambda_a':lambda_a, 'shape':lambda t: S_funs[i](t, T=T, σ=σ)} for i, H_i in enumerate(H[1:])}\n",
    "    else:\n",
    "        pulse_options = {(H_i[1]): dict(lambda_a=lambda_a, shape=lambda t: S_funs[i](t, T=T, σ=σ)) for i, H_i in enumerate(H[1:5])}\n",
    "        pulse_options.update({(H_i[1]): dict(lambda_a=lambda_a, shape=lambda t: 0) for i, H_i in enumerate(H[5:])})\n",
    "    \n",
    "    #pulse_options = {\n",
    "    #    H[2][1]: dict(lambda_a=lambda_a, shape=0),\n",
    "    #    H[1][1]: dict(lambda_a=lambda_a, shape=lambda t: S_funs[0](t, T=T, σ=σ)),    \n",
    "    #}\n",
    "    #while convergence_reason(opt_result):\n",
    "    #    if convergence_reason(opt_result) == 'monotonic':\n",
    "    #        break\n",
    "            #lambda_a *= 2\n",
    "        #    print('λₐ = {}'.format(lambda_a))\n",
    "        #    pulse_options = {H_i[1]: dict(lambda_a=lambda_a, shape=lambda t: S_funs[i](t, T)) for i, H_i in enumerate(H[1:])}\n",
    "        #iters = 5\n",
    "        #if opt_result is not None:\n",
    "        #    iters = opt_result.iters[-1] + iters\n",
    "    iters = 10 # Save to file every 10th iteration\n",
    "    if opt_result is not None:\n",
    "        iters = opt_result.iters[-1] + iters\n",
    "    \n",
    "    opt_result = krotov.optimize_pulses(\n",
    "        objectives,\n",
    "        pulse_options=pulse_options,\n",
    "        tlist=tlist,\n",
    "        propagator=krotov.propagators.expm,\n",
    "        chi_constructor=krotov.functionals.chis_ss,\n",
    "        info_hook=krotov.info_hooks.chain(\n",
    "            krotov.info_hooks.print_table(J_T=krotov.functionals.F_ss),\n",
    "            print_fidelity\n",
    "        ),\n",
    "        check_convergence=krotov.convergence.Or(\n",
    "            krotov.convergence.value_above(F_oc_tar, name='F_oc'),\n",
    "            krotov.convergence.delta_below(1e-6),\n",
    "            #krotov.convergence.delta_below(F_err*1e-1),\n",
    "            #krotov.convergence.check_monotonic_fidelity,\n",
    "        ),\n",
    "        modify_params_after_iter = modify_params,\n",
    "        iter_stop=iters,\n",
    "        continue_from = opt_result,\n",
    "        store_all_pulses=False,\n",
    "        skip_initial_forward_propagation=False,\n",
    "        parallel_map=(\n",
    "            qutip.parallel_map,\n",
    "            qutip.parallel_map,\n",
    "            krotov.parallelization.parallel_map_fw_prop_step,\n",
    "        )\n",
    "    )\n",
    "    print(opt_result.message)\n",
    "    opt_result.dump(os.path.join(os.getcwd(),'results','latest.dat'.format(current_time(),T)))"
   ]
  },
  {
   "cell_type": "code",
   "execution_count": null,
   "metadata": {
    "scrolled": true
   },
   "outputs": [],
   "source": [
    "while True:\n",
    "    step_size = pulse_max(0)*0.5\n",
    "    λ = 1/step_size\n",
    "    #ϕ = [[ tensor(basis(L,0), basis(N,0)), tensor((basis(L,0)+basis(L,1)).unit(), basis(N,0)) ]]\n",
    "\n",
    "    coeffs = [(1,0), (1,-1), (1,1j), (1,1), (1,-1j), (0,1)]\n",
    "    ϕ = states(coeffs)\n",
    "\n",
    "    #existing_times = [float(file.split('_')[4][:-4]) for file in os.listdir('results')]\n",
    "    #t_times = np.flip(np.arange(1,21.5,1))\n",
    "    t_times = [20.]\n",
    "    for tot in t_times:\n",
    "        #if tot not in [float(file.split('_')[4][:-4]) for file in os.listdir('results')]:\n",
    "            #plot_cardinal(state_rot(ϕ, tot)[0])\n",
    "        #    if tot.is_integer():\n",
    "        #        tot = int(tot)\n",
    "        run_optim(tot, λ, ϕ)\n",
    "        #else:\n",
    "        #    print('T = {} already exists'.format(tot))"
   ]
  },
  {
   "cell_type": "markdown",
   "metadata": {},
   "source": [
    "## Simulate dynamics of the optimized field\n",
    "\n",
    "Having obtained the optimized\n",
    "control field, we can now\n",
    "plot it and calculate the\n",
    "population dynamics under\n",
    "this field."
   ]
  },
  {
   "cell_type": "code",
   "execution_count": null,
   "metadata": {},
   "outputs": [],
   "source": [
    "def plot_results_3d(results):\n",
    "    fig = plt.figure()\n",
    "    ax = plt.axes(projection='3d')\n",
    "    ax.set_xlabel('Iteration')\n",
    "    ax.set_zlabel('Fidelity')\n",
    "    ax.set_ylabel('Pulse length')\n",
    "    ax.set_zlim(0,1.1)\n",
    "    for (r, T) in results:\n",
    "        plot_fid_convergence(ax, r.info_vals[1:], T)\n",
    "    ax.view_init(elev=20, azim=340)\n",
    "    return (fig, ax)\n",
    "\n",
    "def plot_results_iteration(results):\n",
    "    fig = plt.figure()\n",
    "    ax = plt.axes()\n",
    "    ax.set_xlabel('Iteration')\n",
    "    ax.set_ylabel('Fidelity')\n",
    "    for (r, T) in results:\n",
    "        ax.plot(range(0,len(r.info_vals)-1), r.info_vals[1:])\n",
    "    #print('F = {}'.format(r.info_vals[-1]))\n",
    "    return (fig, ax)\n",
    "    \n",
    "def plot_results_pulse_length(results, iteration=-1, ax=None):\n",
    "    if ax is None:\n",
    "        ax = plt.axes()\n",
    "    else:\n",
    "        ax.clear()\n",
    "    ax.set_xlabel('Pulse length')\n",
    "    ax.set_ylabel('Fidelity')\n",
    "    for (r, T) in results:\n",
    "        it = min(len(r.info_vals)-1,iteration)\n",
    "        ax.plot(T, r.info_vals[it], 'ok')\n",
    "    ax.set_ylim(0,1.1)\n",
    "    return ax"
   ]
  },
  {
   "cell_type": "code",
   "execution_count": null,
   "metadata": {
    "scrolled": false
   },
   "outputs": [],
   "source": [
    "folder = 'best_results_resonator'\n",
    "results = [(krotov.result.Result.load(os.path.join(os.getcwd(),folder,file), objectives=get_objectives(T=float(file.split('_')[-1][:-4]))), float(file.split('_')[-1][:-4])) for file in os.listdir(folder) if file[-4:]=='.dat']\n",
    "%matplotlib inline\n",
    "plot_results_3d(results)\n",
    "\n",
    "#plot_results_pulse_length(results, iteration=0)\n",
    "\n",
    "plot_results_iteration(results)"
   ]
  },
  {
   "cell_type": "code",
   "execution_count": null,
   "metadata": {},
   "outputs": [],
   "source": [
    "plot_results_pulse_length(results, iteration=20, ax=ax)\n",
    "ax = plt.axes()\n",
    "def interactive_plot(iteration):\n",
    "    plot_results_pulse_length(results, iteration=iteration, ax=ax)\n",
    "interact(interactive_plot, iteration=widgets.IntSlider(min=0,max=900,step=1,value=0));"
   ]
  },
  {
   "cell_type": "code",
   "execution_count": null,
   "metadata": {},
   "outputs": [],
   "source": [
    "import matplotlib2tikz\n",
    "matplotlib2tikz.save(\"mytikz.tex\")"
   ]
  },
  {
   "cell_type": "code",
   "execution_count": null,
   "metadata": {},
   "outputs": [],
   "source": [
    "%matplotlib inline"
   ]
  },
  {
   "cell_type": "markdown",
   "metadata": {},
   "source": [
    "# Analyze"
   ]
  },
  {
   "cell_type": "code",
   "execution_count": null,
   "metadata": {},
   "outputs": [],
   "source": [
    "coeffs = [(1,0), (1,-1), (1,1j), (1,1), (1,-1j), (0,1)]\n",
    "#coeffs = [(1,np.exp(1j*π/2))]\n",
    "ϕ = states(coeffs)"
   ]
  },
  {
   "cell_type": "code",
   "execution_count": null,
   "metadata": {},
   "outputs": [],
   "source": [
    "# Move the file latest.dat in results to cat-code with the suffix *_T.dat e.g. cat_60.dat\n",
    "folder = 'cat-code'\n",
    "results = [(krotov.result.Result.load(os.path.join(os.getcwd(),folder,file), objectives=get_objectives(T=float(file.split('_')[-1][:-4]))), float(file.split('_')[-1][:-4])) for file in os.listdir(folder) if file[-4:]=='.dat']\n",
    "results = [results[-1]]\n",
    "print(results[-1][1])"
   ]
  },
  {
   "cell_type": "code",
   "execution_count": null,
   "metadata": {},
   "outputs": [],
   "source": [
    "print(results[0][0].info_vals[-1])\n",
    "\n",
    "#hours = sum(results[0][0].iter_seconds)/(60*60)\n",
    "#f\"{int(np.floor(hours))}:{int(np.floor((60*(hours % np.floor(hours)))))}\""
   ]
  },
  {
   "cell_type": "code",
   "execution_count": null,
   "metadata": {
    "scrolled": true
   },
   "outputs": [],
   "source": [
    "r = results[-1][0]\n",
    "T = results[-1][1]\n",
    "steps2 = len(results[0][0].tlist)*1000\n",
    "tlist = r.tlist\n",
    "\n",
    "c = r.optimized_controls\n",
    "tlist2 = np.linspace(0, tlist[-1], steps2)\n",
    "Ω_q = c[0]+1j*c[1]\n",
    "Ω_q = np.interp(tlist2, tlist, Ω_q)\n",
    "Ω_r = c[2]+1j*c[3]\n",
    "Ω_r = np.interp(tlist2, tlist, Ω_r)\n",
    "\n",
    "pulses_lab = [np.conj(Ω_q)*np.exp(1j*ω_q*tlist2), np.conj(Ω_q)*np.exp(-1j*ω_q*tlist2), np.conj(Ω_r)*np.exp(1j*ω_r*tlist2), np.conj(Ω_r)*np.exp(-1j*ω_r*tlist2)]\n",
    "#opt_dynamics = [ob.propagate(tlist, propagator=krotov.propagators.expm) for ob in r.optimized_objectives]\n",
    "print('Done')"
   ]
  },
  {
   "cell_type": "code",
   "execution_count": null,
   "metadata": {
    "scrolled": true
   },
   "outputs": [],
   "source": [
    "occs = []\n",
    "#plot_evolution(opt_dynamics)\n",
    "#for i in range(len(opt_dynamics)):\n",
    "#fig = plot_pulse(Ω_q, tlist)\n",
    "#fig.axes[0].set_ylabel('$\\Omega_q$')\n",
    "#matplotlib2tikz.save(\"../Figures/Results/cat_pulse_shape_{}_q.tikz\".format(str(T).replace('.',',')),\n",
    "#                     figureheight = '\\\\figureheight',figurewidth = '\\\\figurewidth')\n",
    "\n",
    "#fig = plot_pulse(c[1], tlist)\n",
    "#fig.axes[0].set_ylabel('Im($\\Omega_q$)')\n",
    "#matplotlib2tikz.save(\"../Figures/Results/cat_pulse_shape_{}_q_Imag.tikz\".format(str(T).replace('.',',')),\n",
    "#                     figureheight = '\\\\figureheight',figurewidth = '\\\\figurewidth')\n",
    "\n",
    "#fig = plot_pulse(Ω_r, tlist)\n",
    "#fig.axes[0].set_ylabel('$\\Omega_r$')\n",
    "#matplotlib2tikz.save(\"../Figures/Results/cat_pulse_shape_{}_r.tikz\".format(str(T).replace('.',',')),\n",
    "#                     figureheight = '\\\\figureheight',figurewidth = '\\\\figurewidth')\n",
    "\n",
    "#fig = plot_pulse(c[3], tlist)\n",
    "#fig.axes[0].set_ylabel('Im($\\Omega_r$)')\n",
    "#matplotlib2tikz.save(\"../Figures/Results/cat_pulse_shape_{}_r_Imag.tikz\".format(str(T).replace('.',',')),\n",
    "#                     figureheight = '\\\\figureheight',figurewidth = '\\\\figurewidth')\n",
    "\n",
    "    #fig = qubit_occupation(opt_dynamics[i])\n",
    "    #matplotlib2tikz.save(f\"../Figures/Results/cat_qubit_occ_{str(T).replace('.',',')}_{i}.tikz\",\n",
    "    #                     figureheight = '\\\\figureheight',figurewidth = '\\\\figurewidth')\n",
    "\n",
    "    #n = resonator_occupation(opt_dynamics[i],export=False);\n",
    "    #occs.append([max(n[i]) for i in range(8)])\n",
    "    #matplotlib2tikz.save(f\"../Figures/Results/cat_res_occ_{str(T).replace('.',',')}_{i}.tikz\",\n",
    "    #                     figureheight = '\\\\figureheight',figurewidth = '\\\\figurewidth')\n",
    "    \n",
    "power_two = 2**25 # Pad pulse with power_two zeros to increase frequency spectrum resolution\n",
    "fig = plot_spectrum(pulses_lab[0], tlist2, mark_freq=[ω_q],mark_color=[u'#1f77b4', u'#ff7f0e', u'#2ca02c'], pos=0, xlim=[(2*π)*5.5, (2*π)*6.9])\n",
    "fig.axes[0].set_title('')\n",
    "fig.axes[0].legend(['Spectrum',r'$\\omega_{q}-\\kappa_q$',r'$\\omega_{q}$',r'$\\omega_{q}+\\kappa_q$'])\n",
    "#matplotlib2tikz.save(\"../Figures/Results/cat_pulse_spectrum_qubit_{}_zoom.tikz\".format(str(T).replace('.',',')),\n",
    "#                     figureheight = '\\\\figureheight',figurewidth = '\\\\figurewidth')\n",
    "\n",
    "#fig = plot_spectrum(pulses_lab[0], tlist2, mark_freq=[ω_q, 2*ω_r-ω_q, ω_r, ω_r/2, ω_r/4],mark_color=[u'#ff7f0e',u'#1f77b4','k','k','k','k'], pos=0, xlim=[0*(2*π)*5.5, (2*π)*12])\n",
    "#fig.axes[0].set_title('')\n",
    "#fig.axes[0].legend(['Spectrum',r'$\\omega_{q}$',r'$2\\omega_r-\\omega_{q}$',r'$n\\omega_r$'])\n",
    "#matplotlib2tikz.save(\"../Figures/Results/cat_pulse_spectrum_qubit_{}.tikz\".format(str(T).replace('.',',')),\n",
    "#                     figureheight = '\\\\figureheight',figurewidth = '\\\\figurewidth')\n",
    "\n",
    "#fig = plot_spectrum(pulses_lab[2], tlist2, mark_freq=[ω_r],mark_color=[u'#1f77b4', u'#ff7f0e', u'#2ca02c'], pos=0, xlim=[(2*π)*7.6, (2*π)*8.9])\n",
    "#fig.axes[0].set_title('')\n",
    "#fig.axes[0].legend(['Spectrum',r'$\\omega_{r}$',r'$\\omega_{r}-\\kappa_q$',r'$\\omega_{r}+\\kappa_q$'])\n",
    "#matplotlib2tikz.save(\"../Figures/Results/cat_pulse_spectrum_res_{}_zoom.tikz\".format(str(T).replace('.',',')),\n",
    "#                     figureheight = '\\\\figureheight',figurewidth = '\\\\figurewidth')\n",
    "\n",
    "#fig = plot_spectrum(pulses_lab[2], tlist2, mark_freq=[ω_r, ω_q, 2*ω_r-ω_q],mark_color=[u'#ff7f0e', u'#2ca02c',u'#1f77b4', u'#ff7f0e', u'#2ca02c'], pos=0, xlim=[0*(2*π)*7.6, (2*π)*12])\n",
    "#fig.axes[0].set_title('')\n",
    "#fig.axes[0].legend(['Spectrum',r'$\\omega_{r}$',r'$\\omega_{q}$',r'$2\\omega_{r}-\\omega_q$'])\n",
    "#matplotlib2tikz.save(\"../Figures/Results/cat_pulse_spectrum_res_{}.tikz\".format(str(T).replace('.',',')),\n",
    "#                     figureheight = '\\\\figureheight',figurewidth = '\\\\figurewidth')\n",
    "\n",
    "#    start_state = final_state = opt_dynamics[i].states[0]\n",
    "#    start_state_q = final_state.ptrace(0)\n",
    "#    final_state = opt_dynamics[i].states[-1]\n",
    "#    final_state_q = final_state.ptrace(0)\n",
    "#    final_state_r = final_state.ptrace(1)\n",
    "#    target_state = r.objectives[i].target\n",
    "#    target_state_q = r.objectives[i].target.ptrace(0)\n",
    "#    target_state_r = r.objectives[i].target.ptrace(1)\n",
    "#    print((final_state.dag()*target_state)[0][0])\n",
    "#    qutip.visualization.hinton(final_state*final_state.dag())\n",
    "    #fig = plot_cardinal([start_state_q,target_state_q,final_state_q])\n",
    "    #fig.save(name=\"../Figures/Results/cat_bloch_sphere_{}.png\".format(str(T).replace('.',',')))\n",
    "\n",
    "    #fig, ax = qutip.visualization.plot_wigner(final_state_r, figsize=(4.5,4.5), alpha_max=5)\n",
    "    #ax.set_title('')\n",
    "    #fig.savefig(fname=f\"../Figures/Results/cat_wigner_{str(T).replace('.',',')}_{i}.png\")\n",
    "\n",
    "    #fig, ax = qutip.visualization.plot_wigner_fock_distribution(final_state_r)\n",
    "    #fig, ax = qutip.visualization.plot_wigner_fock_distribution(target_state_r)\n",
    "    #fig.savefig(fname=\"../Figures/Results/cat_wigner_tar_{}.png\".format(str(T).replace('.',',')))\n",
    "\n",
    "#subprocess.call(\"../Figures/Results/move_files.sh\", shell=False)\n"
   ]
  },
  {
   "cell_type": "markdown",
   "metadata": {},
   "source": [
    "# Check pulse solution for states around the Bloch Sphere"
   ]
  },
  {
   "cell_type": "code",
   "execution_count": null,
   "metadata": {},
   "outputs": [],
   "source": [
    "def get_new_objectives(T=None, phi=states(coeffs)):\n",
    "    if use_rotating:\n",
    "        objectives = [krotov.Objective(initial_state=ψ[0], target=ψ[1], H=H) for ψ in state_rot(phi, T)]\n",
    "    else:\n",
    "        objectives = [krotov.Objective(initial_state=ψ[0], target=ψ[1], H=H) for ψ in ϕ]\n",
    "    return objectives"
   ]
  },
  {
   "cell_type": "code",
   "execution_count": null,
   "metadata": {},
   "outputs": [],
   "source": [
    "def fid_from_state(coeffs):\n",
    "    coeffs = [coeffs]\n",
    "    folder = 'cat-code'\n",
    "    phi = states(coeffs)\n",
    "    results = [(krotov.result.Result.load(os.path.join(os.getcwd(),folder,file), objectives=get_new_objectives(T=float(file.split('_')[-1][:-4]),phi=phi)), float(file.split('_')[-1][:-4])) for file in os.listdir(folder) if file[-4:]=='.dat']\n",
    "    results = [results[-1]]\n",
    "    r = results[-1][0]\n",
    "    T = results[-1][1]\n",
    "    tlist = r.tlist\n",
    "    opt_dynamics = [ob.propagate(tlist, propagator=krotov.propagators.expm) for ob in r.optimized_objectives]\n",
    "    final_state = opt_dynamics[0].states[-1]\n",
    "    target_state = r.objectives[0].target\n",
    "    #qutip.visualization.plot_wigner(target_state.ptrace(1))\n",
    "    print([coeffs[0][0], coeffs[0][1], fid(final_state, target_state)])"
   ]
  },
  {
   "cell_type": "code",
   "execution_count": null,
   "metadata": {},
   "outputs": [],
   "source": [
    "bloch_space = []\n",
    "for theta in np.linspace(0,π,40):\n",
    "    for phi in np.linspace(0,2*π,20):\n",
    "        coef = (np.cos(theta)  ,  np.exp(1j*phi)*np.sin(theta))\n",
    "        bloch_space.append(coef)\n",
    "bloch_space = bloch_space[19:-19]\n",
    "bloch_space"
   ]
  },
  {
   "cell_type": "code",
   "execution_count": null,
   "metadata": {
    "scrolled": true
   },
   "outputs": [],
   "source": [
    "bl = qutip.Bloch()\n",
    "\n",
    "bl.point_marker = 'o'\n",
    "bl.point_color = 'r'\n",
    "bl.add_states(qutip.basis(2,0), kind='point')\n",
    "bl.add_states(qutip.basis(2,1), kind='point')\n",
    "bl.show()"
   ]
  },
  {
   "cell_type": "code",
   "execution_count": null,
   "metadata": {
    "scrolled": true
   },
   "outputs": [],
   "source": [
    "import multiprocessing\n",
    "state_list = bloch_space\n",
    "pool = multiprocessing.Pool(processes=4)\n",
    "pool.map(fid_from_state, state_list)\n",
    "pool.close()\n",
    "pool.join()\n",
    "print('DONE')\n"
   ]
  },
  {
   "cell_type": "code",
   "execution_count": null,
   "metadata": {},
   "outputs": [],
   "source": [
    "#result_list = [eval(res) for res in result_list.split('\\n')[1:-1]]\n",
    "#result_list = result_list[1:-1]\n",
    "#fid_list = [res[2] for res in result_list]\n",
    "for c in [(0,np.exp(1j*0))]:\n",
    "    fid_from_state(c)"
   ]
  },
  {
   "cell_type": "code",
   "execution_count": null,
   "metadata": {},
   "outputs": [],
   "source": [
    "%matplotlib inline\n",
    "bl = qutip.Bloch()\n",
    "bl.point_marker = 'o'\n",
    "colors = [[(res[2]-fid_min)/(fid_max-fid_min),0 , (fid_max-res[2])/(fid_max-fid_min)] for res in result_list]\n",
    "bl.point_color = colors\n",
    "for res in result_list:\n",
    "    bl.add_states((states([(res[0],res[1])])[0][0]).ptrace(0), kind='point')\n",
    "bl.view = (-90,90)\n",
    "bl.show()"
   ]
  },
  {
   "cell_type": "code",
   "execution_count": null,
   "metadata": {},
   "outputs": [],
   "source": []
  },
  {
   "cell_type": "code",
   "execution_count": null,
   "metadata": {},
   "outputs": [],
   "source": [
    "#color_list = [[i/len(opt_dynamics[0].states),i/len(opt_dynamics[0].states),i/len(opt_dynamics[0].states)] for i in range(len(opt_dynamics[0].states))]\n",
    "color_list = linear_gradient('#FFF0F0','#0000FF', n = len(opt_dynamics[0].states))\n",
    "#bl = plot_evolution(opt_dynamics[1],steps=1, color_list=color_list)\n",
    "plot_cardinal([opt_dynamics[2].states[0]])"
   ]
  },
  {
   "cell_type": "code",
   "execution_count": null,
   "metadata": {},
   "outputs": [],
   "source": [
    "qutip.operators.destroy(2)*[basis(2,0),basis(2,1)]"
   ]
  },
  {
   "cell_type": "code",
   "execution_count": null,
   "metadata": {},
   "outputs": [],
   "source": [
    "def hex_to_RGB(hex):\n",
    "    ''' \"#FFFFFF\" -> [255,255,255] '''\n",
    "    # Pass 16 to the integer function for change of base\n",
    "    return [int(hex[i:i+2], 16) for i in range(1,6,2)]\n",
    "\n",
    "\n",
    "def RGB_to_hex(RGB):\n",
    "    ''' [255,255,255] -> \"#FFFFFF\" '''\n",
    "    # Components need to be integers for hex to make sense\n",
    "    RGB = [int(x) for x in RGB]\n",
    "    return \"#\"+\"\".join([\"0{0:x}\".format(v) if v < 16 else\n",
    "            \"{0:x}\".format(v) for v in RGB])\n",
    "\n",
    "def linear_gradient(start_hex, finish_hex=\"#FFFFFF\", n=10):\n",
    "    s = hex_to_RGB(start_hex)\n",
    "    f = hex_to_RGB(finish_hex)\n",
    "    # Initilize a list of the output colors with the starting color\n",
    "    RGB_list = [s]\n",
    "    # Calcuate a color at each evenly spaced value of t from 1 to n\n",
    "    for t in range(1, n):\n",
    "    # Interpolate RGB vector for color at the current value of t\n",
    "        curr_vector = [\n",
    "          int(s[j] + (float(t)/(n-1))*(f[j]-s[j]))\n",
    "          for j in range(3)\n",
    "        ]\n",
    "        # Add it to our list of output colors\n",
    "        RGB_list.append(curr_vector)\n",
    "\n",
    "    return np.array(RGB_list)/255"
   ]
  },
  {
   "cell_type": "markdown",
   "metadata": {},
   "source": [
    "# Other plots and gif generation"
   ]
  },
  {
   "cell_type": "code",
   "execution_count": null,
   "metadata": {},
   "outputs": [],
   "source": [
    "occs2"
   ]
  },
  {
   "cell_type": "code",
   "execution_count": null,
   "metadata": {},
   "outputs": [],
   "source": [
    "#occs2 = [[occ[i] for occ in occs] for i in range(8)]\n",
    "#print(occs2)\n",
    "fig, ax= plt.subplots()\n",
    "ax.plot([f'$|{i}\\\\rangle$' for i in range(8)],occs2,'.')\n",
    "ax.set_xlabel('Resonator fock state')\n",
    "ax.set_ylabel('Maximum occupation')\n",
    "#ax.legend(['\\(\\ket{0}\\)','\\(\\ket{1}\\)','\\((\\ket{0}+\\ket{1})/\\sqrt{2}\\)','\\((\\ket{0}-\\ket{1})/\\sqrt{2}\\)','\\((\\ket{0}+i\\ket{1})/\\sqrt{2}\\)','\\((\\ket{0}-i\\ket{1})/\\sqrt{2}\\)'])\n",
    "#matplotlib2tikz.save(\"../Figures/Results/cat_max_occ.tikz\",\n",
    "#                     figureheight = '\\\\figureheight',figurewidth = '\\\\figurewidth')\n",
    "#subprocess.call(\"../Figures/Results/move_files.sh\", shell=False)"
   ]
  },
  {
   "cell_type": "code",
   "execution_count": null,
   "metadata": {},
   "outputs": [],
   "source": [
    "def gif_fun(start, opt):\n",
    "    import matplotlib.pyplot as plt\n",
    "    import qutip\n",
    "    fig, ax = plt.subplots(figsize=(16,4))\n",
    "    for (state, i) in zip(opt.states, range(len(opt.states))):\n",
    "        if f'{str(i).zfill(4)}.png' not in os.listdir('gif'):\n",
    "            qutip.visualization.plot_fock_distribution(state.ptrace(1), fig=fig, ax=ax);\n",
    "            fig.savefig(fname=f'fock_gif/{str(i).zfill(4)}.png');\n",
    "            ax.clear();"
   ]
  },
  {
   "cell_type": "code",
   "execution_count": null,
   "metadata": {},
   "outputs": [],
   "source": [
    "def gif_fun(start, opt_dynamics):\n",
    "    import matplotlib.pyplot as plt\n",
    "    import qutip\n",
    "    fig, ax = plt.subplots(figsize=(16,4))\n",
    "    L=8\n",
    "    tlist = opt_dynamics.times\n",
    "    occ = [qutip.basis(L,i)*qutip.basis(L,i).dag() for i in range(0,L)]\n",
    "    states = [state.ptrace(1) for state in opt_dynamics.states]\n",
    "    n = qutip.expect(occ, states)\n",
    "    for i in range(len(n)):\n",
    "        ax.plot(tlist, n[i])\n",
    "    ax.set_xlabel('Time (ns)')\n",
    "    ax.set_ylabel('Occupation')\n",
    "    time_line = ax.axvline(tlist[1919], color='k',linestyle='--', linewidth=1)\n",
    "    occ_points = [ax.scatter(tlist[1919], n[p][0], s=25,edgecolors='k',linewidth=1) for p in range(len(n))]\n",
    "    for i in range(len(tlist)):\n",
    "        time_line.set_xdata([tlist[i],tlist[i]])\n",
    "        for p in range(len(n)):\n",
    "            occ_points[p].set_offsets([tlist[i],n[p][i]])\n",
    "        fig.savefig(fname=f'res_occupation_gif/{str(i).zfill(4)}.png');\n",
    "#qutip.visualization.plot_wigner_fock_distribution(opt_dynamics[0].states[1919].ptrace(1), fig=fig, axes=ax)"
   ]
  },
  {
   "cell_type": "code",
   "execution_count": null,
   "metadata": {},
   "outputs": [],
   "source": [
    "pulses"
   ]
  },
  {
   "cell_type": "code",
   "execution_count": null,
   "metadata": {},
   "outputs": [],
   "source": [
    "fig, ax = plt.subplots(figsize=(16,4));\n",
    "fig, ax = plot_results_iteration(results, fig=fig);\n",
    "time_line = ax.axvline(0, color='k',linestyle='--', linewidth=1)\n",
    "point = ax.scatter(0,0, s=25,edgecolors='k',linewidth=1)\n",
    "for i in range(911):\n",
    "    point.set_offsets([range(911)[i],results[-1][0].info_vals[i]])\n",
    "    time_line.set_xdata([i,i])\n",
    "    fig.savefig(fname=f'cat_fid_gif/{str(i).zfill(3)}.png');"
   ]
  },
  {
   "cell_type": "code",
   "execution_count": null,
   "metadata": {
    "scrolled": true
   },
   "outputs": [],
   "source": [
    "fig, ax = plt.subplots(figsize=(16,4));\n",
    "for i in range(len(results[-1][0].all_pulses)):\n",
    "    plot_pulse((results[-1][0].all_pulses[i][2][:1919]+1j*results[-1][0].all_pulses[i][3][:1919]),results[-1][0].tlist[:1919], fig=fig);\n",
    "    fig.savefig(fname=f'cat_pulse_res_optim_gif/{str(i).zfill(4)}.png');\n",
    "    ax.clear();"
   ]
  },
  {
   "cell_type": "code",
   "execution_count": null,
   "metadata": {},
   "outputs": [],
   "source": [
    "import multiprocessing  \n",
    "\n",
    "pool = multiprocessing.Pool(processes=4)\n",
    "pool.starmap(gif_fun, [(0, opt_dynamics[0]),(480, opt_dynamics[0]),(2*480, opt_dynamics[0]),(3*480, opt_dynamics[0])])\n",
    "pool.close()\n",
    "pool.join()   \n",
    "print('done')"
   ]
  },
  {
   "cell_type": "code",
   "execution_count": null,
   "metadata": {
    "scrolled": true
   },
   "outputs": [],
   "source": [
    "xlabels = ['$|0\\\\rangle$','$|1\\\\rangle$','$|2\\\\rangle$']\n",
    "ylabels = ['$\\\\langle 0|$','$\\\\langle 1|$','$\\\\langle 2|$']\n",
    "final_state = results[-1][0].states[0]\n",
    "final_state = opt_dynamics[0].states[-1]\n",
    "target_state = results[0][0].objectives[0].target\n",
    "#plot_matrix_final_target(target_state, final_state, xlabels, ylabels, el=45, az=150)\n",
    "#plot_matrix_final_target(target_state, final_state, xlabels, ylabels, el=10, az=150)\n",
    "plot_cardinal([target_state, final_state])\n",
    "#plot_evolution(opt_dynamics)\n",
    "qutip.visualization.plot_wigner_fock_distribution(final_state.ptrace(1))\n",
    "qutip.visualization.plot_wigner_fock_distribution(target_state.ptrace(1))\n",
    "\n",
    "print(fid(final_state, target_state))\n",
    "qutip.visualization.hinton(final_state.ptrace(0)*final_state.ptrace(0).dag())"
   ]
  },
  {
   "cell_type": "code",
   "execution_count": null,
   "metadata": {},
   "outputs": [],
   "source": [
    "np.abs((ω_q - ω_r)/(2*π))"
   ]
  },
  {
   "cell_type": "code",
   "execution_count": null,
   "metadata": {
    "scrolled": true
   },
   "outputs": [],
   "source": [
    "plot_spectrum(pulses_lab[0], tlist2, mark_freq=[ω_q, ω_ef, ω_gf, ω_r, ω_r+K_r/2, ω_r+K_r],mark_color=['r','g','b','r','g','b'], pos=0, xlim=[2*π*5, 2*π*9]);\n",
    "plot_spectrum(pulses_lab[2], tlist2, mark_freq=[ω_r, ω_r+K_r/2, ω_r+K_r , 2*ω_r - ω_q, 2*ω_r -ω_ef, 2*ω_r -ω_gf,],mark_color=['r','g','b','r','g','b'], pos=0, xlim=[ω_r*0.90, ω_r*1.4]);"
   ]
  },
  {
   "cell_type": "code",
   "execution_count": null,
   "metadata": {},
   "outputs": [],
   "source": [
    "from matplotlib.font_manager import findfont, FontProperties\n",
    "font = findfont(FontProperties(family=['sans-serif']))\n",
    "font"
   ]
  },
  {
   "cell_type": "markdown",
   "metadata": {},
   "source": [
    "# Simulate dynamics in lab frame (old and unused)"
   ]
  },
  {
   "cell_type": "code",
   "execution_count": null,
   "metadata": {},
   "outputs": [],
   "source": [
    "#rotating_pulses = [np.vectorize(H_i[1])(tlist, None) for H_i in H[1:]]\n",
    "rotating_pulses = oct_result.optimized_controls\n",
    "\n",
    "tlist2 = np.linspace(0, T, int(np.ceil(200*T/T_q)))\n",
    "Ω = rotating_pulses[0]+1j*rotating_pulses[1]\n",
    "Ω = np.interp(tlist2, tlist, Ω)\n",
    "pulses_lab = [Ω*np.exp(1j*ω_q*tlist2), np.conj(Ω)*np.exp(-1j*ω_q*tlist2)]\n",
    "H_lab = hamiltonian(ω=1.0, ampl0=1, use_rotating=False, pulses=pulses_lab)\n",
    "objectives_lab = [krotov.Objective(initial_state=ψ[0], target=ψ[1], H=H_lab) for ψ in ϕ]\n",
    "opt_dynamics_lab = [ob.mesolve(tlist2, progress_bar=True, options=qutip.Options(nsteps=50000)) for ob in objectives_lab]\n",
    "\n",
    "tlist2 = np.linspace(0, T, 1000*int(np.ceil(T)))\n",
    "rotating_pulses = [np.array([H_i[1](t,0) for t in tlist]) for H_i in H[1:]]\n",
    "Ω_q = rotating_pulses[0]+1j*rotating_pulses[1]\n",
    "Ω_q = np.interp(tlist2, tlist, Ω_q)\n",
    "Ω_r = rotating_pulses[2]+1j*rotating_pulses[3]\n",
    "Ω_r = np.interp(tlist2, tlist, Ω_r)\n",
    "pulses_lab = [Ω_q*np.exp(1j*ω_q*tlist2), np.conj(Ω_q)*np.exp(-1j*ω_q*tlist2), Ω_r*np.exp(1j*ω_r*tlist2), np.conj(Ω_r)*np.exp(-1j*ω_r*tlist2)]\n",
    "H_lab = hamiltonian(ampl0=1, use_rotating=False, pulses=pulses_lab)\n",
    "objectives_lab = [krotov.Objective(initial_state=ψ[0], target=ψ[1], H=H_lab) for ψ in ϕ]\n",
    "opt_dynamics_lab = [ob.mesolve(tlist2, progress_bar=True, options=qutip.Options(nsteps=50000)) for ob in r.optimized_objectives]"
   ]
  },
  {
   "cell_type": "code",
   "execution_count": null,
   "metadata": {},
   "outputs": [],
   "source": [
    "plot_pulse(Ω, tlist2)\n",
    "[plot_pulse(p, tlist2) for p in pulses_lab];"
   ]
  },
  {
   "cell_type": "code",
   "execution_count": null,
   "metadata": {},
   "outputs": [],
   "source": [
    "qubit_occupation(opt_dynamics_lab[0])\n",
    "#plot_evolution(opt_dynamics_lab)"
   ]
  },
  {
   "cell_type": "code",
   "execution_count": null,
   "metadata": {},
   "outputs": [],
   "source": [
    "plot_cardinal([opt_dynamics_lab[0].states[0]])\n",
    "plot_cardinal([opt_dynamics_lab[0].states[-1]])"
   ]
  },
  {
   "cell_type": "code",
   "execution_count": null,
   "metadata": {},
   "outputs": [],
   "source": [
    "qubit_pulses = pulses_lab\n",
    "time_list = tlist2"
   ]
  },
  {
   "cell_type": "code",
   "execution_count": null,
   "metadata": {},
   "outputs": [],
   "source": [
    "qubit_pulses = opt_result.optimized_controls\n",
    "time_list = tlist"
   ]
  },
  {
   "cell_type": "code",
   "execution_count": null,
   "metadata": {},
   "outputs": [],
   "source": [
    "plot_spectrum(qubit_pulses[0], time_list, mark_freq=[ω_q, ω_q + K_q, ω_q - K_q], pos=1)\n",
    "plot_spectrum(qubit_pulses[1], time_list, mark_freq=[ω_q, ω_q + K_q, ω_q - K_q], pos=-1)"
   ]
  },
  {
   "cell_type": "code",
   "execution_count": null,
   "metadata": {},
   "outputs": [],
   "source": []
  }
 ],
 "metadata": {
  "hide_input": false,
  "kernelspec": {
   "display_name": "Python 3",
   "language": "python",
   "name": "python3"
  },
  "language_info": {
   "codemirror_mode": {
    "name": "ipython",
    "version": 3
   },
   "file_extension": ".py",
   "mimetype": "text/x-python",
   "name": "python",
   "nbconvert_exporter": "python",
   "pygments_lexer": "ipython3",
   "version": "3.7.2"
  },
  "toc": {
   "base_numbering": 1,
   "nav_menu": {},
   "number_sections": true,
   "sideBar": true,
   "skip_h1_title": false,
   "title_cell": "Table of Contents",
   "title_sidebar": "Contents",
   "toc_cell": false,
   "toc_position": {},
   "toc_section_display": true,
   "toc_window_display": false
  },
  "varInspector": {
   "cols": {
    "lenName": 16,
    "lenType": 16,
    "lenVar": 40
   },
   "kernels_config": {
    "python": {
     "delete_cmd_postfix": "",
     "delete_cmd_prefix": "del ",
     "library": "var_list.py",
     "varRefreshCmd": "print(var_dic_list())"
    },
    "r": {
     "delete_cmd_postfix": ") ",
     "delete_cmd_prefix": "rm(",
     "library": "var_list.r",
     "varRefreshCmd": "cat(var_dic_list()) "
    }
   },
   "types_to_exclude": [
    "module",
    "function",
    "builtin_function_or_method",
    "instance",
    "_Feature"
   ],
   "window_display": false
  }
 },
 "nbformat": 4,
 "nbformat_minor": 2
}
