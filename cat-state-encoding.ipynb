{
 "cells": [
  {
   "cell_type": "markdown",
   "metadata": {},
   "source": [
    "$ \\newcommand{\\ket}[1]{\\left|{#1}\\right\\rangle}\n",
    "\\newcommand{\\bra}[1]{\\left\\langle{#1}\\right|} $\n",
    "# Cat state encoding\n",
    "The main goal is to find control pulses which will realise the state transfer:\n",
    "$$ \\underbrace{(c_0\\ket{0} + c_1\\ket{1})}_{\\text{Qubit}}\\underbrace{\\ket{0}}_{\\text{Cavity}} \\rightarrow \\ket{0}(c_0\\ket{C_0} + c_1 \\ket{C_1}) $$\n",
    "where $ \\ket{C_0} \\propto \\ket{-\\alpha} + \\ket{\\alpha} $ is the logical zero and $ \\ket{C_1} \\propto \\ket{-i\\alpha} + \\ket{i\\alpha} $ is the logical one. The method is to optimise such that the six cardinal points on the Bloch sphere realise these cavity cat states and puts the qubit to the ground state."
   ]
  },
  {
   "cell_type": "code",
   "execution_count": 1,
   "metadata": {},
   "outputs": [
    {
     "name": "stdout",
     "output_type": "stream",
     "text": [
      "3.141592653589793\n"
     ]
    }
   ],
   "source": [
    "import numpy as np\n",
    "print(np.pi)"
   ]
  },
  {
   "cell_type": "code",
   "execution_count": null,
   "metadata": {},
   "outputs": [],
   "source": []
  }
 ],
 "metadata": {
  "kernelspec": {
   "display_name": "Python 3",
   "language": "python",
   "name": "python3"
  },
  "language_info": {
   "codemirror_mode": {
    "name": "ipython",
    "version": 3
   },
   "file_extension": ".py",
   "mimetype": "text/x-python",
   "name": "python",
   "nbconvert_exporter": "python",
   "pygments_lexer": "ipython3",
   "version": "3.7.2"
  }
 },
 "nbformat": 4,
 "nbformat_minor": 2
}
