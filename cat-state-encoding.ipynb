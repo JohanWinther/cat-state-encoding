{
 "cells": [
  {
   "cell_type": "markdown",
   "metadata": {},
   "source": [
    "$ \\newcommand{\\ket}[1]{\\left|{#1}\\right\\rangle}\n",
    "\\newcommand{\\bra}[1]{\\left\\langle{#1}\\right|} $\n",
    "$\\newcommand{\\au}{\\hat{a}^\\dagger}$\n",
    "$\\newcommand{\\ad}{\\hat{a}}$\n",
    "$\\newcommand{\\bu}{\\hat{b}^\\dagger}$\n",
    "$\\newcommand{\\bd}{\\hat{b}}$\n",
    "# Cat state encoding\n",
    "The main goal is to find control pulses which will realise the state transfer:\n",
    "$$ \\underbrace{(c_0\\ket{0} + c_1\\ket{1})}_{\\text{Qubit}}\\underbrace{\\ket{0}}_{\\text{Cavity}} \\rightarrow \\ket{0}(c_0\\ket{C_0} + c_1 \\ket{C_1}) $$\n",
    "where $ \\ket{C_0} \\propto \\ket{-\\alpha} + \\ket{\\alpha} $ is the logical zero and $ \\ket{C_1} \\propto \\ket{-i\\alpha} + \\ket{i\\alpha} $ is the logical one. The method is to optimise such that the six cardinal points on the Bloch sphere realise these cavity cat states and puts the qubit to the ground state."
   ]
  },
  {
   "cell_type": "code",
   "execution_count": null,
   "metadata": {},
   "outputs": [],
   "source": [
    "%matplotlib inline\n",
    "import numpy as np\n",
    "import matplotlib.pyplot as plt\n",
    "import datetime"
   ]
  },
  {
   "cell_type": "code",
   "execution_count": null,
   "metadata": {},
   "outputs": [],
   "source": [
    "from qutip import identity, sigmax, sigmay, sigmaz, sigmam, sigmap, tensor, projection, create\n",
    "from qutip import Qobj, basis, coherent\n",
    "from qutip.superoperator import liouvillian, sprepost\n",
    "from qutip.qip import hadamard_transform\n",
    "from qutip.visualization import plot_wigner, plot_wigner_fock_distribution\n",
    "import qutip.logging_utils as logging\n",
    "logger = logging.get_logger()\n",
    "#Set this to None or logging.WARN for 'quiet' execution\n",
    "log_level = logging.INFO\n",
    "#QuTiP control modules\n",
    "import qutip.control.pulseoptim as cpo\n",
    "\n",
    "file_name = 'Test1'"
   ]
  },
  {
   "cell_type": "code",
   "execution_count": null,
   "metadata": {},
   "outputs": [],
   "source": [
    "b = projection(2, 1, 1)\n",
    "#b = Qobj([[0,0],[0,1]]).dag()\n",
    "b.dag()**2 * b**2\n",
    "sigmap()"
   ]
  },
  {
   "cell_type": "markdown",
   "metadata": {},
   "source": [
    "# Physics\n",
    "## Hamiltonian\n",
    "$$ \\hat{H} =  \\underbrace{(\\omega_a - \\chi_{sa}\\au\\ad)\\bu\\bd}_{\\text{Storage-ancilla coupling}} +\\, \\omega_s\\au\\ad  \\,-\\, \\frac{K_s}{2}\\au{}^2\\ad{}^2 \\,-\\, \\frac{K_a}{2}\\bu{}^2\\bd{}^2 \\,+\\, \\underbrace{\\epsilon_a(t)\\bu + \\epsilon_a^*(t)\\bd}_{\\text{Qubit drive}} \\,+\\, \\underbrace{\\epsilon_s(t)\\au + \\epsilon_s^*(t)\\ad}_{\\text{Res drive}} $$\n",
    "\n",
    "$$ \\bu\\bd = \\ket{1}\\bra{1} $$"
   ]
  },
  {
   "cell_type": "code",
   "execution_count": null,
   "metadata": {},
   "outputs": [],
   "source": [
    "N = 30 # Hilbert space size\n",
    "alpha = 3\n",
    "\n",
    "Sx = sigmax()\n",
    "Sy = sigmay()\n",
    "Sz = sigmaz()\n",
    "Sm = sigmam()\n",
    "Si = identity(2)\n",
    "Ri = identity(N)\n",
    "a  = create(N)\n",
    "b  = projection(2, 1, 1)\n",
    "\n",
    "# Hamiltonian - RWA JC, qubit-storage coupling\n",
    "w_q = 1.0    # Energy of the 2-level system.\n",
    "w_r = 1.0    # Resonator freq\n",
    "X_qr= 1.0    # qubit-storage coupling strength\n",
    "K_r   = 1.0    # Kerr res\n",
    "K_q   = 1.0    # Kerr qubit\n",
    "\n",
    "H0 = ( w_r* tensor(Si, a.dag()*a)\n",
    "    + (w_q - X_qr * tensor(Si, a.dag()*a)) * tensor(b.dag()*b, Ri)\n",
    "    - K_r/2 * tensor(Si,a.dag()**2 * a**2) - K_q/2 * tensor(b.dag()**2 * b**2, Ri))\n",
    "\n",
    "#Amplitude damping\n",
    "#Damping rate:\n",
    "#gamma = 0.1\n",
    "#L0 = liouvillian(H, [np.sqrt(gamma)*Sm])\n",
    "\n",
    "#sigma X control\n",
    "#LC_x = liouvillian(Sx)\n",
    "#sigma Y control\n",
    "#LC_y = liouvillian(Sy)\n",
    "#sigma Z control\n",
    "#LC_z = liouvillian(Sz)\n",
    "\n",
    "#Drift\n",
    "#drift = L0\n",
    "drift = H0\n",
    "#Controls - \n",
    "q_r = b.dag()\n",
    "q_i = b\n",
    "r_r = a.dag()\n",
    "r_i = a\n",
    "\n",
    "ctrls = [tensor(q_r, Ri), tensor(q_i, Ri),tensor(Si, r_r),tensor(Si, r_i)]\n",
    "\n",
    "# Starting state\n",
    "phi = tensor(basis(2,1), basis(N,0))\n",
    "\n",
    "N_alpha = 1/(2*(1+np.exp(-2*abs(alpha)^2)))\n",
    "res_targ_0 = (coherent(N, alpha*j) + coherent(N,-alpha*j)).unit()\n",
    "#print(phi)\n",
    "#print(res_targ_0)\n",
    "# target for map evolution\n",
    "phi_targ = tensor(basis(2,0), res_targ_0)\n",
    "#print(phi_targ)"
   ]
  },
  {
   "cell_type": "code",
   "execution_count": null,
   "metadata": {},
   "outputs": [],
   "source": [
    "def plot_wigners(states):\n",
    "    #f = plt.figure(figsize=(6*len(states), 6))\n",
    "    for i, state in enumerate(states):\n",
    "        #a = f.add_subplot(1,len(states),i+1)\n",
    "        plot_wigner_fock_distribution(state,)#fig=f,ax = a)\n",
    "        #a.axis('equal')\n",
    "\n",
    "states = [phi, phi_targ]\n",
    "states = [s.ptrace(1) for s in states]\n",
    "plot_wigners(states)\n"
   ]
  },
  {
   "cell_type": "code",
   "execution_count": null,
   "metadata": {},
   "outputs": [],
   "source": [
    "# Time slot length\n",
    "l_ts = 1e-9\n",
    "# Time allowed for the evolution (sec)\n",
    "evo_time = 500e-9\n",
    "# Number of time slots\n",
    "n_ts = int(evo_time//l_ts + 1)"
   ]
  },
  {
   "cell_type": "code",
   "execution_count": null,
   "metadata": {},
   "outputs": [],
   "source": [
    "# Fidelity error target\n",
    "fid_err_targ = 1e-3\n",
    "# Maximum iterations for the optisation algorithm\n",
    "max_iter = 200\n",
    "# Maximum (elapsed) time allowed in seconds\n",
    "max_wall_time = 30\n",
    "# Minimum gradient (sum of gradients squared)\n",
    "# as this tends to 0 -> local minima has been found\n",
    "min_grad = 1e-20\n",
    "# pulse type alternatives: RND|ZERO|LIN|SINE|SQUARE|SAW|TRIANGLE|\n",
    "p_type = 'RND'\n",
    "#Set to None to suppress output files\n",
    "#f_ext = \"{}_n_ts{}_ptype{}.txt\".format(example_name, n_ts, p_type)\n",
    "f_ext = None\n",
    "result = cpo.optimize_pulse(drift, ctrls, phi, phi_targ, n_ts, evo_time, \n",
    "                fid_err_targ=fid_err_targ, min_grad=min_grad, \n",
    "                max_iter=max_iter, max_wall_time=max_wall_time, \n",
    "                out_file_ext=f_ext, init_pulse_type=p_type, \n",
    "                log_level=log_level, gen_stats=True)"
   ]
  },
  {
   "cell_type": "code",
   "execution_count": null,
   "metadata": {},
   "outputs": [],
   "source": [
    "result.stats.report()\n",
    "print(\"Final evolution\\n{}\\n\".format(result.evo_full_final))\n",
    "print(\"********* Summary *****************\")\n",
    "print(\"Initial fidelity error {}\".format(result.initial_fid_err))\n",
    "print(\"Final fidelity error {}\".format(result.fid_err))\n",
    "print(\"Final gradient normal {}\".format(result.grad_norm_final))\n",
    "print(\"Terminated due to {}\".format(result.termination_reason))\n",
    "print(\"Number of iterations {}\".format(result.num_iter))\n",
    "print(\"Completed in {} HH:MM:SS.US\".format(datetime.timedelta(seconds=result.wall_time)))"
   ]
  },
  {
   "cell_type": "code",
   "execution_count": null,
   "metadata": {},
   "outputs": [],
   "source": [
    "fig1 = plt.figure()\n",
    "ax1 = fig1.add_subplot(2, 1, 1)\n",
    "ax1.set_title(\"Initial control amps\")\n",
    "ax1.set_xlabel(\"Time\")\n",
    "ax1.set_ylabel(\"Control amplitude\")\n",
    "for i in range(1):\n",
    "    ax1.step(result.time, \n",
    "             np.hstack((result.initial_amps[:, i], result.initial_amps[-1, i])), \n",
    "             where='post')\n",
    "\n",
    "ax2 = fig1.add_subplot(2, 1, 2)\n",
    "ax2.set_title(\"Optimised Control Sequences\")\n",
    "ax2.set_xlabel(\"Time\")\n",
    "ax2.set_ylabel(\"Control amplitude\")\n",
    "for i in range(1):\n",
    "    ax2.step(result.time, \n",
    "             np.hstack((result.final_amps[:, i], result.final_amps[-1, i])), \n",
    "             where='post')\n",
    "fig1.tight_layout()"
   ]
  },
  {
   "cell_type": "code",
   "execution_count": null,
   "metadata": {},
   "outputs": [],
   "source": [
    "res_final = result.evo_full_final.ptrace(1)\n",
    "plot_wigner(res_final)"
   ]
  },
  {
   "cell_type": "code",
   "execution_count": null,
   "metadata": {},
   "outputs": [],
   "source": [
    "plot_wigner(phi_targ.ptrace(1))"
   ]
  },
  {
   "cell_type": "code",
   "execution_count": null,
   "metadata": {},
   "outputs": [],
   "source": [
    "plot_wigner(phi.ptrace(0))"
   ]
  },
  {
   "cell_type": "code",
   "execution_count": null,
   "metadata": {},
   "outputs": [],
   "source": []
  }
 ],
 "metadata": {
  "kernelspec": {
   "display_name": "Python 3",
   "language": "python",
   "name": "python3"
  },
  "language_info": {
   "codemirror_mode": {
    "name": "ipython",
    "version": 3
   },
   "file_extension": ".py",
   "mimetype": "text/x-python",
   "name": "python",
   "nbconvert_exporter": "python",
   "pygments_lexer": "ipython3",
   "version": "3.7.1"
  }
 },
 "nbformat": 4,
 "nbformat_minor": 2
}
