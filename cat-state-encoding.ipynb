{
 "cells": [
  {
   "cell_type": "markdown",
   "metadata": {},
   "source": [
    "$ \\newcommand{\\ket}[1]{\\left|{#1}\\right\\rangle}\n",
    "\\newcommand{\\bra}[1]{\\left\\langle{#1}\\right|} $\n",
    "$\\newcommand{\\au}{\\hat{a}^\\dagger}$\n",
    "$\\newcommand{\\ad}{\\hat{a}}$\n",
    "$\\newcommand{\\bu}{\\hat{b}^\\dagger}$\n",
    "$\\newcommand{\\bd}{\\hat{b}}$\n",
    "# Cat state encoding\n",
    "The main goal is to find control pulses which will realise the state transfer:\n",
    "$$ \\underbrace{(c_0\\ket{0} + c_1\\ket{1})}_{\\text{Qubit}}\\underbrace{\\ket{0}}_{\\text{Cavity}} \\rightarrow \\ket{0}(c_0\\ket{C_0} + c_1 \\ket{C_1}) $$\n",
    "where $ \\ket{C_0} \\propto \\ket{-\\alpha} + \\ket{\\alpha} $ is the logical zero and $ \\ket{C_1} \\propto \\ket{-i\\alpha} + \\ket{i\\alpha} $ is the logical one. The method is to optimise such that the six cardinal points on the Bloch sphere realise these cavity cat states and puts the qubit to the ground state."
   ]
  },
  {
   "cell_type": "code",
   "execution_count": 1,
   "metadata": {},
   "outputs": [],
   "source": [
    "%matplotlib inline\n",
    "import numpy as np\n",
    "import matplotlib.pyplot as plt\n",
    "import datetime\n",
    "from matplotlib import animation, rc\n",
    "from IPython.display import HTML"
   ]
  },
  {
   "cell_type": "code",
   "execution_count": 2,
   "metadata": {},
   "outputs": [],
   "source": [
    "from qutip import *\n",
    "#from qutip import identity, sigmax, sigmay, sigmaz, sigmam, sigmap, tensor, projection, create, destroy, displace\n",
    "#from qutip import Qobj, basis, coherent, mesolve, fock\n",
    "#from qutip import expect\n",
    "from qutip.superoperator import liouvillian, sprepost\n",
    "from qutip.qip import hadamard_transform\n",
    "from qutip.visualization import plot_wigner, plot_wigner_fock_distribution\n",
    "from qutip.ipynbtools import plot_animation\n",
    "import qutip.logging_utils as logging\n",
    "#from qutip import Bloch\n",
    "logger = logging.get_logger()\n",
    "#Set this to None or logging.WARN for 'quiet' execution\n",
    "#log_level = logging.INFO\n",
    "log_level = logging.WARN\n",
    "#QuTiP control modules\n",
    "import qutip.control.pulseoptim as cpo\n",
    "from numpy import pi, sqrt\n",
    "file_name = 'Test1'"
   ]
  },
  {
   "cell_type": "code",
   "execution_count": 3,
   "metadata": {},
   "outputs": [],
   "source": [
    "from time import time\n",
    "\n",
    "def printTime(start):\n",
    "    end = time()\n",
    "    duration = end - start\n",
    "    if duration < 60:\n",
    "        return \"used: \" + str(round(duration, 2)) + \"s.\"\n",
    "    else:\n",
    "        mins = int(duration / 60)\n",
    "        secs = round(duration % 60, 2)\n",
    "        if mins < 60:\n",
    "            return \"used: \" + str(mins) + \"m \" + str(secs) + \"s.\"\n",
    "        else:\n",
    "            hours = int(duration / 3600)\n",
    "            mins = mins % 60\n",
    "            return \"used: \" + str(hours) + \"h \" + str(mins) + \"m \" + str(secs) + \"s.\"\n"
   ]
  },
  {
   "cell_type": "markdown",
   "metadata": {},
   "source": [
    "# Physics\n",
    "## Hamiltonian\n",
    "$$ \\hat{H} =  \\underbrace{(\\omega_a - \\chi_{sa}\\au\\ad)\\bu\\bd}_{\\text{Storage-ancilla coupling}} +\\, \\omega_s\\au\\ad  \\,-\\, \\frac{K_s}{2}\\au{}^2\\ad{}^2 \\,-\\, \\frac{K_a}{2}\\bu{}^2\\bd{}^2 \\,+\\, \\underbrace{\\epsilon_a(t)\\bu + \\epsilon_a^*(t)\\bd}_{\\text{Qubit drive}} \\,+\\, \\underbrace{\\epsilon_s(t)\\au + \\epsilon_s^*(t)\\ad}_{\\text{Res drive}} $$\n",
    "\n",
    "$$ \\bu\\bd = \\ket{1}\\bra{1} = \\sigma_-\\sigma_+ $$"
   ]
  },
  {
   "cell_type": "code",
   "execution_count": 4,
   "metadata": {},
   "outputs": [],
   "source": [
    "N = 20 # Hilbert space size\n",
    "alpha = sqrt(4)\n",
    "\n",
    "Sx = sigmax()\n",
    "Sy = sigmay()\n",
    "Sz = sigmaz()\n",
    "Si = identity(2)\n",
    "Ri = identity(N)\n",
    "I  = tensor(Si,Ri)\n",
    "Sx = tensor(sigmax(), Ri)\n",
    "Sz = tensor(sigmaz(), Ri)\n",
    "Sm = tensor(sigmam(), Ri)\n",
    "Sp = tensor(sigmap(), Ri)\n",
    "a  = tensor(Si, destroy(N))\n",
    "b  = Sp\n",
    "\n",
    "\n",
    "\n",
    "# Hamiltonian - RWA JC, qubit-storage coupling\n",
    "w_q = 2*pi*6.2815      # Energy of the 2-level system (GHz)\n",
    "w_r = 2*pi*8.3056      # Resonator freq\n",
    "chi_qr= 2*pi*1.97e-3     # qubit-storage coupling strength\n",
    "K_r   = 2*pi*0.45e-3   # Kerr res\n",
    "K_q   = 2*pi*297e-3    # Kerr qubit 200-300 MHz\n",
    "\n",
    "#w_r = 2.0 * 2 * pi      # resonator frequency\n",
    "#w_q = 3.0 * 2 * pi      # qubit frequency\n",
    "#chi_qr = 0.025 * 2 * pi   # parameter in the dispersive hamiltonian\n",
    "\n",
    "#Damping rate:\n",
    "gamma = 2*pi*2e-6\n",
    "use_dispersive = True\n",
    "use_kerr = False\n",
    "\n",
    "delta = abs(w_r - w_q)    # detuning\n",
    "g = sqrt(delta * chi_qr)  # coupling strength that is consistent with chi\n",
    "\n",
    "\n",
    "\n",
    "#H_occ = w_r*a.dag()*a + w_q*b.dag()*b\n",
    "H_occ = w_r * (a.dag() * a + I/2.0) + (w_q / 2.0) * Sz\n",
    "\n",
    "\n",
    "if use_dispersive:\n",
    "    #H_coup = - chi_qr * a.dag()*a * b.dag()*b\n",
    "    H_coup =  chi_qr * (a.dag() * a + I/2) * Sz\n",
    "else:\n",
    "    #H_coup = g * (a.dag() * b + a * b.dag())\n",
    "    H_coup = g * (a.dag() + a) * Sx\n",
    "if use_kerr:\n",
    "    H_kerr = - K_r/2 * a.dag()**2 * a**2 - K_q/2 * b.dag()**2 * b**2\n",
    "else:\n",
    "    H_kerr = 0\n",
    "\n",
    "H0 = H_occ + H_coup + H_kerr\n",
    "\n",
    "decay = [np.sqrt(gamma)*b]\n",
    "L0 = liouvillian(H0, decay)\n",
    "\n",
    "#sigma X control\n",
    "#LC_x = liouvillian(Sx)\n",
    "#sigma Y control\n",
    "#LC_y = liouvillian(Sy)\n",
    "#sigma Z control\n",
    "#LC_z = liouvillian(Sz)\n",
    "\n",
    "#Drift\n",
    "drift = L0\n",
    "#Controls - \n",
    "\n",
    "ctrls = [liouvillian(b.dag(), decay)]\n",
    "\n",
    "\n",
    "# Starting state\n",
    "#N_alpha = 1/(2*(1+np.exp(-2*abs(alpha)^2)))\n",
    "logical_0 = (coherent(N, alpha) + coherent(N,-alpha)).unit()\n",
    "logical_1 = (coherent(N, alpha*1j) + coherent(N,-alpha*1j)).unit()\n",
    "phi = tensor(basis(2,1), basis(N,0))\n",
    "#print(phi)\n",
    "#print(res_targ_0)\n",
    "# target for map evolution\n",
    "phi_targ = tensor(basis(2,0), basis(N,0))"
   ]
  },
  {
   "cell_type": "markdown",
   "metadata": {},
   "source": [
    "# System check\n",
    "Some tests to see if the system is setup correctly"
   ]
  },
  {
   "cell_type": "markdown",
   "metadata": {},
   "source": [
    "Is $\\Delta \\gg g$?"
   ]
  },
  {
   "cell_type": "code",
   "execution_count": 5,
   "metadata": {},
   "outputs": [
    {
     "data": {
      "text/plain": [
       "32.05404699775068"
      ]
     },
     "execution_count": 5,
     "metadata": {},
     "output_type": "execute_result"
    }
   ],
   "source": [
    "delta/g"
   ]
  },
  {
   "cell_type": "markdown",
   "metadata": {},
   "source": [
    "## Time evolution"
   ]
  },
  {
   "cell_type": "code",
   "execution_count": null,
   "metadata": {},
   "outputs": [],
   "source": [
    "#psi0 = tensor(basis(2,1), basis(N,0))\n",
    "psi0 = tensor((basis(2,0)+basis(2,1).unit()), coherent(N,2))\n",
    "#psi0 = tensor(basis(2,0), basis(N,4))\n",
    "t_tot = 1000\n",
    "tlist = np.linspace(0,t_tot,1000)\n",
    "decay = False\n",
    "if decay:\n",
    "    rate = [np.sqrt(gamma) * b]\n",
    "else:\n",
    "    rate = []\n",
    "res = mesolve(H0, psi0, tlist, rate, [],options=Odeoptions(nsteps=5000),progress_bar=True)"
   ]
  },
  {
   "cell_type": "markdown",
   "metadata": {},
   "source": [
    "### Expectation values"
   ]
  },
  {
   "cell_type": "code",
   "execution_count": null,
   "metadata": {},
   "outputs": [],
   "source": [
    "nc_list = expect(a.dag()*a, res.states)\n",
    "nq_list = expect(b.dag()*b, res.states)\n",
    "\n",
    "fig, ax = plt.subplots(sharex=True,figsize=(8,5))\n",
    "ax.plot(tlist, nc_list, label=\"Cavity\")\n",
    "ax.plot(tlist, nq_list, label=\"Atom excited state\")\n",
    "ax.legend()\n",
    "ax.set_xlabel('Time (ns)')\n",
    "ax.set_ylabel('Occupation probability');\n",
    "fig.tight_layout()"
   ]
  },
  {
   "cell_type": "markdown",
   "metadata": {},
   "source": [
    "### Cavity quadratures"
   ]
  },
  {
   "cell_type": "code",
   "execution_count": null,
   "metadata": {},
   "outputs": [],
   "source": [
    "xc_list = expect((a + a.dag()), res.states)\n",
    "yc_list = expect(-1j*(a - a.dag()), res.states)\n",
    "\n",
    "fig, [ax,ax2] = plt.subplots(1,2,sharex=False, figsize=(12,4))\n",
    "\n",
    "ax.plot(tlist, xc_list, 'r', linewidth=2, label=\"q\")\n",
    "ax.plot(tlist, yc_list, 'b', linewidth=2, label=\"p\")\n",
    "ax.set_xlabel(\"Time (ns)\", fontsize=16)\n",
    "ax.legend()\n",
    "\n",
    "ax2.plot(tlist, xc_list, 'r', linewidth=2, label=\"q\")\n",
    "ax2.plot(tlist, yc_list, 'b', linewidth=2, label=\"p\")\n",
    "ax2.set_xlabel(\"Time (ns)\", fontsize=16)\n",
    "ax2.set_xlim(0,250)\n",
    "ax2.legend()\n",
    "fig.tight_layout()\n",
    "\n",
    "fig, ax = plt.subplots(1,1,sharex=False, figsize=(12,4))\n",
    "\n",
    "ax.plot(xc_list,yc_list, 'k.', linewidth=2, label=\"q\")\n",
    "ax.set_xlabel(\"q\", fontsize=16)\n",
    "ax.set_ylabel(\"p\", fontsize=16)\n",
    "ax.axis('equal')\n",
    "fig.tight_layout()"
   ]
  },
  {
   "cell_type": "markdown",
   "metadata": {},
   "source": [
    "### Spectrum of resonator and qubit"
   ]
  },
  {
   "cell_type": "code",
   "execution_count": null,
   "metadata": {},
   "outputs": [],
   "source": [
    "tlist2 = np.linspace(0, 2000, 10000)\n",
    "start = time()\n",
    "corr_vec = correlation_2op_2t(H0, psi0, None, tlist2, [], a.dag(), a, solver='me',options=Odeoptions(nsteps=5000))\n",
    "elapsed = printTime(start)\n",
    "print(elapsed)\n",
    "w, S = spectrum_correlation_fft(tlist2, corr_vec)"
   ]
  },
  {
   "cell_type": "code",
   "execution_count": null,
   "metadata": {},
   "outputs": [],
   "source": [
    "print(elapsed)"
   ]
  },
  {
   "cell_type": "code",
   "execution_count": null,
   "metadata": {},
   "outputs": [],
   "source": [
    "fig, ax = plt.subplots(1, 1, sharex=True, figsize=(12,4))\n",
    "\n",
    "ax.plot(tlist2, np.real(corr_vec), 'r', linewidth=2, label=\"resonator\")\n",
    "ax.set_ylabel(\"correlation\", fontsize=16)\n",
    "ax.set_xlabel(\"Time (ns)\", fontsize=16)\n",
    "ax.legend()\n",
    "#ax.set_xlim(0,100)\n",
    "fig.tight_layout()\n",
    "\n",
    "fig, ax = plt.subplots(figsize=(9,3))\n",
    "ax.plot(w / (2 * pi), abs(S))\n",
    "ax.set_xlabel(r'$\\omega$', fontsize=18)\n",
    "ax.set_xlim(0.3,0.35)\n",
    "#ax.set_xlim(w_r/(2*pi)-.5, w_r/(2*pi)+.5);\n",
    "\n",
    "fig, ax = plt.subplots(figsize=(9,3))\n",
    "ax.plot((w-w_r)/chi_qr, abs(S))\n",
    "ax.set_xlabel(r'$(\\omega-\\omega_r)/\\chi$', fontsize=18);\n",
    "#ax.set_xlim(-5080,-5070);"
   ]
  },
  {
   "cell_type": "code",
   "execution_count": 6,
   "metadata": {},
   "outputs": [],
   "source": [
    "def plot_wigners(states):\n",
    "    #f = plt.figure(figsize=(6*len(states), 6))\n",
    "    for i, state in enumerate(states):\n",
    "        #a = f.add_subplot(1,len(states),i+1)\n",
    "        plot_wigner_fock_distribution(state,)#fig=f,ax = a)\n",
    "        #a.axis('equal')\n",
    "\n",
    "#states = [phi, phi_targ]\n",
    "#qubit_states = [s.ptrace(0) for s in states]\n",
    "#res_states = [s.ptrace(1) for s in states]\n",
    "#plot_wigners(qubit_states)\n",
    "#plot_wigners(res_states)\n"
   ]
  },
  {
   "cell_type": "code",
   "execution_count": 7,
   "metadata": {},
   "outputs": [],
   "source": [
    "# Time slot length\n",
    "l_ts = 1\n",
    "# Time allowed for the evolution (nanosec)\n",
    "evo_time = 500\n",
    "# Number of time slots\n",
    "n_ts = int(evo_time//l_ts + 1)"
   ]
  },
  {
   "cell_type": "code",
   "execution_count": 8,
   "metadata": {},
   "outputs": [],
   "source": [
    "# Fidelity error target\n",
    "fid_err_targ = 1e-3\n",
    "# Maximum iterations for the optisation algorithm\n",
    "max_iter = 200\n",
    "# Maximum (elapsed) time allowed in seconds\n",
    "max_wall_time = 60*1\n",
    "# Minimum gradient (sum of gradients squared)\n",
    "# as this tends to 0 -> local minima has been found\n",
    "min_grad = 1e-20\n",
    "# pulse type alternatives: RND|ZERO|LIN|SINE|SQUARE|SAW|TRIANGLE|\n",
    "p_type = 'RND'\n",
    "#Set to None to suppress output files\n",
    "#f_ext = \"{}_n_ts{}_ptype{}.txt\".format(example_name, n_ts, p_type)\n",
    "f_ext = None"
   ]
  },
  {
   "cell_type": "code",
   "execution_count": null,
   "metadata": {},
   "outputs": [],
   "source": [
    "result = cpo.optimize_pulse(drift, ctrls, phi, phi_targ, n_ts, evo_time, \n",
    "                fid_err_targ=fid_err_targ, min_grad=min_grad, \n",
    "                max_iter=max_iter, max_wall_time=max_wall_time, \n",
    "                out_file_ext=f_ext, init_pulse_type=p_type, \n",
    "                log_level=log_level, gen_stats=True)\n",
    "result.stats.report()\n",
    "print(\"Final evolution\\n{}\\n\".format(result.evo_full_final))\n",
    "print(\"********* Summary *****************\")\n",
    "print(\"Initial fidelity error {}\".format(result.initial_fid_err))\n",
    "print(\"Final fidelity error {}\".format(result.fid_err))\n",
    "print(\"Final gradient normal {}\".format(result.grad_norm_final))\n",
    "print(\"Terminated due to {}\".format(result.termination_reason))\n",
    "print(\"Number of iterations {}\".format(result.num_iter))\n",
    "print(\"Completed in {} HH:MM:SS.US\".format(datetime.timedelta(seconds=result.wall_time)))"
   ]
  },
  {
   "cell_type": "code",
   "execution_count": null,
   "metadata": {
    "scrolled": false
   },
   "outputs": [],
   "source": [
    "states = [phi, phi_targ, result.evo_full_final]\n",
    "qubit_states = [s.ptrace(0) for s in states]\n",
    "res_states = [s.ptrace(1) for s in states]\n",
    "plot_wigners(qubit_states + res_states)"
   ]
  },
  {
   "cell_type": "code",
   "execution_count": null,
   "metadata": {},
   "outputs": [],
   "source": [
    "def plot_control_pulses(result):\n",
    "    fig1 = plt.figure()\n",
    "    ax1 = fig1.add_subplot(2, 1, 1)\n",
    "    ax1.set_title(\"Initial control amps\")\n",
    "    ax1.set_xlabel(\"Time\")\n",
    "    ax1.set_ylabel(\"Control amplitude\")\n",
    "    ax2 = fig1.add_subplot(2, 1, 2)\n",
    "    ax2.set_title(\"Optimised Control Sequences\")\n",
    "    ax2.set_xlabel(\"Time\")\n",
    "    ax2.set_ylabel(\"Control amplitude\")\n",
    "    for i in range(len(ctrls)):\n",
    "        ax1.step(result.time, \n",
    "                 np.hstack((result.initial_amps[:, i], result.initial_amps[-1, i])), \n",
    "                 where='post')\n",
    "        ax2.step(result.time, \n",
    "         np.hstack((result.final_amps[:, i], result.final_amps[-1, i])), \n",
    "         where='post')\n",
    "    fig1.tight_layout()\n",
    "    \n",
    "plot_control_pulses(result)"
   ]
  },
  {
   "cell_type": "code",
   "execution_count": null,
   "metadata": {},
   "outputs": [],
   "source": []
  }
 ],
 "metadata": {
  "kernelspec": {
   "display_name": "Python 3",
   "language": "python",
   "name": "python3"
  },
  "language_info": {
   "codemirror_mode": {
    "name": "ipython",
    "version": 3
   },
   "file_extension": ".py",
   "mimetype": "text/x-python",
   "name": "python",
   "nbconvert_exporter": "python",
   "pygments_lexer": "ipython3",
   "version": "3.7.1"
  }
 },
 "nbformat": 4,
 "nbformat_minor": 2
}
